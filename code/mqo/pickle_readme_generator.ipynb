{
 "cells": [
  {
   "cell_type": "markdown",
   "metadata": {},
   "source": [
    "\n",
    "# Generate a Readme file out of a pickle"
   ]
  },
  {
   "cell_type": "code",
   "execution_count": 15,
   "metadata": {},
   "outputs": [],
   "source": [
    "import pickle\n",
    "from qiskit import *\n",
    "from qiskit import Aer\n",
    "from qiskit.circuit import Parameter\n",
    "import matplotlib.pyplot as plt\n",
    "\n",
    "import numpy as np"
   ]
  },
  {
   "cell_type": "code",
   "execution_count": 5,
   "metadata": {},
   "outputs": [],
   "source": [
    "#read pickle\n",
    "experiment_data = pickle.load(open(\"runs/experiments/optimizer_hyperparameters/AMSGRAD.p\", \"rb\"))"
   ]
  },
  {
   "cell_type": "code",
   "execution_count": 9,
   "metadata": {},
   "outputs": [],
   "source": [
    "name = experiment_data[0]['optimizerName']"
   ]
  },
  {
   "cell_type": "code",
   "execution_count": 14,
   "metadata": {},
   "outputs": [
    {
     "data": {
      "text/plain": [
       "{'optimizerName': 'AMSGRAD',\n",
       " 'results': [{'scoreTraining': [0.22933333333333333, 0.23733333333333334],\n",
       "   'scoreTesting': [0.24, 0.216],\n",
       "   'finalWeights': [array([0.69949728]), array([0.69687251])],\n",
       "   'losses': [[1138.1083984375], [1120.24609375]],\n",
       "   'circuit': <qiskit.circuit.quantumcircuit.QuantumCircuit at 0x7fe5431a12b0>},\n",
       "  {'scoreTraining': [0.23733333333333334, 0.224],\n",
       "   'scoreTesting': [0.216, 0.256],\n",
       "   'finalWeights': [array([0.83355152]), array([0.38760372])],\n",
       "   'losses': [[1105.42578125], [1211.158203125]],\n",
       "   'circuit': <qiskit.circuit.quantumcircuit.QuantumCircuit at 0x7fe54154c610>},\n",
       "  {'scoreTraining': [0.248, 0.22933333333333333],\n",
       "   'scoreTesting': [0.184, 0.24],\n",
       "   'finalWeights': [array([0.66419854, 0.85606992, 0.9771061 , 0.25376037]),\n",
       "    array([0.53986236, 0.75569057, 0.89285813, 0.19990501])],\n",
       "   'losses': [[1104.0146484375], [1150.5546875]],\n",
       "   'circuit': <qiskit.circuit.quantumcircuit.QuantumCircuit at 0x7fe54155d070>},\n",
       "  {'scoreTraining': [0.232, 0.224],\n",
       "   'scoreTesting': [0.232, 0.256],\n",
       "   'finalWeights': [array([0.06994587, 0.60389789, 0.20030073, 0.20156454]),\n",
       "    array([0.33214868, 0.04463749, 0.93635665, 0.37508261])],\n",
       "   'losses': [[1251.1396484375], [1358.708984375]],\n",
       "   'circuit': <qiskit.circuit.quantumcircuit.QuantumCircuit at 0x7fe54155dc70>}],\n",
       " 'optimizerSettings': {'maxiter': 20,\n",
       "  'tol': 1e-06,\n",
       "  'lr': 0.001,\n",
       "  'beta_1': 0.9,\n",
       "  'beta_2': 0.99,\n",
       "  'noise_factor': 1e-08,\n",
       "  'eps': 1e-10,\n",
       "  'amsgrad': True,\n",
       "  'snapshot_dir': None}}"
      ]
     },
     "execution_count": 14,
     "metadata": {},
     "output_type": "execute_result"
    }
   ],
   "source": [
    "experiment_data[0]"
   ]
  },
  {
   "cell_type": "code",
   "execution_count": 48,
   "metadata": {},
   "outputs": [
    {
     "name": "stdout",
     "output_type": "stream",
     "text": [
      "{'maxiter': 20, 'tol': 1e-06, 'lr': 0.001, 'beta_1': 0.9, 'beta_2': 0.99, 'noise_factor': 1e-08, 'eps': 1e-10, 'amsgrad': True, 'snapshot_dir': None}\n",
      "{'maxiter': 20, 'tol': 1e-06, 'lr': 0.001, 'beta_1': 0.9, 'beta_2': 0.99, 'noise_factor': 1e-08, 'eps': 1e-10, 'amsgrad': True, 'snapshot_dir': None}\n",
      "{'maxiter': 20, 'tol': 1e-06, 'lr': 0.001, 'beta_1': 0.9, 'beta_2': 0.99, 'noise_factor': 1e-08, 'eps': 1e-10, 'amsgrad': True, 'snapshot_dir': None}\n",
      "{'maxiter': 20, 'tol': 1e-06, 'lr': 0.001, 'beta_1': 0.9, 'beta_2': 0.99, 'noise_factor': 1e-08, 'eps': 1e-10, 'amsgrad': True, 'snapshot_dir': None}\n"
     ]
    }
   ],
   "source": [
    "settings = []\n",
    "for i, experiment in enumerate(experiment_data):\n",
    "    results = experiment['results']\n",
    "    avg_train_acc = []\n",
    "    avg_test_acc = []\n",
    "    losses = []\n",
    "    circuits = []\n",
    "    settings.append(experiment['optimizerSettings'])\n",
    "    for j, result in enumerate(results):\n",
    "        avg_train_acc.append(result['scoreTraining'])\n",
    "        avg_test_acc.append(result['scoreTesting'])\n",
    "        losses.append([a[0] for a in result['losses']])\n",
    "        circuits.append(result['circuit'])\n"
   ]
  },
  {
   "cell_type": "code",
   "execution_count": 54,
   "metadata": {},
   "outputs": [
    {
     "data": {
      "text/plain": [
       "dict_values([20, 1e-06, 0.001, 0.9, 0.99, 1e-08, 1e-10, True, None])"
      ]
     },
     "execution_count": 54,
     "metadata": {},
     "output_type": "execute_result"
    }
   ],
   "source": [
    "experiment_data[0]['optimizerSettings'].values()"
   ]
  },
  {
   "cell_type": "code",
   "execution_count": null,
   "metadata": {},
   "outputs": [],
   "source": []
  },
  {
   "cell_type": "code",
   "execution_count": 62,
   "metadata": {},
   "outputs": [
    {
     "data": {
      "image/png": "[encoded data removed]",
      "text/plain": [
       "<Figure size 432x288 with 1 Axes>"
      ]
     },
     "metadata": {
      "needs_background": "light"
     },
     "output_type": "display_data"
    },
    {
     "data": {
      "image/png": "[encoded data removed]",
      "text/plain": [
       "<Figure size 432x288 with 1 Axes>"
      ]
     },
     "metadata": {
      "needs_background": "light"
     },
     "output_type": "display_data"
    },
    {
     "data": {
      "image/png": "[encoded data removed]",
      "text/plain": [
       "<Figure size 432x288 with 1 Axes>"
      ]
     },
     "metadata": {
      "needs_background": "light"
     },
     "output_type": "display_data"
    },
    {
     "data": {
      "image/png": "[encoded data removed]",
      "text/plain": [
       "<Figure size 432x288 with 1 Axes>"
      ]
     },
     "metadata": {
      "needs_background": "light"
     },
     "output_type": "display_data"
    }
   ],
   "source": [
    "f = open(name + \"_results.md\", \"w\")\n",
    "f.write(\"# Results for hyperparameter check for optimizer {0}\\r\\r\".format(name))\n",
    "f.write(\"Amount of queries: {0}\\r\\r\".format(2))\n",
    "f.write(\"Amount of plans per query: {0}\\r\\r\".format(2))\n",
    "f.write(\"Amount of problems: {0}\\r\\r\".format(300))\n",
    "f.write(\"Amount of shots: {0}\\r\\r\".format(1024))\n",
    "f.write(\"<hr>\\r\\r\")\n",
    "f.write(\"## Circuits:\\r\\r\")\n",
    "for i, circuit in enumerate(circuits):\n",
    "    f.write(\"#### Circuit \"+ str(i) + \"\\r\\r\")\n",
    "    circuit.draw(\"mpl\", filename=name+\"_circuit_\" + str(i) + \".png\")\n",
    "    f.write(\"![Circuit\"+str(i)+\"](\"+name+\"_circuit_\" + str(i) + \".png)\\r\\r\")\n",
    "f.write(\"<hr>\\r\\r\")\n",
    "for i, experiment in enumerate(experiment_data):\n",
    "    f.write(\"## Run \" + str(i) +\":\\r\\r\")\n",
    "    f.write(\"#### Optimizer settings:\\r\\r\")\n",
    "    header = \"|\"\n",
    "    line =\"|\"\n",
    "    for k in experiment['optimizerSettings']:\n",
    "        header += k + \"|\"\n",
    "        line += \":-:|\"\n",
    "    f.write(header +\"\\r\")\n",
    "    f.write(line +\"\\r\")\n",
    "    content = \"|\"\n",
    "    for v in experiment['optimizerSettings'].values():\n",
    "        content += str(v) + \"|\"\n",
    "    f.write(content +\"\\r\\r\")\n",
    "    f.write(\"### Average accuracy per circuit:\\r\\r\")\n",
    "    for j, result in enumerate(experiment['results']):\n",
    "        f.write(\"#### Circuit \" + str(j) + \":\\r\\r\")\n",
    "        f.write(\"Training Accuracy Average: {:2.2}%\\r\\r\".format(np.average(result['scoreTraining'])))\n",
    "        f.write(\"#### Boxplot of results:\\r\\r\")\n",
    "        fig1, ax1 = plt.subplots()\n",
    "        ax1.boxplot(result['scoreTraining'])\n",
    "        plt.savefig(name+str(j)+\"training_boxplot.svg\", format=\"svg\", transparent=True)\n",
    "        f.write(\"![Boxplot\"+str(i)+\"](\"+name+str(j)+\"training_boxplot.svg)\\r\\r\")\n",
    "        f.write(\"Testing Accuracy Average: {:2.2}%\\r\\r\".format(np.average(result['scoreTesting'])))\n",
    "        f.write(\"<hr>\\r\\r\")\n",
    "    \n",
    "\n",
    "f.close()"
   ]
  }
 ],
 "metadata": {
  "interpreter": {
   "hash": "50d08dd0d611dadcb9089d5d7c1d9b5812cef9b8fe953ac568fb854525141b9b"
  },
  "kernelspec": {
   "display_name": "Python 3.9.7 ('thesis')",
   "language": "python",
   "name": "python3"
  },
  "language_info": {
   "codemirror_mode": {
    "name": "ipython",
    "version": 3
   },
   "file_extension": ".py",
   "mimetype": "text/x-python",
   "name": "python",
   "nbconvert_exporter": "python",
   "pygments_lexer": "ipython3",
   "version": "3.9.7"
  },
  "orig_nbformat": 4
 },
 "nbformat": 4,
 "nbformat_minor": 2
}
