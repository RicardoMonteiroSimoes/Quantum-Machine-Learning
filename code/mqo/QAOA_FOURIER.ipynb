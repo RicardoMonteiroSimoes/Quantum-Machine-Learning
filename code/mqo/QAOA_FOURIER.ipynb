{
 "cells": [
  {
   "cell_type": "markdown",
   "id": "62f38f60",
   "metadata": {},
   "source": [
    "# TO RUN THIS, YOU NEED QISKIT 0.32.1"
   ]
  },
  {
   "cell_type": "code",
   "execution_count": 2,
   "id": "4b46c05f",
   "metadata": {},
   "outputs": [],
   "source": [
    "import csv\n",
    "import math\n",
    "import random\n",
    "\n",
    "import matplotlib.pyplot as plt\n",
    "from matplotlib.ticker import MultipleLocator, AutoMinorLocator\n",
    "from qiskit import IBMQ, Aer, execute, ClassicalRegister\n",
    "from qiskit.algorithms import QAOA, NumPyMinimumEigensolver\n",
    "from qiskit.algorithms.optimizers import COBYLA, CG, ISRES, AQGD, BOBYQA, ADAM, GSLS, NELDER_MEAD, NFT, SLSQP, SPSA, \\\n",
    "    TNC, POWELL\n",
    "from qiskit.optimization.applications.ising.common import sample_most_likely\n",
    "from qiskit.providers.ibmq import least_busy\n",
    "from qiskit.utils import QuantumInstance\n",
    "from qiskit.visualization import plot_histogram\n",
    "from qiskit_optimization.algorithms import MinimumEigenOptimizer\n",
    "from qiskit_optimization.problems import QuadraticProgram\n",
    "import numpy as np\n",
    "import csv\n",
    "import imageio\n",
    "import pandas as pd\n",
    "\n",
    "\n",
    "import pickle"
   ]
  },
  {
   "cell_type": "markdown",
   "id": "41961e51",
   "metadata": {},
   "source": [
    "# Methods\n",
    "## What device to use"
   ]
  },
  {
   "cell_type": "code",
   "execution_count": 23,
   "id": "a454a11a",
   "metadata": {},
   "outputs": [],
   "source": [
    "def use_real_device():\n",
    "    IBMQ.load_account()\n",
    "    provider = IBMQ.get_provider(hub='ibm-q')\n",
    "    backend = provider.get_backend('ibmq_bogota')\n",
    "    return QuantumInstance(backend, skip_qobj_validation=False), backend"
   ]
  },
  {
   "cell_type": "markdown",
   "id": "79222425",
   "metadata": {},
   "source": [
    "## Save data from classical optimizer"
   ]
  },
  {
   "cell_type": "code",
   "execution_count": 4,
   "id": "ced6040e",
   "metadata": {},
   "outputs": [],
   "source": [
    "class Steps:\n",
    "    def __init__(self):\n",
    "        self.steps = []\n",
    "\n",
    "    def next_step(self, eval_count, params, eval_mean, eval_sd):\n",
    "        self.steps.append([eval_count, params, eval_mean, eval_sd])\n",
    "\n",
    "\n",
    "def callback(eval_count, params, eval_mean, eval_sd):\n",
    "    saved_data.next_step(eval_count, params, eval_mean, eval_sd)"
   ]
  },
  {
   "cell_type": "markdown",
   "id": "cc397ec6",
   "metadata": {},
   "source": [
    "## Create QAOA-Instance"
   ]
  },
  {
   "cell_type": "code",
   "execution_count": 5,
   "id": "110552fe",
   "metadata": {},
   "outputs": [],
   "source": [
    "def create_qaoa(instance, p, maxiter=1000, params=None):\n",
    "    optimizer = COBYLA(maxiter=maxiter)\n",
    "    qaoa_instance = QAOA(optimizer=optimizer, initial_point=params,\n",
    "                         reps=p, quantum_instance=instance,\n",
    "                         callback=callback)\n",
    "    return qaoa_instance"
   ]
  },
  {
   "cell_type": "markdown",
   "id": "373acb22",
   "metadata": {},
   "source": [
    "## Create operator from problem"
   ]
  },
  {
   "cell_type": "code",
   "execution_count": 6,
   "id": "6e854221",
   "metadata": {},
   "outputs": [],
   "source": [
    "def create_problem_matrix_and_dict(problem_tuple):\n",
    "    nr_of_queries = problem_tuple[0]\n",
    "    plan_costs = problem_tuple[1]\n",
    "    savings = problem_tuple[2]\n",
    "\n",
    "    nr_of_plans = len(plan_costs)\n",
    "    nr_of_plans_each = nr_of_plans / nr_of_queries\n",
    "\n",
    "    eps = 1\n",
    "    w_min = max(plan_costs) + eps\n",
    "    w_max = w_min\n",
    "    if savings:\n",
    "        sum_savings = sum(savings.values())\n",
    "        w_max = w_min - sum_savings\n",
    "\n",
    "    linear_terms = []\n",
    "    quadratic_terms = {}\n",
    "\n",
    "    for i in range(nr_of_plans):\n",
    "        for j in range(i, nr_of_plans):\n",
    "            query_i = math.floor(i / nr_of_plans_each)\n",
    "            query_j = math.floor(j / nr_of_plans_each)\n",
    "            plan_1 = 'p' + str(i + 1)\n",
    "            plan_2 = 'p' + str(j + 1)\n",
    "            if i == j:\n",
    "                linear_terms.append(plan_costs[i] - w_min)\n",
    "            elif query_i == query_j:\n",
    "                quadratic_terms[plan_1, plan_2] = w_max\n",
    "            else:\n",
    "                tuple_forward = (i, j)\n",
    "                tuple_backward = (j, i)\n",
    "                if tuple_forward in savings:\n",
    "                    quadratic_terms[plan_1, plan_2] = savings[tuple_forward]\n",
    "                elif tuple_backward in savings:\n",
    "                    quadratic_terms[plan_1, plan_2] = savings[tuple_backward]\n",
    "\n",
    "    return linear_terms, quadratic_terms\n",
    "\n",
    "\n",
    "def create_problem_operator(linear_terms, quadratic_terms):\n",
    "    # create a QUBO\n",
    "    qubo = QuadraticProgram()\n",
    "    for i in range(len(linear_terms)):\n",
    "        qubo.binary_var('p' + str(i + 1))\n",
    "\n",
    "    qubo.minimize(linear=linear_terms, quadratic=quadratic_terms)\n",
    "\n",
    "    qubit_op, offset = qubo.to_ising()\n",
    "    return qubit_op, qubo"
   ]
  },
  {
   "cell_type": "markdown",
   "id": "57aae219",
   "metadata": {},
   "source": [
    "## Calc costs from state and problem"
   ]
  },
  {
   "cell_type": "code",
   "execution_count": 7,
   "id": "27da769f",
   "metadata": {},
   "outputs": [],
   "source": [
    "def calc_costs(problem, solution_state):\n",
    "    costs = problem[1]\n",
    "    savings = problem[2]\n",
    "    total_costs = 0\n",
    "    for nr, plan in enumerate(solution_state):\n",
    "        if plan == 1:\n",
    "            total_costs += costs[nr]\n",
    "            for i in range(nr+1, len(solution_state)):\n",
    "                if (nr, i) in savings and solution_state[i] == 1:\n",
    "                    total_costs += savings[nr, i]\n",
    "    return total_costs"
   ]
  },
  {
   "cell_type": "markdown",
   "id": "1e8d28d1",
   "metadata": {},
   "source": [
    "## Outputs"
   ]
  },
  {
   "cell_type": "code",
   "execution_count": 8,
   "id": "6e2c9700",
   "metadata": {},
   "outputs": [],
   "source": [
    "def plot_accuracy(accuracy):\n",
    "    for key in accuracy.keys():\n",
    "        p = key[0]\n",
    "        qbs = key[1]\n",
    "        with open('correct_results.csv', 'a+', newline='') as f:\n",
    "            writer = csv.writer(f)\n",
    "            row_content = [p, qbs, accuracy[key]]\n",
    "            writer.writerow(row_content)\n",
    "            print(f'Problemsize: {qbs}\\nRepetitions: {p}\\nAccuracy: {accuracy[key]}')\n",
    "            \n",
    "\n",
    "def printProblem(problem):\n",
    "    print(\"Costs:\")\n",
    "    print(problem[1])\n",
    "    print(\"Savings:\")\n",
    "    print(problem[2])"
   ]
  },
  {
   "cell_type": "markdown",
   "id": "08827257",
   "metadata": {},
   "source": [
    "# Program random initialization"
   ]
  },
  {
   "cell_type": "code",
   "execution_count": 9,
   "id": "6279d6bd",
   "metadata": {},
   "outputs": [
    {
     "name": "stdout",
     "output_type": "stream",
     "text": [
      "Running on current least busy device:  ibmq_bogota\n"
     ]
    }
   ],
   "source": [
    "quantum_instance, backend = use_real_device()"
   ]
  },
  {
   "cell_type": "code",
   "execution_count": 10,
   "id": "0342b788",
   "metadata": {},
   "outputs": [],
   "source": [
    "problem_sizes_qbs = [4]\n",
    "nr_of_queries = 1\n",
    "nr_of_runs_per_problem = 1\n",
    "max_p = 1\n",
    "accuracy = {}"
   ]
  },
  {
   "cell_type": "code",
   "execution_count": 11,
   "id": "4c43d364",
   "metadata": {},
   "outputs": [],
   "source": [
    "\n",
    "path = \"runs/data/problems_with_solutions.p\"\n",
    "data = pickle.load(open(path, \"rb\"))\n",
    "problem = data['x_test']"
   ]
  },
  {
   "cell_type": "code",
   "execution_count": 12,
   "id": "5e4de7fd",
   "metadata": {},
   "outputs": [
    {
     "data": {
      "text/plain": [
       "array([31, 20, 28, 13])"
      ]
     },
     "execution_count": 12,
     "metadata": {},
     "output_type": "execute_result"
    }
   ],
   "source": [
    "problem[0][:4]"
   ]
  },
  {
   "cell_type": "markdown",
   "id": "5460bdc2",
   "metadata": {},
   "source": [
    "# fix problem space to match required data structure"
   ]
  },
  {
   "cell_type": "code",
   "execution_count": 13,
   "id": "6ea549f7",
   "metadata": {},
   "outputs": [],
   "source": [
    "n_query = 2\n",
    "n_plan = 2\n",
    "parsed_problems = []\n",
    "#(2, array([ 7, 19, 40,  4]), {(0, 2): 0, (0, 3): -10, (1, 2): -5, (1, 3): -15})\n",
    "for p in problem:\n",
    "    parsed_problems.append((n_query, np.array(p[:4]), {(0, 2): p[4], (0, 3): p[5], (1, 2): p[6], (1, 3): p[7]}))"
   ]
  },
  {
   "cell_type": "code",
   "execution_count": 14,
   "id": "8dd6ed82",
   "metadata": {},
   "outputs": [
    {
     "data": {
      "text/plain": [
       "[(2,\n",
       "  array([31, 20, 28, 13]),\n",
       "  {(0, 2): -20, (0, 3): -6, (1, 2): -15, (1, 3): -20}),\n",
       " (2,\n",
       "  array([35, 47,  2, 13]),\n",
       "  {(0, 2): -20, (0, 3): 0, (1, 2): -12, (1, 3): -6}),\n",
       " (2,\n",
       "  array([22, 48, 32, 41]),\n",
       "  {(0, 2): -8, (0, 3): -6, (1, 2): -14, (1, 3): -17}),\n",
       " (2,\n",
       "  array([24, 47, 41, 30]),\n",
       "  {(0, 2): -11, (0, 3): -15, (1, 2): -17, (1, 3): -18}),\n",
       " (2, array([18, 20, 15, 18]), {(0, 2): -1, (0, 3): -4, (1, 2): -1, (1, 3): 0}),\n",
       " (2,\n",
       "  array([ 4, 33, 18, 24]),\n",
       "  {(0, 2): -8, (0, 3): -12, (1, 2): -3, (1, 3): -12}),\n",
       " (2,\n",
       "  array([ 4,  0, 37, 12]),\n",
       "  {(0, 2): -6, (0, 3): -11, (1, 2): -11, (1, 3): -12}),\n",
       " (2,\n",
       "  array([46, 22, 35, 45]),\n",
       "  {(0, 2): -19, (0, 3): -7, (1, 2): -18, (1, 3): -14}),\n",
       " (2,\n",
       "  array([46, 47, 46, 45]),\n",
       "  {(0, 2): -2, (0, 3): -1, (1, 2): -2, (1, 3): -14}),\n",
       " (2,\n",
       "  array([ 0, 21, 17,  2]),\n",
       "  {(0, 2): -15, (0, 3): -5, (1, 2): -19, (1, 3): -3}),\n",
       " (2, array([22, 48, 47,  6]), {(0, 2): -9, (0, 3): 0, (1, 2): -4, (1, 3): 0}),\n",
       " (2,\n",
       "  array([44, 29, 24, 47]),\n",
       "  {(0, 2): -16, (0, 3): -13, (1, 2): -12, (1, 3): -18}),\n",
       " (2,\n",
       "  array([14, 48, 40, 13]),\n",
       "  {(0, 2): -3, (0, 3): -19, (1, 2): -2, (1, 3): -3}),\n",
       " (2,\n",
       "  array([37, 44, 17, 32]),\n",
       "  {(0, 2): -9, (0, 3): -9, (1, 2): -11, (1, 3): -15}),\n",
       " (2,\n",
       "  array([20, 33,  3, 35]),\n",
       "  {(0, 2): -15, (0, 3): -14, (1, 2): -17, (1, 3): -14}),\n",
       " (2,\n",
       "  array([32, 44, 19, 48]),\n",
       "  {(0, 2): -2, (0, 3): -13, (1, 2): -8, (1, 3): -5}),\n",
       " (2,\n",
       "  array([45, 14, 31, 45]),\n",
       "  {(0, 2): -7, (0, 3): -1, (1, 2): -19, (1, 3): -15}),\n",
       " (2,\n",
       "  array([30,  3, 12, 16]),\n",
       "  {(0, 2): -5, (0, 3): -14, (1, 2): -12, (1, 3): -3}),\n",
       " (2,\n",
       "  array([16, 13, 25,  7]),\n",
       "  {(0, 2): -18, (0, 3): -6, (1, 2): -20, (1, 3): -5}),\n",
       " (2,\n",
       "  array([ 4, 10, 40, 19]),\n",
       "  {(0, 2): -16, (0, 3): -18, (1, 2): -15, (1, 3): -4}),\n",
       " (2,\n",
       "  array([ 1,  5, 25, 21]),\n",
       "  {(0, 2): -10, (0, 3): -11, (1, 2): -16, (1, 3): -15}),\n",
       " (2,\n",
       "  array([44, 40,  8,  3]),\n",
       "  {(0, 2): -15, (0, 3): -4, (1, 2): -8, (1, 3): -13}),\n",
       " (2,\n",
       "  array([32, 42,  8, 19]),\n",
       "  {(0, 2): -16, (0, 3): -10, (1, 2): 0, (1, 3): -14}),\n",
       " (2,\n",
       "  array([36,  2, 25, 16]),\n",
       "  {(0, 2): -3, (0, 3): -7, (1, 2): -11, (1, 3): -7}),\n",
       " (2,\n",
       "  array([33,  1,  6, 24]),\n",
       "  {(0, 2): -20, (0, 3): -5, (1, 2): -20, (1, 3): -13}),\n",
       " (2,\n",
       "  array([30, 10, 44, 23]),\n",
       "  {(0, 2): -13, (0, 3): -6, (1, 2): -5, (1, 3): -7}),\n",
       " (2,\n",
       "  array([28, 45, 12, 48]),\n",
       "  {(0, 2): -19, (0, 3): -20, (1, 2): -1, (1, 3): -15}),\n",
       " (2,\n",
       "  array([11, 31, 38, 19]),\n",
       "  {(0, 2): -10, (0, 3): -18, (1, 2): -14, (1, 3): 0}),\n",
       " (2,\n",
       "  array([42, 12, 35,  4]),\n",
       "  {(0, 2): -14, (0, 3): -9, (1, 2): -6, (1, 3): -5}),\n",
       " (2,\n",
       "  array([ 0, 42, 23,  3]),\n",
       "  {(0, 2): -3, (0, 3): -6, (1, 2): -5, (1, 3): -3}),\n",
       " (2,\n",
       "  array([34,  2,  1, 37]),\n",
       "  {(0, 2): -3, (0, 3): -12, (1, 2): -15, (1, 3): -14}),\n",
       " (2,\n",
       "  array([29, 15, 23, 37]),\n",
       "  {(0, 2): -6, (0, 3): -20, (1, 2): -20, (1, 3): -14}),\n",
       " (2,\n",
       "  array([37, 26, 46, 44]),\n",
       "  {(0, 2): -5, (0, 3): -7, (1, 2): -19, (1, 3): -12}),\n",
       " (2,\n",
       "  array([21, 12, 10, 40]),\n",
       "  {(0, 2): -9, (0, 3): -8, (1, 2): -16, (1, 3): -12}),\n",
       " (2,\n",
       "  array([39, 12, 21, 35]),\n",
       "  {(0, 2): -14, (0, 3): -1, (1, 2): -11, (1, 3): -7}),\n",
       " (2,\n",
       "  array([28,  2,  1, 28]),\n",
       "  {(0, 2): -20, (0, 3): -1, (1, 2): -1, (1, 3): -2}),\n",
       " (2,\n",
       "  array([35, 32, 19, 31]),\n",
       "  {(0, 2): 0, (0, 3): -5, (1, 2): -7, (1, 3): -13}),\n",
       " (2,\n",
       "  array([12,  5,  6, 14]),\n",
       "  {(0, 2): 0, (0, 3): -10, (1, 2): -8, (1, 3): -18}),\n",
       " (2,\n",
       "  array([22, 15, 10,  4]),\n",
       "  {(0, 2): -7, (0, 3): -16, (1, 2): -11, (1, 3): 0}),\n",
       " (2,\n",
       "  array([20, 12, 21, 16]),\n",
       "  {(0, 2): -19, (0, 3): -6, (1, 2): -19, (1, 3): -7}),\n",
       " (2,\n",
       "  array([31, 15,  9, 43]),\n",
       "  {(0, 2): -10, (0, 3): -11, (1, 2): -10, (1, 3): -10}),\n",
       " (2,\n",
       "  array([14, 13, 38, 18]),\n",
       "  {(0, 2): -17, (0, 3): -1, (1, 2): -5, (1, 3): -12}),\n",
       " (2,\n",
       "  array([33, 43,  9, 49]),\n",
       "  {(0, 2): -1, (0, 3): -7, (1, 2): -11, (1, 3): 0}),\n",
       " (2,\n",
       "  array([ 2, 13, 47, 35]),\n",
       "  {(0, 2): -19, (0, 3): -16, (1, 2): 0, (1, 3): -6}),\n",
       " (2,\n",
       "  array([ 7,  6, 47, 26]),\n",
       "  {(0, 2): -16, (0, 3): -14, (1, 2): -3, (1, 3): 0}),\n",
       " (2,\n",
       "  array([18, 34, 37, 26]),\n",
       "  {(0, 2): -6, (0, 3): -18, (1, 2): -14, (1, 3): -6}),\n",
       " (2,\n",
       "  array([15, 14, 19, 16]),\n",
       "  {(0, 2): -6, (0, 3): -11, (1, 2): 0, (1, 3): -4}),\n",
       " (2,\n",
       "  array([47, 12, 48, 36]),\n",
       "  {(0, 2): -15, (0, 3): -15, (1, 2): -16, (1, 3): -13}),\n",
       " (2,\n",
       "  array([23,  9, 16, 42]),\n",
       "  {(0, 2): -11, (0, 3): -13, (1, 2): -3, (1, 3): -2}),\n",
       " (2,\n",
       "  array([45, 36,  9, 20]),\n",
       "  {(0, 2): -14, (0, 3): -18, (1, 2): -13, (1, 3): -12}),\n",
       " (2,\n",
       "  array([17, 18, 14, 39]),\n",
       "  {(0, 2): -9, (0, 3): -7, (1, 2): -17, (1, 3): -4}),\n",
       " (2,\n",
       "  array([ 1, 38, 25, 40]),\n",
       "  {(0, 2): -18, (0, 3): -6, (1, 2): -9, (1, 3): -20}),\n",
       " (2,\n",
       "  array([15, 32, 11, 27]),\n",
       "  {(0, 2): -2, (0, 3): -17, (1, 2): -5, (1, 3): -4}),\n",
       " (2,\n",
       "  array([11, 13, 13,  1]),\n",
       "  {(0, 2): -14, (0, 3): -5, (1, 2): -5, (1, 3): -18}),\n",
       " (2,\n",
       "  array([16, 30, 20, 12]),\n",
       "  {(0, 2): -10, (0, 3): -1, (1, 2): -11, (1, 3): -5}),\n",
       " (2,\n",
       "  array([31, 32, 20, 20]),\n",
       "  {(0, 2): -2, (0, 3): -17, (1, 2): -2, (1, 3): -1}),\n",
       " (2,\n",
       "  array([15, 38, 17, 27]),\n",
       "  {(0, 2): -13, (0, 3): -10, (1, 2): -17, (1, 3): -10}),\n",
       " (2,\n",
       "  array([42,  4, 16, 23]),\n",
       "  {(0, 2): -11, (0, 3): -1, (1, 2): -9, (1, 3): -14}),\n",
       " (2,\n",
       "  array([29, 11, 30, 35]),\n",
       "  {(0, 2): -10, (0, 3): -6, (1, 2): -4, (1, 3): -18}),\n",
       " (2,\n",
       "  array([33,  8, 45, 48]),\n",
       "  {(0, 2): -10, (0, 3): -2, (1, 2): -7, (1, 3): -17}),\n",
       " (2,\n",
       "  array([ 3, 45, 42, 24]),\n",
       "  {(0, 2): -11, (0, 3): -11, (1, 2): -6, (1, 3): -12}),\n",
       " (2,\n",
       "  array([30,  0, 16, 36]),\n",
       "  {(0, 2): -6, (0, 3): -17, (1, 2): -19, (1, 3): 0}),\n",
       " (2,\n",
       "  array([35, 40, 34, 45]),\n",
       "  {(0, 2): -20, (0, 3): -18, (1, 2): -15, (1, 3): -20}),\n",
       " (2,\n",
       "  array([38, 15, 19, 46]),\n",
       "  {(0, 2): -2, (0, 3): -11, (1, 2): -9, (1, 3): -18}),\n",
       " (2,\n",
       "  array([47, 34, 17,  6]),\n",
       "  {(0, 2): -4, (0, 3): -3, (1, 2): -14, (1, 3): -18}),\n",
       " (2,\n",
       "  array([18, 25, 41,  3]),\n",
       "  {(0, 2): -6, (0, 3): -17, (1, 2): -18, (1, 3): -19}),\n",
       " (2,\n",
       "  array([ 9, 36,  2, 46]),\n",
       "  {(0, 2): -18, (0, 3): -19, (1, 2): -17, (1, 3): -18}),\n",
       " (2,\n",
       "  array([ 4, 26, 37, 10]),\n",
       "  {(0, 2): -16, (0, 3): -13, (1, 2): -14, (1, 3): -16}),\n",
       " (2,\n",
       "  array([17, 44,  6, 47]),\n",
       "  {(0, 2): -18, (0, 3): -14, (1, 2): 0, (1, 3): -8}),\n",
       " (2,\n",
       "  array([ 5,  6, 32, 29]),\n",
       "  {(0, 2): -11, (0, 3): -16, (1, 2): -16, (1, 3): -20}),\n",
       " (2,\n",
       "  array([ 6, 27, 10, 31]),\n",
       "  {(0, 2): 0, (0, 3): -18, (1, 2): -12, (1, 3): -17}),\n",
       " (2, array([20, 33, 45, 11]), {(0, 2): 0, (0, 3): -3, (1, 2): 0, (1, 3): -4}),\n",
       " (2,\n",
       "  array([45,  6, 11,  3]),\n",
       "  {(0, 2): -5, (0, 3): -6, (1, 2): -6, (1, 3): -4}),\n",
       " (2,\n",
       "  array([19,  9, 42,  8]),\n",
       "  {(0, 2): 0, (0, 3): -16, (1, 2): -20, (1, 3): -14}),\n",
       " (2,\n",
       "  array([45, 22,  7, 24]),\n",
       "  {(0, 2): -13, (0, 3): -13, (1, 2): -4, (1, 3): -2})]"
      ]
     },
     "execution_count": 14,
     "metadata": {},
     "output_type": "execute_result"
    }
   ],
   "source": [
    "parsed_problems"
   ]
  },
  {
   "cell_type": "markdown",
   "id": "b594be3e",
   "metadata": {},
   "source": [
    "# FOURIER startegie"
   ]
  },
  {
   "cell_type": "markdown",
   "id": "6c952eb2",
   "metadata": {},
   "source": [
    "## Parameters"
   ]
  },
  {
   "cell_type": "code",
   "execution_count": 15,
   "id": "328b7361",
   "metadata": {},
   "outputs": [],
   "source": [
    "def set_beta_gamma(params):\n",
    "    u = []\n",
    "    v = []\n",
    "    for i, param in enumerate(params):\n",
    "        if i % 2 == 0:\n",
    "            u.append(param)\n",
    "        else:\n",
    "            v.append(param)\n",
    "    \n",
    "    p = len(u)\n",
    "    \n",
    "    g_i = 0\n",
    "    b_i = 0\n",
    "    params = []\n",
    "    for i in range(1, p+2):\n",
    "        for k in range(len(u)):\n",
    "            g_i += u[k] * math.sin( (k-1/2) * (i-1/2) * math.pi/p )\n",
    "            b_i += v[k] * math.cos( (k-1/2) * (i-1/2) * math.pi/p )\n",
    "\n",
    "        params = np.append(params, g_i)\n",
    "        params = np.append(params, b_i)\n",
    "\n",
    "    return params\n",
    "\n",
    "\n",
    "def plot_parameters(params, problem_size):\n",
    "    beta_history = []\n",
    "    gamma_history = []\n",
    "    \n",
    "    for i, value in enumerate(params):\n",
    "        if i % 2 == 0:\n",
    "            history = gamma_history\n",
    "        else:\n",
    "            history = beta_history\n",
    "\n",
    "        history.append(value/math.pi)\n",
    "            \n",
    "    fig, ax = plt.subplots()\n",
    "    beta = beta_history\n",
    "    x = [i for i in range(len(beta))]\n",
    "    ax.plot(x, beta, linestyle='-', marker='o', label=f'F')\n",
    "\n",
    "    ax.legend(loc='center right', fontsize='x-large')    \n",
    "    ax.set_xlabel('Nr of Fs')\n",
    "    ax.set_ylabel('parameter value')\n",
    "    ax.set_title(\"Beta\")\n",
    "    #plt.savefig(f'beta_{problem_size}.pdf')\n",
    "\n",
    "    fig, ax = plt.subplots()\n",
    "    gamma = gamma_history\n",
    "    x = [i for i in range(len(gamma))]\n",
    "    ax.plot(x, gamma, linestyle='-', marker='o', label=f'F')\n",
    "        \n",
    "    ax.legend(loc='center right', fontsize='x-large')    \n",
    "    ax.set_xlabel('Nr of Fs')\n",
    "    ax.set_ylabel('parameter value')\n",
    "    ax.set_title(\"Gamma\")\n",
    "    #plt.savefig(f'gamma_{problem_size}.pdf')"
   ]
  },
  {
   "cell_type": "code",
   "execution_count": 16,
   "id": "8f489eb0",
   "metadata": {},
   "outputs": [],
   "source": [
    "def construct_circuit(qaoa_results, operator, nr_of_qb):\n",
    "    q_circuit = qaoa_results.construct_circuit(qaoa_results.optimal_params, operator)\n",
    "    q_circuit = q_circuit[0]\n",
    "    cr = ClassicalRegister(nr_of_qb, 'c')\n",
    "    q_circuit.add_register(cr)\n",
    "    q_circuit.measure(range(nr_of_qb), range(nr_of_qb))\n",
    "    return q_circuit\n",
    "\n",
    "\n",
    "def run_circuit(qc):\n",
    "    shots = 1000\n",
    "    job = execute(qc, backend, shots=shots)\n",
    "    result = job.result()\n",
    "    return result.get_counts()"
   ]
  },
  {
   "cell_type": "code",
   "execution_count": 17,
   "id": "79fac990",
   "metadata": {},
   "outputs": [],
   "source": [
    "problem_sizes_qbs = [4]\n",
    "nr_of_queries = 2\n",
    "nr_of_runs_per_problem = 10\n",
    "max_p = 2"
   ]
  },
  {
   "cell_type": "code",
   "execution_count": 18,
   "id": "4930bd61",
   "metadata": {},
   "outputs": [],
   "source": [
    "column_names = ['problem_size']\n",
    "beta_gamma_columns = [f'beta_gamma_F{i+1}' for i in range(max_p)]\n",
    "right_solution_columns = [f'right_solution_F{i+1}' for i in range(max_p)]\n",
    "classical_optimizer_columns = [f'classical_optimizer_steps_F{i+1}' for i in range(max_p)]\n",
    "column_names += beta_gamma_columns + right_solution_columns + classical_optimizer_columns"
   ]
  },
  {
   "cell_type": "code",
   "execution_count": 19,
   "id": "cd287800",
   "metadata": {},
   "outputs": [],
   "source": [
    "solutions_df = pd.DataFrame(columns=column_names)"
   ]
  },
  {
   "cell_type": "code",
   "execution_count": 26,
   "id": "3674afa1",
   "metadata": {},
   "outputs": [
    {
     "name": "stdout",
     "output_type": "stream",
     "text": [
      "run 1 of 75\n",
      "(2, array([31, 20, 28, 13]), {(0, 2): -20, (0, 3): -6, (1, 2): -15, (1, 3): -20})\n",
      "Nr of repetitions: 1\n",
      "Computing eigenvalue\n",
      "Calculating costs\n",
      "Nr of repetitions: 2\n",
      "Computing eigenvalue\n"
     ]
    }
   ],
   "source": [
    "nr_of_qbs = 4\n",
    "for run, problem in enumerate(parsed_problems):\n",
    "    print(f\"run {run+1} of {len(parsed_problems)}\")\n",
    "    print(problem)\n",
    "\n",
    "    # create QUBO-Operator from problem ----------------------\n",
    "    linear, quadratic = create_problem_matrix_and_dict(problem)\n",
    "    problem_operator, qubo = create_problem_operator(linear, quadratic)\n",
    "    # --------------------------------------------------------\n",
    "\n",
    "    ############# OPTIMIZATION WITH FOURIER ##################\n",
    "    params = [np.random.uniform(low=-math.pi, high=math.pi),\n",
    "                np.random.uniform(low=-math.pi, high=math.pi)]\n",
    "\n",
    "    next_row = {column_names[0]:nr_of_qbs}\n",
    "\n",
    "    for i in range(1, max_p+1):\n",
    "        print(f\"Nr of repetitions: {i}\")\n",
    "        saved_data = Steps()\n",
    "        # create QAOA and solve problem ----------------------\n",
    "        reps = i\n",
    "        qaoa = create_qaoa(quantum_instance, reps, params=params)\n",
    "        print(f\"Computing eigenvalue\")\n",
    "        result = qaoa.compute_minimum_eigenvalue(problem_operator)\n",
    "        solution_state = sample_most_likely(result.eigenstate)\n",
    "        print(f\"Calculating costs\")\n",
    "        q_costs_calc = calc_costs(problem, solution_state)\n",
    "\n",
    "\n",
    "        next_row[beta_gamma_columns[i-1]] = params\n",
    "        next_row[classical_optimizer_columns[i-1]] = saved_data.steps\n",
    "        params = set_beta_gamma(result.optimal_point)\n",
    "\n",
    "    solutions_df = solutions_df.append(next_row, ignore_index=True)"
   ]
  },
  {
   "cell_type": "code",
   "execution_count": null,
   "id": "512fb452",
   "metadata": {},
   "outputs": [],
   "source": [
    "solutions_df.to_csv(r'/solution_dataframe_2.csv', index = False, header = True)"
   ]
  },
  {
   "cell_type": "code",
   "execution_count": null,
   "id": "0cb68ac8",
   "metadata": {},
   "outputs": [
    {
     "data": {
      "text/html": [
       "<div>\n",
       "<style scoped>\n",
       "    .dataframe tbody tr th:only-of-type {\n",
       "        vertical-align: middle;\n",
       "    }\n",
       "\n",
       "    .dataframe tbody tr th {\n",
       "        vertical-align: top;\n",
       "    }\n",
       "\n",
       "    .dataframe thead th {\n",
       "        text-align: right;\n",
       "    }\n",
       "</style>\n",
       "<table border=\"1\" class=\"dataframe\">\n",
       "  <thead>\n",
       "    <tr style=\"text-align: right;\">\n",
       "      <th></th>\n",
       "      <th>problem_size</th>\n",
       "      <th>beta_gamma_F1</th>\n",
       "      <th>right_solution_F1</th>\n",
       "      <th>classical_optimizer_steps_F1</th>\n",
       "    </tr>\n",
       "  </thead>\n",
       "  <tbody>\n",
       "    <tr>\n",
       "      <th>0</th>\n",
       "      <td>4</td>\n",
       "      <td>[-1.3086082038729856, -1.170929766564415]</td>\n",
       "      <td>1</td>\n",
       "      <td>[[1, [-0.30411320098960626, -1.138002283111646...</td>\n",
       "    </tr>\n",
       "    <tr>\n",
       "      <th>1</th>\n",
       "      <td>4</td>\n",
       "      <td>[2.4838217396528055, 2.80449306795313]</td>\n",
       "      <td>0</td>\n",
       "      <td>[[1, [2.473028274421791, 2.7515444866998813], ...</td>\n",
       "    </tr>\n",
       "    <tr>\n",
       "      <th>2</th>\n",
       "      <td>4</td>\n",
       "      <td>[-0.6197308748229307, -0.9204597180403149]</td>\n",
       "      <td>1</td>\n",
       "      <td>[[1, [-0.6404541268540429, -0.8395781798795112...</td>\n",
       "    </tr>\n",
       "    <tr>\n",
       "      <th>3</th>\n",
       "      <td>4</td>\n",
       "      <td>[2.187044894795374, -1.9687040520151204]</td>\n",
       "      <td>1</td>\n",
       "      <td>[[1, [3.2130550655847436, -1.9275587818898037]...</td>\n",
       "    </tr>\n",
       "    <tr>\n",
       "      <th>4</th>\n",
       "      <td>4</td>\n",
       "      <td>[-0.46749832191702323, 0.9494489658679504]</td>\n",
       "      <td>0</td>\n",
       "      <td>[[1, [0.7215080826883091, 2.9333272395061933],...</td>\n",
       "    </tr>\n",
       "  </tbody>\n",
       "</table>\n",
       "</div>"
      ],
      "text/plain": [
       "  problem_size                               beta_gamma_F1 right_solution_F1  \\\n",
       "0            4   [-1.3086082038729856, -1.170929766564415]                 1   \n",
       "1            4      [2.4838217396528055, 2.80449306795313]                 0   \n",
       "2            4  [-0.6197308748229307, -0.9204597180403149]                 1   \n",
       "3            4    [2.187044894795374, -1.9687040520151204]                 1   \n",
       "4            4  [-0.46749832191702323, 0.9494489658679504]                 0   \n",
       "\n",
       "                        classical_optimizer_steps_F1  \n",
       "0  [[1, [-0.30411320098960626, -1.138002283111646...  \n",
       "1  [[1, [2.473028274421791, 2.7515444866998813], ...  \n",
       "2  [[1, [-0.6404541268540429, -0.8395781798795112...  \n",
       "3  [[1, [3.2130550655847436, -1.9275587818898037]...  \n",
       "4  [[1, [0.7215080826883091, 2.9333272395061933],...  "
      ]
     },
     "execution_count": 31,
     "metadata": {},
     "output_type": "execute_result"
    }
   ],
   "source": [
    "solutions_df.head()"
   ]
  },
  {
   "cell_type": "code",
   "execution_count": null,
   "id": "65af8c98",
   "metadata": {},
   "outputs": [],
   "source": [
    "solutions_df.to_csv(r'/solution_dataframe_2.csv', index = False, header = True)"
   ]
  },
  {
   "cell_type": "code",
   "execution_count": null,
   "id": "9861ae85",
   "metadata": {},
   "outputs": [],
   "source": []
  }
 ],
 "metadata": {
  "interpreter": {
   "hash": "50d08dd0d611dadcb9089d5d7c1d9b5812cef9b8fe953ac568fb854525141b9b"
  },
  "kernelspec": {
   "display_name": "Python 3.9.12 ('thesis')",
   "language": "python",
   "name": "python3"
  },
  "language_info": {
   "codemirror_mode": {
    "name": "ipython",
    "version": 3
   },
   "file_extension": ".py",
   "mimetype": "text/x-python",
   "name": "python",
   "nbconvert_exporter": "python",
   "pygments_lexer": "ipython3",
   "version": "3.9.12"
  }
 },
 "nbformat": 4,
 "nbformat_minor": 5
}
