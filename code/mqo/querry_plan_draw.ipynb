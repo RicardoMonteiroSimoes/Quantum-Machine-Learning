{
 "cells": [
  {
   "cell_type": "markdown",
   "metadata": {},
   "source": [
    "## Query plan drawer\n",
    "\n",
    "Takes a problem and draws queries for it "
   ]
  },
  {
   "cell_type": "code",
   "execution_count": 175,
   "metadata": {},
   "outputs": [],
   "source": [
    "problems = [(2,\n",
    "  [45, 11, 40, 38],\n",
    "  {(0, 2): 0, (0, 3): -3, (1, 2): -15, (1, 3): -14})]\n",
    "  ## HAS 2 FOR AMOUNT OF PLANS ADDED TO THE END\n",
    "  ### Needs to be adapted for n queries with n_i plans each"
   ]
  },
  {
   "cell_type": "code",
   "execution_count": 82,
   "metadata": {},
   "outputs": [],
   "source": [
    "import pydot\n",
    "from IPython.display import SVG\n",
    "import numpy as np"
   ]
  },
  {
   "cell_type": "code",
   "execution_count": 18,
   "metadata": {},
   "outputs": [],
   "source": [
    "def add_node(graph, node, label):\n",
    "    graph.add_node(pydot.Node(node, label=label))"
   ]
  },
  {
   "cell_type": "code",
   "execution_count": 21,
   "metadata": {},
   "outputs": [],
   "source": [
    "def add_join(graph, node, node_a, node_b):\n",
    "    graph.add_node(pydot.Node(node, shape=\"circle\", label=\"⋈\"))\n",
    "    graph.add_edge(pydot.Edge(node, node_a, color=\"black\"))\n",
    "    graph.add_edge(pydot.Edge(node, node_b, color=\"black\"))\n",
    "    "
   ]
  },
  {
   "cell_type": "code",
   "execution_count": 73,
   "metadata": {},
   "outputs": [],
   "source": [
    "def add_edge(graph, node_a, node_b):\n",
    "    graph.add_edge(pydot.Edge(node_a, node_b, color=\"black\"))"
   ]
  },
  {
   "cell_type": "code",
   "execution_count": 25,
   "metadata": {},
   "outputs": [],
   "source": [
    "def add_select(graph, node, node_a):\n",
    "    graph.add_node(pydot.Node(node, shape=\"circle\", label=\"π\"))\n",
    "    graph.add_edge(pydot.Edge(node, node_a, color=\"black\"))"
   ]
  },
  {
   "cell_type": "code",
   "execution_count": 51,
   "metadata": {},
   "outputs": [],
   "source": [
    "def create_graph(name, center=True):\n",
    "    return pydot.Dot(name, graph_type=\"graph\", bgcolor=\"transparent\", label=name, center=center)"
   ]
  },
  {
   "cell_type": "code",
   "execution_count": 185,
   "metadata": {},
   "outputs": [
    {
     "data": {
      "image/svg+xml": "<svg xmlns=\"http://www.w3.org/2000/svg\" xmlns:xlink=\"http://www.w3.org/1999/xlink\" width=\"206pt\" height=\"211pt\" viewBox=\"0.00 0.00 206.00 211.00\">\n<g id=\"graph0\" class=\"graph\" transform=\"scale(1 1) rotate(0) translate(4 207)\">\n<title>q0p0</title>\n<text text-anchor=\"middle\" x=\"99\" y=\"-7.8\" font-family=\"Times,serif\" font-size=\"14.00\" fill=\"#000000\">q0p0</text>\n<!-- a -->\n<g id=\"node1\" class=\"node\">\n<title>a</title>\n<ellipse fill=\"none\" stroke=\"#000000\" cx=\"27\" cy=\"-41\" rx=\"27\" ry=\"18\"/>\n<text text-anchor=\"middle\" x=\"27\" y=\"-37.3\" font-family=\"Times,serif\" font-size=\"14.00\" fill=\"#000000\">A</text>\n</g>\n<!-- b -->\n<g id=\"node2\" class=\"node\">\n<title>b</title>\n<ellipse fill=\"none\" stroke=\"#000000\" cx=\"99\" cy=\"-41\" rx=\"27\" ry=\"18\"/>\n<text text-anchor=\"middle\" x=\"99\" y=\"-37.3\" font-family=\"Times,serif\" font-size=\"14.00\" fill=\"#000000\">B</text>\n</g>\n<!-- jab -->\n<g id=\"node3\" class=\"node\">\n<title>jab</title>\n<ellipse fill=\"none\" stroke=\"#000000\" cx=\"99\" cy=\"-113\" rx=\"18\" ry=\"18\"/>\n<text text-anchor=\"middle\" x=\"99\" y=\"-109.3\" font-family=\"Times,serif\" font-size=\"14.00\" fill=\"#000000\">⋈</text>\n</g>\n<!-- jab&#45;&#45;a -->\n<g id=\"edge1\" class=\"edge\">\n<title>jab--a</title>\n<path fill=\"none\" stroke=\"#000000\" d=\"M86.1278,-100.1278C73.7505,-87.7505 55.0479,-69.0479 42.0018,-56.0018\"/>\n</g>\n<!-- jab&#45;&#45;b -->\n<g id=\"edge2\" class=\"edge\">\n<title>jab--b</title>\n<path fill=\"none\" stroke=\"#000000\" d=\"M99,-94.8314C99,-84 99,-70.2876 99,-59.4133\"/>\n</g>\n<!-- c -->\n<g id=\"node4\" class=\"node\">\n<title>c</title>\n<ellipse fill=\"none\" stroke=\"#000000\" cx=\"171\" cy=\"-41\" rx=\"27\" ry=\"18\"/>\n<text text-anchor=\"middle\" x=\"171\" y=\"-37.3\" font-family=\"Times,serif\" font-size=\"14.00\" fill=\"#000000\">C</text>\n</g>\n<!-- sc -->\n<g id=\"node5\" class=\"node\">\n<title>sc</title>\n<ellipse fill=\"none\" stroke=\"#000000\" cx=\"162\" cy=\"-113\" rx=\"18\" ry=\"18\"/>\n<text text-anchor=\"middle\" x=\"162\" y=\"-109.3\" font-family=\"Times,serif\" font-size=\"14.00\" fill=\"#000000\">π</text>\n</g>\n<!-- sc&#45;&#45;c -->\n<g id=\"edge3\" class=\"edge\">\n<title>sc--c</title>\n<path fill=\"none\" stroke=\"#000000\" d=\"M164.2711,-94.8314C165.625,-84 167.3391,-70.2876 168.6983,-59.4133\"/>\n</g>\n<!-- jjabsc -->\n<g id=\"node6\" class=\"node\">\n<title>jjabsc</title>\n<ellipse fill=\"none\" stroke=\"#000000\" cx=\"130\" cy=\"-185\" rx=\"18\" ry=\"18\"/>\n<text text-anchor=\"middle\" x=\"130\" y=\"-181.3\" font-family=\"Times,serif\" font-size=\"14.00\" fill=\"#000000\">⋈</text>\n</g>\n<!-- jjabsc&#45;&#45;jab -->\n<g id=\"edge4\" class=\"edge\">\n<title>jjabsc--jab</title>\n<path fill=\"none\" stroke=\"#000000\" d=\"M122.8101,-168.3008C117.8019,-156.669 111.1505,-141.2206 106.151,-129.6087\"/>\n</g>\n<!-- jjabsc&#45;&#45;sc -->\n<g id=\"edge5\" class=\"edge\">\n<title>jjabsc--sc</title>\n<path fill=\"none\" stroke=\"#000000\" d=\"M137.4219,-168.3008C142.5916,-156.669 149.4575,-141.2206 154.6184,-129.6087\"/>\n</g>\n</g>\n</svg>",
      "text/plain": [
       "<IPython.core.display.SVG object>"
      ]
     },
     "execution_count": 185,
     "metadata": {},
     "output_type": "execute_result"
    }
   ],
   "source": [
    "graph = create_graph(\"q0p0\")\n",
    "add_node(graph, \"a\", \"A\")\n",
    "add_node(graph, \"b\", \"B\")\n",
    "add_join(graph, \"jab\", \"a\", \"b\")\n",
    "add_node(graph, \"c\", \"C\")\n",
    "add_select(graph, \"sc\", \"c\")\n",
    "add_join(graph, \"jjabsc\", \"jab\", \"sc\")\n",
    "\n",
    "SVG(graph.create_svg())"
   ]
  },
  {
   "cell_type": "code",
   "execution_count": 120,
   "metadata": {},
   "outputs": [
    {
     "data": {
      "text/plain": [
       "{(0, 2): -15, (0, 3): -3, (1, 2): -9, (1, 3): -14}"
      ]
     },
     "execution_count": 120,
     "metadata": {},
     "output_type": "execute_result"
    }
   ],
   "source": [
    "problems[0][2]"
   ]
  },
  {
   "cell_type": "code",
   "execution_count": 187,
   "metadata": {},
   "outputs": [
    {
     "data": {
      "text/plain": [
       "True"
      ]
     },
     "execution_count": 187,
     "metadata": {},
     "output_type": "execute_result"
    }
   ],
   "source": [
    "\"a\" in [a.get_name() for a in graph.get_nodes()]"
   ]
  },
  {
   "cell_type": "code",
   "execution_count": 207,
   "metadata": {},
   "outputs": [
    {
     "name": "stdout",
     "output_type": "stream",
     "text": [
      "(0, 3)\n"
     ]
    },
    {
     "ename": "TypeError",
     "evalue": "cannot unpack non-iterable int object",
     "output_type": "error",
     "traceback": [
      "\u001b[0;31m---------------------------------------------------------------------------\u001b[0m",
      "\u001b[0;31mTypeError\u001b[0m                                 Traceback (most recent call last)",
      "\u001b[1;32m/mnt/c/Users/ricar/Documents/GitHub/Quantum Machine Learning/code/mqo/querry_plan_draw.ipynb Cell 12'\u001b[0m in \u001b[0;36m<module>\u001b[0;34m\u001b[0m\n\u001b[1;32m     <a href='vscode-notebook-cell://wsl%2Bubuntu-18.04/mnt/c/Users/ricar/Documents/GitHub/Quantum%20Machine%20Learning/code/mqo/querry_plan_draw.ipynb#ch0000008vscode-remote?line=12'>13</a>\u001b[0m \u001b[39melse\u001b[39;00m:\n\u001b[1;32m     <a href='vscode-notebook-cell://wsl%2Bubuntu-18.04/mnt/c/Users/ricar/Documents/GitHub/Quantum%20Machine%20Learning/code/mqo/querry_plan_draw.ipynb#ch0000008vscode-remote?line=13'>14</a>\u001b[0m     \u001b[39mprint\u001b[39m(\u001b[39mlist\u001b[39m(problem[\u001b[39m2\u001b[39m]\u001b[39m.\u001b[39mkeys())[j])\n\u001b[0;32m---> <a href='vscode-notebook-cell://wsl%2Bubuntu-18.04/mnt/c/Users/ricar/Documents/GitHub/Quantum%20Machine%20Learning/code/mqo/querry_plan_draw.ipynb#ch0000008vscode-remote?line=14'>15</a>\u001b[0m     \u001b[39mfor\u001b[39;00m a,b \u001b[39min\u001b[39;00m \u001b[39mlist\u001b[39m(problem[\u001b[39m2\u001b[39m]\u001b[39m.\u001b[39mkeys())[j]:\n\u001b[1;32m     <a href='vscode-notebook-cell://wsl%2Bubuntu-18.04/mnt/c/Users/ricar/Documents/GitHub/Quantum%20Machine%20Learning/code/mqo/querry_plan_draw.ipynb#ch0000008vscode-remote?line=15'>16</a>\u001b[0m         savings \u001b[39m=\u001b[39m problem[\u001b[39m2\u001b[39m][(a, b)]\n\u001b[1;32m     <a href='vscode-notebook-cell://wsl%2Bubuntu-18.04/mnt/c/Users/ricar/Documents/GitHub/Quantum%20Machine%20Learning/code/mqo/querry_plan_draw.ipynb#ch0000008vscode-remote?line=16'>17</a>\u001b[0m         \u001b[39mif\u001b[39;00m savings \u001b[39m==\u001b[39m \u001b[39m0\u001b[39m:\n",
      "\u001b[0;31mTypeError\u001b[0m: cannot unpack non-iterable int object"
     ]
    }
   ],
   "source": [
    "graphs = []\n",
    "table_factor = 5\n",
    "for problem in problems:\n",
    "    pg = []\n",
    "    for i in range(int(len(problem[1])/problem[0])):\n",
    "        for j in range(problem[0]):\n",
    "            pg.append(create_graph(name = \"q\"+str(i)+\"p\"+str(j)))\n",
    "    n_tables = np.amax([int(x/table_factor) for x in problem[1]])\n",
    "    for j, cost in enumerate(problem[1]):\n",
    "        if j == 0:\n",
    "            for n in range(int(cost/n_tables)):\n",
    "                add_node(pg[j], chr(65+n), chr(65+n)) \n",
    "        else:\n",
    "            print(list(problem[2].keys())[j])\n",
    "            for a,b in list(problem[2].keys())[j]:\n",
    "                savings = problem[2][(a, b)]\n",
    "                if savings == 0:\n",
    "                    set_tables = 0\n",
    "                    offset = 0\n",
    "                    while set_tables < int(cost/n_tables):\n",
    "                        if not chr(65+offset) in [x.get_name() for x in pg[a].get_nodes()]:\n",
    "                            add_node(pg[b], chr(65+offset), chr(65+offset))\n",
    "                            offset += 1\n",
    "                            set_tables += 1\n",
    "                        else:\n",
    "                            offset += 1\n",
    "                else:\n",
    "                    set_tables = 0\n",
    "                    n_equal_tables = int(-savings*2/n_tables)\n",
    "                    set_equal_tables = 0\n",
    "                    offset = 0\n",
    "                    while set_tables < int(cost/n_tables):\n",
    "                        if chr(65+offset) in [x.get_name() for x in pg[a].get_nodes()]:\n",
    "                            if set_equal_tables < n_equal_tables:\n",
    "                                add_node(pg[b], chr(65+offset), chr(65+offset))\n",
    "                                set_tables += 1\n",
    "                                set_equal_tables += 1\n",
    "                            offset += 1\n",
    "                        else:\n",
    "                            add_node(pg[b], chr(65+offset), chr(65+offset))\n",
    "                            set_tables += 1\n",
    "                            offset += 1\n",
    "\n",
    "\n",
    "    graphs.append(pg)"
   ]
  },
  {
   "cell_type": "code",
   "execution_count": 198,
   "metadata": {},
   "outputs": [
    {
     "data": {
      "text/plain": [
       "{(0, 2): 0, (0, 3): -3, (1, 2): -15, (1, 3): -14}"
      ]
     },
     "execution_count": 198,
     "metadata": {},
     "output_type": "execute_result"
    }
   ],
   "source": [
    "problems[0][2]"
   ]
  },
  {
   "cell_type": "code",
   "execution_count": 204,
   "metadata": {},
   "outputs": [
    {
     "data": {
      "image/svg+xml": "<svg xmlns=\"http://www.w3.org/2000/svg\" xmlns:xlink=\"http://www.w3.org/1999/xlink\" width=\"350pt\" height=\"67pt\" viewBox=\"0.00 0.00 350.00 67.00\">\n<g id=\"graph0\" class=\"graph\" transform=\"scale(1 1) rotate(0) translate(4 63)\">\n<title>q0p0</title>\n<text text-anchor=\"middle\" x=\"171\" y=\"-7.8\" font-family=\"Times,serif\" font-size=\"14.00\" fill=\"#000000\">q0p0</text>\n<!-- A -->\n<g id=\"node1\" class=\"node\">\n<title>A</title>\n<ellipse fill=\"none\" stroke=\"#000000\" cx=\"27\" cy=\"-41\" rx=\"27\" ry=\"18\"/>\n<text text-anchor=\"middle\" x=\"27\" y=\"-37.3\" font-family=\"Times,serif\" font-size=\"14.00\" fill=\"#000000\">A</text>\n</g>\n<!-- B -->\n<g id=\"node2\" class=\"node\">\n<title>B</title>\n<ellipse fill=\"none\" stroke=\"#000000\" cx=\"99\" cy=\"-41\" rx=\"27\" ry=\"18\"/>\n<text text-anchor=\"middle\" x=\"99\" y=\"-37.3\" font-family=\"Times,serif\" font-size=\"14.00\" fill=\"#000000\">B</text>\n</g>\n<!-- C -->\n<g id=\"node3\" class=\"node\">\n<title>C</title>\n<ellipse fill=\"none\" stroke=\"#000000\" cx=\"171\" cy=\"-41\" rx=\"27\" ry=\"18\"/>\n<text text-anchor=\"middle\" x=\"171\" y=\"-37.3\" font-family=\"Times,serif\" font-size=\"14.00\" fill=\"#000000\">C</text>\n</g>\n<!-- D -->\n<g id=\"node4\" class=\"node\">\n<title>D</title>\n<ellipse fill=\"none\" stroke=\"#000000\" cx=\"243\" cy=\"-41\" rx=\"27\" ry=\"18\"/>\n<text text-anchor=\"middle\" x=\"243\" y=\"-37.3\" font-family=\"Times,serif\" font-size=\"14.00\" fill=\"#000000\">D</text>\n</g>\n<!-- E -->\n<g id=\"node5\" class=\"node\">\n<title>E</title>\n<ellipse fill=\"none\" stroke=\"#000000\" cx=\"315\" cy=\"-41\" rx=\"27\" ry=\"18\"/>\n<text text-anchor=\"middle\" x=\"315\" y=\"-37.3\" font-family=\"Times,serif\" font-size=\"14.00\" fill=\"#000000\">E</text>\n</g>\n</g>\n</svg>",
      "text/plain": [
       "<IPython.core.display.SVG object>"
      ]
     },
     "metadata": {},
     "output_type": "display_data"
    },
    {
     "data": {
      "image/svg+xml": "<svg xmlns=\"http://www.w3.org/2000/svg\" xmlns:xlink=\"http://www.w3.org/1999/xlink\" width=\"61pt\" height=\"31pt\" viewBox=\"0.00 0.00 61.00 31.00\">\n<g id=\"graph0\" class=\"graph\" transform=\"scale(1 1) rotate(0) translate(4 27)\">\n<title>q0p1</title>\n<text text-anchor=\"middle\" x=\"26.5\" y=\"-7.8\" font-family=\"Times,serif\" font-size=\"14.00\" fill=\"#000000\">q0p1</text>\n</g>\n</svg>",
      "text/plain": [
       "<IPython.core.display.SVG object>"
      ]
     },
     "metadata": {},
     "output_type": "display_data"
    },
    {
     "data": {
      "image/svg+xml": "<svg xmlns=\"http://www.w3.org/2000/svg\" xmlns:xlink=\"http://www.w3.org/1999/xlink\" width=\"566pt\" height=\"67pt\" viewBox=\"0.00 0.00 566.00 67.00\">\n<g id=\"graph0\" class=\"graph\" transform=\"scale(1 1) rotate(0) translate(4 63)\">\n<title>q1p0</title>\n<text text-anchor=\"middle\" x=\"279\" y=\"-7.8\" font-family=\"Times,serif\" font-size=\"14.00\" fill=\"#000000\">q1p0</text>\n<!-- F -->\n<g id=\"node1\" class=\"node\">\n<title>F</title>\n<ellipse fill=\"none\" stroke=\"#000000\" cx=\"27\" cy=\"-41\" rx=\"27\" ry=\"18\"/>\n<text text-anchor=\"middle\" x=\"27\" y=\"-37.3\" font-family=\"Times,serif\" font-size=\"14.00\" fill=\"#000000\">F</text>\n</g>\n<!-- A -->\n<g id=\"node2\" class=\"node\">\n<title>A</title>\n<ellipse fill=\"none\" stroke=\"#000000\" cx=\"99\" cy=\"-41\" rx=\"27\" ry=\"18\"/>\n<text text-anchor=\"middle\" x=\"99\" y=\"-37.3\" font-family=\"Times,serif\" font-size=\"14.00\" fill=\"#000000\">A</text>\n</g>\n<!-- G -->\n<g id=\"node3\" class=\"node\">\n<title>G</title>\n<ellipse fill=\"none\" stroke=\"#000000\" cx=\"171\" cy=\"-41\" rx=\"27\" ry=\"18\"/>\n<text text-anchor=\"middle\" x=\"171\" y=\"-37.3\" font-family=\"Times,serif\" font-size=\"14.00\" fill=\"#000000\">G</text>\n</g>\n<!-- H -->\n<g id=\"node4\" class=\"node\">\n<title>H</title>\n<ellipse fill=\"none\" stroke=\"#000000\" cx=\"243\" cy=\"-41\" rx=\"27\" ry=\"18\"/>\n<text text-anchor=\"middle\" x=\"243\" y=\"-37.3\" font-family=\"Times,serif\" font-size=\"14.00\" fill=\"#000000\">H</text>\n</g>\n<!-- I -->\n<g id=\"node5\" class=\"node\">\n<title>I</title>\n<ellipse fill=\"none\" stroke=\"#000000\" cx=\"315\" cy=\"-41\" rx=\"27\" ry=\"18\"/>\n<text text-anchor=\"middle\" x=\"315\" y=\"-37.3\" font-family=\"Times,serif\" font-size=\"14.00\" fill=\"#000000\">I</text>\n</g>\n<!-- B -->\n<g id=\"node6\" class=\"node\">\n<title>B</title>\n<ellipse fill=\"none\" stroke=\"#000000\" cx=\"387\" cy=\"-41\" rx=\"27\" ry=\"18\"/>\n<text text-anchor=\"middle\" x=\"387\" y=\"-37.3\" font-family=\"Times,serif\" font-size=\"14.00\" fill=\"#000000\">B</text>\n</g>\n<!-- C -->\n<g id=\"node7\" class=\"node\">\n<title>C</title>\n<ellipse fill=\"none\" stroke=\"#000000\" cx=\"459\" cy=\"-41\" rx=\"27\" ry=\"18\"/>\n<text text-anchor=\"middle\" x=\"459\" y=\"-37.3\" font-family=\"Times,serif\" font-size=\"14.00\" fill=\"#000000\">C</text>\n</g>\n<!-- D -->\n<g id=\"node8\" class=\"node\">\n<title>D</title>\n<ellipse fill=\"none\" stroke=\"#000000\" cx=\"531\" cy=\"-41\" rx=\"27\" ry=\"18\"/>\n<text text-anchor=\"middle\" x=\"531\" y=\"-37.3\" font-family=\"Times,serif\" font-size=\"14.00\" fill=\"#000000\">D</text>\n</g>\n</g>\n</svg>",
      "text/plain": [
       "<IPython.core.display.SVG object>"
      ]
     },
     "metadata": {},
     "output_type": "display_data"
    },
    {
     "data": {
      "image/svg+xml": "<svg xmlns=\"http://www.w3.org/2000/svg\" xmlns:xlink=\"http://www.w3.org/1999/xlink\" width=\"566pt\" height=\"67pt\" viewBox=\"0.00 0.00 566.00 67.00\">\n<g id=\"graph0\" class=\"graph\" transform=\"scale(1 1) rotate(0) translate(4 63)\">\n<title>q1p1</title>\n<text text-anchor=\"middle\" x=\"279\" y=\"-7.8\" font-family=\"Times,serif\" font-size=\"14.00\" fill=\"#000000\">q1p1</text>\n<!-- F -->\n<g id=\"node1\" class=\"node\">\n<title>F</title>\n<ellipse fill=\"none\" stroke=\"#000000\" cx=\"27\" cy=\"-41\" rx=\"27\" ry=\"18\"/>\n<text text-anchor=\"middle\" x=\"27\" y=\"-37.3\" font-family=\"Times,serif\" font-size=\"14.00\" fill=\"#000000\">F</text>\n</g>\n<!-- A -->\n<g id=\"node2\" class=\"node\">\n<title>A</title>\n<ellipse fill=\"none\" stroke=\"#000000\" cx=\"99\" cy=\"-41\" rx=\"27\" ry=\"18\"/>\n<text text-anchor=\"middle\" x=\"99\" y=\"-37.3\" font-family=\"Times,serif\" font-size=\"14.00\" fill=\"#000000\">A</text>\n</g>\n<!-- G -->\n<g id=\"node3\" class=\"node\">\n<title>G</title>\n<ellipse fill=\"none\" stroke=\"#000000\" cx=\"171\" cy=\"-41\" rx=\"27\" ry=\"18\"/>\n<text text-anchor=\"middle\" x=\"171\" y=\"-37.3\" font-family=\"Times,serif\" font-size=\"14.00\" fill=\"#000000\">G</text>\n</g>\n<!-- H -->\n<g id=\"node4\" class=\"node\">\n<title>H</title>\n<ellipse fill=\"none\" stroke=\"#000000\" cx=\"243\" cy=\"-41\" rx=\"27\" ry=\"18\"/>\n<text text-anchor=\"middle\" x=\"243\" y=\"-37.3\" font-family=\"Times,serif\" font-size=\"14.00\" fill=\"#000000\">H</text>\n</g>\n<!-- I -->\n<g id=\"node5\" class=\"node\">\n<title>I</title>\n<ellipse fill=\"none\" stroke=\"#000000\" cx=\"315\" cy=\"-41\" rx=\"27\" ry=\"18\"/>\n<text text-anchor=\"middle\" x=\"315\" y=\"-37.3\" font-family=\"Times,serif\" font-size=\"14.00\" fill=\"#000000\">I</text>\n</g>\n<!-- B -->\n<g id=\"node6\" class=\"node\">\n<title>B</title>\n<ellipse fill=\"none\" stroke=\"#000000\" cx=\"387\" cy=\"-41\" rx=\"27\" ry=\"18\"/>\n<text text-anchor=\"middle\" x=\"387\" y=\"-37.3\" font-family=\"Times,serif\" font-size=\"14.00\" fill=\"#000000\">B</text>\n</g>\n<!-- C -->\n<g id=\"node7\" class=\"node\">\n<title>C</title>\n<ellipse fill=\"none\" stroke=\"#000000\" cx=\"459\" cy=\"-41\" rx=\"27\" ry=\"18\"/>\n<text text-anchor=\"middle\" x=\"459\" y=\"-37.3\" font-family=\"Times,serif\" font-size=\"14.00\" fill=\"#000000\">C</text>\n</g>\n<!-- D -->\n<g id=\"node8\" class=\"node\">\n<title>D</title>\n<ellipse fill=\"none\" stroke=\"#000000\" cx=\"531\" cy=\"-41\" rx=\"27\" ry=\"18\"/>\n<text text-anchor=\"middle\" x=\"531\" y=\"-37.3\" font-family=\"Times,serif\" font-size=\"14.00\" fill=\"#000000\">D</text>\n</g>\n</g>\n</svg>",
      "text/plain": [
       "<IPython.core.display.SVG object>"
      ]
     },
     "metadata": {},
     "output_type": "display_data"
    }
   ],
   "source": [
    "for p in graphs:\n",
    "    for g in p:\n",
    "        display(SVG(g.create_svg()))"
   ]
  }
 ],
 "metadata": {
  "interpreter": {
   "hash": "50d08dd0d611dadcb9089d5d7c1d9b5812cef9b8fe953ac568fb854525141b9b"
  },
  "kernelspec": {
   "display_name": "Python 3.9.7 ('thesis')",
   "language": "python",
   "name": "python3"
  },
  "language_info": {
   "codemirror_mode": {
    "name": "ipython",
    "version": 3
   },
   "file_extension": ".py",
   "mimetype": "text/x-python",
   "name": "python",
   "nbconvert_exporter": "python",
   "pygments_lexer": "ipython3",
   "version": "3.9.7"
  },
  "orig_nbformat": 4
 },
 "nbformat": 4,
 "nbformat_minor": 2
}
