{
 "cells": [
  {
   "cell_type": "markdown",
   "metadata": {},
   "source": [
    "## Query plan drawer\n",
    "\n",
    "Takes a problem and draws queries for it "
   ]
  },
  {
   "cell_type": "code",
   "execution_count": 6,
   "metadata": {},
   "outputs": [],
   "source": [
    "problems = [(2,\n",
    "  [45, 11, 40, 38],\n",
    "  {(0, 2): 0, (0, 3): -3, (1, 2): -15, (1, 3): -14})]\n",
    "  ## HAS 2 FOR AMOUNT OF PLANS ADDED TO THE END\n",
    "  ### Needs to be adapted for n queries with n_i plans each"
   ]
  },
  {
   "cell_type": "code",
   "execution_count": 7,
   "metadata": {},
   "outputs": [],
   "source": [
    "import pydot\n",
    "from IPython.display import SVG\n",
    "import numpy as np"
   ]
  },
  {
   "cell_type": "code",
   "execution_count": 8,
   "metadata": {},
   "outputs": [],
   "source": [
    "def add_node(graph, node, label):\n",
    "    graph.add_node(pydot.Node(node, label=label))"
   ]
  },
  {
   "cell_type": "code",
   "execution_count": 9,
   "metadata": {},
   "outputs": [],
   "source": [
    "def add_join(graph, node, node_a, node_b):\n",
    "    graph.add_node(pydot.Node(node, shape=\"circle\", label=\"⋈\"))\n",
    "    graph.add_edge(pydot.Edge(node, node_a, color=\"black\"))\n",
    "    graph.add_edge(pydot.Edge(node, node_b, color=\"black\"))\n",
    "    "
   ]
  },
  {
   "cell_type": "code",
   "execution_count": 10,
   "metadata": {},
   "outputs": [],
   "source": [
    "def add_edge(graph, node_a, node_b):\n",
    "    graph.add_edge(pydot.Edge(node_a, node_b, color=\"black\"))"
   ]
  },
  {
   "cell_type": "code",
   "execution_count": 11,
   "metadata": {},
   "outputs": [],
   "source": [
    "def add_select(graph, node, node_a):\n",
    "    graph.add_node(pydot.Node(node, shape=\"circle\", label=\"π\"))\n",
    "    graph.add_edge(pydot.Edge(node, node_a, color=\"black\"))"
   ]
  },
  {
   "cell_type": "code",
   "execution_count": 12,
   "metadata": {},
   "outputs": [],
   "source": [
    "def create_graph(name, center=True):\n",
    "    return pydot.Dot(name, graph_type=\"graph\", bgcolor=\"transparent\", label=name, center=center)"
   ]
  },
  {
   "cell_type": "code",
   "execution_count": 13,
   "metadata": {},
   "outputs": [
    {
     "data": {
      "image/svg+xml": "<svg xmlns=\"http://www.w3.org/2000/svg\" xmlns:xlink=\"http://www.w3.org/1999/xlink\" width=\"206pt\" height=\"211pt\" viewBox=\"0.00 0.00 206.00 211.00\">\n<g id=\"graph0\" class=\"graph\" transform=\"scale(1 1) rotate(0) translate(4 207)\">\n<title>q0p0</title>\n<text text-anchor=\"middle\" x=\"99\" y=\"-7.8\" font-family=\"Times,serif\" font-size=\"14.00\">q0p0</text>\n<!-- a -->\n<g id=\"node1\" class=\"node\">\n<title>a</title>\n<ellipse fill=\"none\" stroke=\"black\" cx=\"27\" cy=\"-41\" rx=\"27\" ry=\"18\"/>\n<text text-anchor=\"middle\" x=\"27\" y=\"-37.3\" font-family=\"Times,serif\" font-size=\"14.00\">A</text>\n</g>\n<!-- b -->\n<g id=\"node2\" class=\"node\">\n<title>b</title>\n<ellipse fill=\"none\" stroke=\"black\" cx=\"99\" cy=\"-41\" rx=\"27\" ry=\"18\"/>\n<text text-anchor=\"middle\" x=\"99\" y=\"-37.3\" font-family=\"Times,serif\" font-size=\"14.00\">B</text>\n</g>\n<!-- jab -->\n<g id=\"node3\" class=\"node\">\n<title>jab</title>\n<ellipse fill=\"none\" stroke=\"black\" cx=\"99\" cy=\"-113\" rx=\"18\" ry=\"18\"/>\n<text text-anchor=\"middle\" x=\"99\" y=\"-109.3\" font-family=\"Times,serif\" font-size=\"14.00\">⋈</text>\n</g>\n<!-- jab&#45;&#45;a -->\n<g id=\"edge1\" class=\"edge\">\n<title>jab--a</title>\n<path fill=\"none\" stroke=\"black\" d=\"M86.46,-99.81C73.97,-87.66 54.81,-69.03 41.63,-56.22\"/>\n</g>\n<!-- jab&#45;&#45;b -->\n<g id=\"edge2\" class=\"edge\">\n<title>jab--b</title>\n<path fill=\"none\" stroke=\"black\" d=\"M99,-94.7C99,-83.85 99,-69.92 99,-59.1\"/>\n</g>\n<!-- c -->\n<g id=\"node4\" class=\"node\">\n<title>c</title>\n<ellipse fill=\"none\" stroke=\"black\" cx=\"171\" cy=\"-41\" rx=\"27\" ry=\"18\"/>\n<text text-anchor=\"middle\" x=\"171\" y=\"-37.3\" font-family=\"Times,serif\" font-size=\"14.00\">C</text>\n</g>\n<!-- sc -->\n<g id=\"node5\" class=\"node\">\n<title>sc</title>\n<ellipse fill=\"none\" stroke=\"black\" cx=\"162\" cy=\"-113\" rx=\"18\" ry=\"18\"/>\n<text text-anchor=\"middle\" x=\"162\" y=\"-109.3\" font-family=\"Times,serif\" font-size=\"14.00\">π</text>\n</g>\n<!-- sc&#45;&#45;c -->\n<g id=\"edge3\" class=\"edge\">\n<title>sc--c</title>\n<path fill=\"none\" stroke=\"black\" d=\"M164.18,-95.05C165.57,-84.21 167.38,-70.18 168.78,-59.28\"/>\n</g>\n<!-- jjabsc -->\n<g id=\"node6\" class=\"node\">\n<title>jjabsc</title>\n<ellipse fill=\"none\" stroke=\"black\" cx=\"130\" cy=\"-185\" rx=\"18\" ry=\"18\"/>\n<text text-anchor=\"middle\" x=\"130\" y=\"-181.3\" font-family=\"Times,serif\" font-size=\"14.00\">⋈</text>\n</g>\n<!-- jjabsc&#45;&#45;jab -->\n<g id=\"edge4\" class=\"edge\">\n<title>jjabsc--jab</title>\n<path fill=\"none\" stroke=\"black\" d=\"M122.97,-168.12C117.89,-156.66 111.07,-141.26 106.01,-129.82\"/>\n</g>\n<!-- jjabsc&#45;&#45;sc -->\n<g id=\"edge5\" class=\"edge\">\n<title>jjabsc--sc</title>\n<path fill=\"none\" stroke=\"black\" d=\"M137.26,-168.12C142.5,-156.66 149.54,-141.26 154.77,-129.82\"/>\n</g>\n</g>\n</svg>",
      "text/plain": [
       "<IPython.core.display.SVG object>"
      ]
     },
     "execution_count": 13,
     "metadata": {},
     "output_type": "execute_result"
    }
   ],
   "source": [
    "graph = create_graph(\"q0p0\")\n",
    "add_node(graph, \"a\", \"A\")\n",
    "add_node(graph, \"b\", \"B\")\n",
    "add_join(graph, \"jab\", \"a\", \"b\")\n",
    "add_node(graph, \"c\", \"C\")\n",
    "add_select(graph, \"sc\", \"c\")\n",
    "add_join(graph, \"jjabsc\", \"jab\", \"sc\")\n",
    "\n",
    "SVG(graph.create_svg())"
   ]
  },
  {
   "cell_type": "code",
   "execution_count": 44,
   "metadata": {},
   "outputs": [
    {
     "name": "stdout",
     "output_type": "stream",
     "text": [
      "[6, 5]\n"
     ]
    }
   ],
   "source": [
    "tables_per_query = []\n",
    "table_factor = 7\n",
    "for i in range(problems[0][0]):\n",
    "    max_cost_of_query = np.amax([problems[0][1][i*2],problems[0][1][i*2+1]])\n",
    "    tables_per_query.append(int(max_cost_of_query/table_factor))\n",
    "print(tables_per_query)\n",
    "    "
   ]
  },
  {
   "cell_type": "code",
   "execution_count": 52,
   "metadata": {},
   "outputs": [
    {
     "data": {
      "text/plain": [
       "3.0"
      ]
     },
     "execution_count": 52,
     "metadata": {},
     "output_type": "execute_result"
    }
   ],
   "source": [
    "savings_factor = 3\n",
    "avg_savings = np.ceil(np.abs(np.average(list(problems[0][2].values())))/savings_factor)\n",
    "avg_savings"
   ]
  },
  {
   "cell_type": "code",
   "execution_count": 75,
   "metadata": {},
   "outputs": [
    {
     "name": "stdout",
     "output_type": "stream",
     "text": [
      "[['A', 'B', 'C', 'D', 'E', 'F'], ['A', 'B', 'C', 'G', 'H']]\n"
     ]
    }
   ],
   "source": [
    "#chr(65) == 'A'\n",
    "tables = []\n",
    "for i, v in enumerate(tables_per_query):\n",
    "    t = []\n",
    "    copies = 0\n",
    "    offset = 0\n",
    "    for j in range(v):\n",
    "        while len(t) < v:\n",
    "            if i == 0:\n",
    "                t.append(chr(65+j))\n",
    "                break\n",
    "            else:\n",
    "                if chr(65+j+offset) in tables[i-1]:\n",
    "                    if copies < avg_savings:\n",
    "                        t.append(chr(65+j+offset))\n",
    "                        copies += 1\n",
    "                        break\n",
    "                    else:\n",
    "                        offset += 1\n",
    "                else:\n",
    "                    t.append(chr(65+j+offset))\n",
    "                    break\n",
    "    tables.append(t)\n",
    "print(tables)"
   ]
  },
  {
   "cell_type": "code",
   "execution_count": null,
   "metadata": {},
   "outputs": [],
   "source": []
  },
  {
   "cell_type": "code",
   "execution_count": 83,
   "metadata": {},
   "outputs": [
    {
     "data": {
      "image/svg+xml": "<svg xmlns=\"http://www.w3.org/2000/svg\" xmlns:xlink=\"http://www.w3.org/1999/xlink\" width=\"422pt\" height=\"67pt\" viewBox=\"0.00 0.00 422.00 67.00\">\n<g id=\"graph0\" class=\"graph\" transform=\"scale(1 1) rotate(0) translate(4 63)\">\n<title>q0</title>\n<text text-anchor=\"middle\" x=\"207\" y=\"-7.8\" font-family=\"Times,serif\" font-size=\"14.00\">q0</text>\n<!-- A -->\n<g id=\"node1\" class=\"node\">\n<title>A</title>\n<ellipse fill=\"none\" stroke=\"black\" cx=\"27\" cy=\"-41\" rx=\"27\" ry=\"18\"/>\n<text text-anchor=\"middle\" x=\"27\" y=\"-37.3\" font-family=\"Times,serif\" font-size=\"14.00\">A</text>\n</g>\n<!-- B -->\n<g id=\"node2\" class=\"node\">\n<title>B</title>\n<ellipse fill=\"none\" stroke=\"black\" cx=\"99\" cy=\"-41\" rx=\"27\" ry=\"18\"/>\n<text text-anchor=\"middle\" x=\"99\" y=\"-37.3\" font-family=\"Times,serif\" font-size=\"14.00\">B</text>\n</g>\n<!-- C -->\n<g id=\"node3\" class=\"node\">\n<title>C</title>\n<ellipse fill=\"none\" stroke=\"black\" cx=\"171\" cy=\"-41\" rx=\"27\" ry=\"18\"/>\n<text text-anchor=\"middle\" x=\"171\" y=\"-37.3\" font-family=\"Times,serif\" font-size=\"14.00\">C</text>\n</g>\n<!-- D -->\n<g id=\"node4\" class=\"node\">\n<title>D</title>\n<ellipse fill=\"none\" stroke=\"black\" cx=\"243\" cy=\"-41\" rx=\"27\" ry=\"18\"/>\n<text text-anchor=\"middle\" x=\"243\" y=\"-37.3\" font-family=\"Times,serif\" font-size=\"14.00\">D</text>\n</g>\n<!-- E -->\n<g id=\"node5\" class=\"node\">\n<title>E</title>\n<ellipse fill=\"none\" stroke=\"black\" cx=\"315\" cy=\"-41\" rx=\"27\" ry=\"18\"/>\n<text text-anchor=\"middle\" x=\"315\" y=\"-37.3\" font-family=\"Times,serif\" font-size=\"14.00\">E</text>\n</g>\n<!-- F -->\n<g id=\"node6\" class=\"node\">\n<title>F</title>\n<ellipse fill=\"none\" stroke=\"black\" cx=\"387\" cy=\"-41\" rx=\"27\" ry=\"18\"/>\n<text text-anchor=\"middle\" x=\"387\" y=\"-37.3\" font-family=\"Times,serif\" font-size=\"14.00\">F</text>\n</g>\n</g>\n</svg>",
      "text/plain": [
       "<IPython.core.display.SVG object>"
      ]
     },
     "metadata": {},
     "output_type": "display_data"
    },
    {
     "data": {
      "image/svg+xml": "<svg xmlns=\"http://www.w3.org/2000/svg\" xmlns:xlink=\"http://www.w3.org/1999/xlink\" width=\"350pt\" height=\"67pt\" viewBox=\"0.00 0.00 350.00 67.00\">\n<g id=\"graph0\" class=\"graph\" transform=\"scale(1 1) rotate(0) translate(4 63)\">\n<title>q1</title>\n<text text-anchor=\"middle\" x=\"171\" y=\"-7.8\" font-family=\"Times,serif\" font-size=\"14.00\">q1</text>\n<!-- A -->\n<g id=\"node1\" class=\"node\">\n<title>A</title>\n<ellipse fill=\"none\" stroke=\"black\" cx=\"27\" cy=\"-41\" rx=\"27\" ry=\"18\"/>\n<text text-anchor=\"middle\" x=\"27\" y=\"-37.3\" font-family=\"Times,serif\" font-size=\"14.00\">A</text>\n</g>\n<!-- B -->\n<g id=\"node2\" class=\"node\">\n<title>B</title>\n<ellipse fill=\"none\" stroke=\"black\" cx=\"99\" cy=\"-41\" rx=\"27\" ry=\"18\"/>\n<text text-anchor=\"middle\" x=\"99\" y=\"-37.3\" font-family=\"Times,serif\" font-size=\"14.00\">B</text>\n</g>\n<!-- C -->\n<g id=\"node3\" class=\"node\">\n<title>C</title>\n<ellipse fill=\"none\" stroke=\"black\" cx=\"171\" cy=\"-41\" rx=\"27\" ry=\"18\"/>\n<text text-anchor=\"middle\" x=\"171\" y=\"-37.3\" font-family=\"Times,serif\" font-size=\"14.00\">C</text>\n</g>\n<!-- G -->\n<g id=\"node4\" class=\"node\">\n<title>G</title>\n<ellipse fill=\"none\" stroke=\"black\" cx=\"243\" cy=\"-41\" rx=\"27\" ry=\"18\"/>\n<text text-anchor=\"middle\" x=\"243\" y=\"-37.3\" font-family=\"Times,serif\" font-size=\"14.00\">G</text>\n</g>\n<!-- H -->\n<g id=\"node5\" class=\"node\">\n<title>H</title>\n<ellipse fill=\"none\" stroke=\"black\" cx=\"315\" cy=\"-41\" rx=\"27\" ry=\"18\"/>\n<text text-anchor=\"middle\" x=\"315\" y=\"-37.3\" font-family=\"Times,serif\" font-size=\"14.00\">H</text>\n</g>\n</g>\n</svg>",
      "text/plain": [
       "<IPython.core.display.SVG object>"
      ]
     },
     "metadata": {},
     "output_type": "display_data"
    }
   ],
   "source": [
    "graphs = []\n",
    "for i,t in enumerate(tables):\n",
    "    g = create_graph(\"q\"+str(i))\n",
    "    for v in t:\n",
    "        add_node(g, v, v)\n",
    "    graphs.append(g)\n",
    "\n",
    "for g in graphs:\n",
    "    display(SVG(g.create_svg()))"
   ]
  }
 ],
 "metadata": {
  "interpreter": {
   "hash": "50d08dd0d611dadcb9089d5d7c1d9b5812cef9b8fe953ac568fb854525141b9b"
  },
  "kernelspec": {
   "display_name": "Python 3.9.7 ('thesis')",
   "language": "python",
   "name": "python3"
  },
  "language_info": {
   "codemirror_mode": {
    "name": "ipython",
    "version": 3
   },
   "file_extension": ".py",
   "mimetype": "text/x-python",
   "name": "python",
   "nbconvert_exporter": "python",
   "pygments_lexer": "ipython3",
   "version": "3.9.7"
  },
  "orig_nbformat": 4
 },
 "nbformat": 4,
 "nbformat_minor": 2
}
