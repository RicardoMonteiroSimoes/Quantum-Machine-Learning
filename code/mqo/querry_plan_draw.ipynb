{
 "cells": [
  {
   "cell_type": "markdown",
   "metadata": {},
   "source": [
    "## Query plan drawer\n",
    "\n",
    "Takes a problem and draws queries for it "
   ]
  },
  {
   "cell_type": "code",
   "execution_count": 1,
   "metadata": {},
   "outputs": [],
   "source": [
    "problems = [(2,\n",
    "  [2,2],\n",
    "  [45, 11, 40, 38],\n",
    "  {(0, 2): 0, (0, 3): -3, (1, 2): -15, (1, 3): -14})]\n",
    "  ## 2nd array is how many plans per query\n",
    "  ### Needs to be adapted for n queries with n_i plans each"
   ]
  },
  {
   "cell_type": "code",
   "execution_count": 2,
   "metadata": {},
   "outputs": [],
   "source": [
    "import pydot\n",
    "from IPython.display import SVG\n",
    "import numpy as np"
   ]
  },
  {
   "cell_type": "code",
   "execution_count": 3,
   "metadata": {},
   "outputs": [],
   "source": [
    "def add_node(graph, node, label):\n",
    "    graph.add_node(pydot.Node(node, label=label))"
   ]
  },
  {
   "cell_type": "code",
   "execution_count": 4,
   "metadata": {},
   "outputs": [],
   "source": [
    "def add_join(graph, node, node_a, node_b):\n",
    "    graph.add_node(pydot.Node(node, shape=\"circle\", label=\"⋈\"))\n",
    "    graph.add_edge(pydot.Edge(node, node_a, color=\"black\"))\n",
    "    graph.add_edge(pydot.Edge(node, node_b, color=\"black\"))\n",
    "    "
   ]
  },
  {
   "cell_type": "code",
   "execution_count": 5,
   "metadata": {},
   "outputs": [],
   "source": [
    "def add_edge(graph, node_a, node_b):\n",
    "    graph.add_edge(pydot.Edge(node_a, node_b, color=\"black\"))"
   ]
  },
  {
   "cell_type": "code",
   "execution_count": 6,
   "metadata": {},
   "outputs": [],
   "source": [
    "def add_select(graph, node, node_a):\n",
    "    graph.add_node(pydot.Node(node, shape=\"circle\", label=\"π\"))\n",
    "    graph.add_edge(pydot.Edge(node, node_a, color=\"black\"))"
   ]
  },
  {
   "cell_type": "code",
   "execution_count": 7,
   "metadata": {},
   "outputs": [],
   "source": [
    "def create_graph(name, center=True):\n",
    "    return pydot.Dot(name, graph_type=\"graph\", bgcolor=\"transparent\", label=name, center=center)"
   ]
  },
  {
   "cell_type": "code",
   "execution_count": 8,
   "metadata": {},
   "outputs": [
    {
     "data": {
      "image/svg+xml": "<svg xmlns=\"http://www.w3.org/2000/svg\" xmlns:xlink=\"http://www.w3.org/1999/xlink\" width=\"206pt\" height=\"220pt\" viewBox=\"0.00 0.00 206.00 219.59\">\n<g id=\"graph0\" class=\"graph\" transform=\"scale(1 1) rotate(0) translate(4 215.59)\">\n<title>q0p0</title>\n<text text-anchor=\"middle\" x=\"99\" y=\"-7.8\" font-family=\"Times,serif\" font-size=\"14.00\">q0p0</text>\n<!-- a -->\n<g id=\"node1\" class=\"node\">\n<title>a</title>\n<ellipse fill=\"none\" stroke=\"black\" cx=\"27\" cy=\"-41\" rx=\"27\" ry=\"18\"/>\n<text text-anchor=\"middle\" x=\"27\" y=\"-37.3\" font-family=\"Times,serif\" font-size=\"14.00\">A</text>\n</g>\n<!-- b -->\n<g id=\"node2\" class=\"node\">\n<title>b</title>\n<ellipse fill=\"none\" stroke=\"black\" cx=\"99\" cy=\"-41\" rx=\"27\" ry=\"18\"/>\n<text text-anchor=\"middle\" x=\"99\" y=\"-37.3\" font-family=\"Times,serif\" font-size=\"14.00\">B</text>\n</g>\n<!-- jab -->\n<g id=\"node3\" class=\"node\">\n<title>jab</title>\n<ellipse fill=\"none\" stroke=\"black\" cx=\"99\" cy=\"-115.15\" rx=\"20.3\" ry=\"20.3\"/>\n<text text-anchor=\"middle\" x=\"99\" y=\"-111.45\" font-family=\"Times,serif\" font-size=\"14.00\">⋈</text>\n</g>\n<!-- jab&#45;&#45;a -->\n<g id=\"edge1\" class=\"edge\">\n<title>jab--a</title>\n<path fill=\"none\" stroke=\"black\" d=\"M85.12,-100.24C72.53,-87.63 54.06,-69.11 41.33,-56.36\"/>\n</g>\n<!-- jab&#45;&#45;b -->\n<g id=\"edge2\" class=\"edge\">\n<title>jab--b</title>\n<path fill=\"none\" stroke=\"black\" d=\"M99,-94.81C99,-83.79 99,-70.1 99,-59.41\"/>\n</g>\n<!-- c -->\n<g id=\"node4\" class=\"node\">\n<title>c</title>\n<ellipse fill=\"none\" stroke=\"black\" cx=\"171\" cy=\"-41\" rx=\"27\" ry=\"18\"/>\n<text text-anchor=\"middle\" x=\"171\" y=\"-37.3\" font-family=\"Times,serif\" font-size=\"14.00\">C</text>\n</g>\n<!-- sc -->\n<g id=\"node5\" class=\"node\">\n<title>sc</title>\n<ellipse fill=\"none\" stroke=\"black\" cx=\"163\" cy=\"-115.15\" rx=\"18\" ry=\"18\"/>\n<text text-anchor=\"middle\" x=\"163\" y=\"-111.45\" font-family=\"Times,serif\" font-size=\"14.00\">π</text>\n</g>\n<!-- sc&#45;&#45;c -->\n<g id=\"edge3\" class=\"edge\">\n<title>sc--c</title>\n<path fill=\"none\" stroke=\"black\" d=\"M164.9,-97.05C166.17,-85.55 167.85,-70.45 169.12,-58.98\"/>\n</g>\n<!-- jjabsc -->\n<g id=\"node6\" class=\"node\">\n<title>jjabsc</title>\n<ellipse fill=\"none\" stroke=\"black\" cx=\"131\" cy=\"-191.44\" rx=\"20.3\" ry=\"20.3\"/>\n<text text-anchor=\"middle\" x=\"131\" y=\"-187.74\" font-family=\"Times,serif\" font-size=\"14.00\">⋈</text>\n</g>\n<!-- jjabsc&#45;&#45;jab -->\n<g id=\"edge4\" class=\"edge\">\n<title>jjabsc--jab</title>\n<path fill=\"none\" stroke=\"black\" d=\"M123.25,-172.46C118.22,-160.78 111.69,-145.62 106.67,-133.97\"/>\n</g>\n<!-- jjabsc&#45;&#45;sc -->\n<g id=\"edge5\" class=\"edge\">\n<title>jjabsc--sc</title>\n<path fill=\"none\" stroke=\"black\" d=\"M138.75,-172.46C144.07,-160.09 151.08,-143.82 156.19,-131.95\"/>\n</g>\n</g>\n</svg>",
      "text/plain": [
       "<IPython.core.display.SVG object>"
      ]
     },
     "execution_count": 8,
     "metadata": {},
     "output_type": "execute_result"
    }
   ],
   "source": [
    "graph = create_graph(\"q0p0\")\n",
    "add_node(graph, \"a\", \"A\")\n",
    "add_node(graph, \"b\", \"B\")\n",
    "add_join(graph, \"jab\", \"a\", \"b\")\n",
    "add_node(graph, \"c\", \"C\")\n",
    "add_select(graph, \"sc\", \"c\")\n",
    "add_join(graph, \"jjabsc\", \"jab\", \"sc\")\n",
    "\n",
    "SVG(graph.create_svg())"
   ]
  },
  {
   "cell_type": "code",
   "execution_count": 9,
   "metadata": {},
   "outputs": [
    {
     "name": "stdout",
     "output_type": "stream",
     "text": [
      "[6, 5]\n"
     ]
    }
   ],
   "source": [
    "tables_per_query = []\n",
    "table_factor = 7\n",
    "for i in range(problems[0][0]):\n",
    "    max_cost_of_query = np.amax([problems[0][2][i*2],problems[0][2][i*2+1]])\n",
    "    tables_per_query.append(int(max_cost_of_query/table_factor))\n",
    "print(tables_per_query)\n",
    "    "
   ]
  },
  {
   "cell_type": "code",
   "execution_count": 10,
   "metadata": {},
   "outputs": [
    {
     "data": {
      "text/plain": [
       "3.0"
      ]
     },
     "execution_count": 10,
     "metadata": {},
     "output_type": "execute_result"
    }
   ],
   "source": [
    "savings_factor = 3\n",
    "avg_savings = np.ceil(np.abs(np.average(list(problems[0][3].values())))/savings_factor)\n",
    "avg_savings"
   ]
  },
  {
   "cell_type": "code",
   "execution_count": 11,
   "metadata": {},
   "outputs": [
    {
     "name": "stdout",
     "output_type": "stream",
     "text": [
      "[['A', 'B', 'C', 'D', 'E', 'F'], ['A', 'B', 'C', 'G', 'H']]\n"
     ]
    }
   ],
   "source": [
    "#chr(65) == 'A'\n",
    "tables = []\n",
    "for i, v in enumerate(tables_per_query):\n",
    "    t = []\n",
    "    copies = 0\n",
    "    offset = 0\n",
    "    for j in range(v):\n",
    "        while len(t) < v:\n",
    "            if i == 0:\n",
    "                t.append(chr(65+j))\n",
    "                break\n",
    "            else:\n",
    "                if chr(65+j+offset) in tables[i-1]:\n",
    "                    if copies < avg_savings:\n",
    "                        t.append(chr(65+j+offset))\n",
    "                        copies += 1\n",
    "                        break\n",
    "                    else:\n",
    "                        offset += 1\n",
    "                else:\n",
    "                    t.append(chr(65+j+offset))\n",
    "                    break\n",
    "    tables.append(t)\n",
    "print(tables)"
   ]
  },
  {
   "cell_type": "code",
   "execution_count": 12,
   "metadata": {},
   "outputs": [
    {
     "data": {
      "text/plain": [
       "(2,\n",
       " [2, 2],\n",
       " [45, 11, 40, 38],\n",
       " {(0, 2): 0, (0, 3): -3, (1, 2): -15, (1, 3): -14})"
      ]
     },
     "execution_count": 12,
     "metadata": {},
     "output_type": "execute_result"
    }
   ],
   "source": [
    "problems[0]"
   ]
  },
  {
   "cell_type": "code",
   "execution_count": 15,
   "metadata": {},
   "outputs": [
    {
     "name": "stdout",
     "output_type": "stream",
     "text": [
      "[[True, True, True, True, True], [False, True, True, True, True]]\n"
     ]
    }
   ],
   "source": [
    "ops = [[],[]]\n",
    "ops_factor = 10\n",
    "marks = {}\n",
    "for entry in problems[0][3]:\n",
    "    saving = problems[0][3][entry]\n",
    "    a, b = entry\n",
    "    if saving == 0:\n",
    "        marks[a] = np.minimum(0,a-1)\n",
    "        marks[b] = np.maximum(1,b-1)\n",
    "    else:\n",
    "        if a in marks and not b in marks:\n",
    "            del marks[a]\n",
    "\n",
    "for k, v in marks.items():\n",
    "    ops[v].append(False)\n",
    "\n",
    "for i, table in enumerate(tables):\n",
    "    for j in range(0, len(table)-1, 1):\n",
    "        ops[i].append(True)\n",
    "print(ops)    \n"
   ]
  },
  {
   "cell_type": "code",
   "execution_count": 36,
   "metadata": {},
   "outputs": [
    {
     "name": "stdout",
     "output_type": "stream",
     "text": [
      "0\n",
      "1\n",
      "0\n",
      "1\n",
      "0\n",
      "0\n",
      "1\n",
      "0\n",
      "1\n",
      "0\n"
     ]
    }
   ],
   "source": [
    "graphs = []\n",
    "\n",
    "for i in range(problems[0][0]):\n",
    "    for j in range(problems[0][1][i]):\n",
    "        g = create_graph(\"q\"+str(i)+\"p\"+str(j))\n",
    "        if all(ops[i]):\n",
    "            n_joins = len(ops[i])\n",
    "            for x, t in enumerate(ops[i]):\n",
    "                print(np.mod(x, int(n_joins/2)))\n",
    "                if np.mod(x,int(n_joins/2)) == 0 and x != 0:\n",
    "                    add_join(g, \"j\"+chr(65+x-1)+chr(65+x-2),chr(65+x-1),chr(65+x-2))\n",
    "                add_node(g, chr(65+x), chr(65+x))\n",
    "        graphs.append(g)"
   ]
  },
  {
   "cell_type": "code",
   "execution_count": 37,
   "metadata": {},
   "outputs": [
    {
     "data": {
      "image/svg+xml": "<svg xmlns=\"http://www.w3.org/2000/svg\" xmlns:xlink=\"http://www.w3.org/1999/xlink\" width=\"307pt\" height=\"143pt\" viewBox=\"0.00 0.00 307.00 143.30\">\n<g id=\"graph0\" class=\"graph\" transform=\"scale(1 1) rotate(0) translate(4 139.3)\">\n<title>q0p0</title>\n<text text-anchor=\"middle\" x=\"149.5\" y=\"-7.8\" font-family=\"Times,serif\" font-size=\"14.00\">q0p0</text>\n<!-- A -->\n<g id=\"node1\" class=\"node\">\n<title>A</title>\n<ellipse fill=\"none\" stroke=\"black\" cx=\"27\" cy=\"-41\" rx=\"27\" ry=\"18\"/>\n<text text-anchor=\"middle\" x=\"27\" y=\"-37.3\" font-family=\"Times,serif\" font-size=\"14.00\">A</text>\n</g>\n<!-- B -->\n<g id=\"node2\" class=\"node\">\n<title>B</title>\n<ellipse fill=\"none\" stroke=\"black\" cx=\"99\" cy=\"-41\" rx=\"27\" ry=\"18\"/>\n<text text-anchor=\"middle\" x=\"99\" y=\"-37.3\" font-family=\"Times,serif\" font-size=\"14.00\">B</text>\n</g>\n<!-- jBA -->\n<g id=\"node3\" class=\"node\">\n<title>jBA</title>\n<ellipse fill=\"none\" stroke=\"black\" cx=\"63\" cy=\"-115.15\" rx=\"20.3\" ry=\"20.3\"/>\n<text text-anchor=\"middle\" x=\"63\" y=\"-111.45\" font-family=\"Times,serif\" font-size=\"14.00\">⋈</text>\n</g>\n<!-- jBA&#45;&#45;A -->\n<g id=\"edge2\" class=\"edge\">\n<title>jBA--A</title>\n<path fill=\"none\" stroke=\"black\" d=\"M54.29,-96.68C48.46,-85.01 40.84,-69.75 35.14,-58.32\"/>\n</g>\n<!-- jBA&#45;&#45;B -->\n<g id=\"edge1\" class=\"edge\">\n<title>jBA--B</title>\n<path fill=\"none\" stroke=\"black\" d=\"M71.71,-96.68C77.54,-85.01 85.16,-69.75 90.86,-58.32\"/>\n</g>\n<!-- C -->\n<g id=\"node4\" class=\"node\">\n<title>C</title>\n<ellipse fill=\"none\" stroke=\"black\" cx=\"171\" cy=\"-41\" rx=\"27\" ry=\"18\"/>\n<text text-anchor=\"middle\" x=\"171\" y=\"-37.3\" font-family=\"Times,serif\" font-size=\"14.00\">C</text>\n</g>\n<!-- D -->\n<g id=\"node5\" class=\"node\">\n<title>D</title>\n<ellipse fill=\"none\" stroke=\"black\" cx=\"243\" cy=\"-41\" rx=\"27\" ry=\"18\"/>\n<text text-anchor=\"middle\" x=\"243\" y=\"-37.3\" font-family=\"Times,serif\" font-size=\"14.00\">D</text>\n</g>\n<!-- jDC -->\n<g id=\"node6\" class=\"node\">\n<title>jDC</title>\n<ellipse fill=\"none\" stroke=\"black\" cx=\"207\" cy=\"-115.15\" rx=\"20.3\" ry=\"20.3\"/>\n<text text-anchor=\"middle\" x=\"207\" y=\"-111.45\" font-family=\"Times,serif\" font-size=\"14.00\">⋈</text>\n</g>\n<!-- jDC&#45;&#45;C -->\n<g id=\"edge4\" class=\"edge\">\n<title>jDC--C</title>\n<path fill=\"none\" stroke=\"black\" d=\"M198.29,-96.68C192.46,-85.01 184.84,-69.75 179.14,-58.32\"/>\n</g>\n<!-- jDC&#45;&#45;D -->\n<g id=\"edge3\" class=\"edge\">\n<title>jDC--D</title>\n<path fill=\"none\" stroke=\"black\" d=\"M215.71,-96.68C221.54,-85.01 229.16,-69.75 234.86,-58.32\"/>\n</g>\n<!-- E -->\n<g id=\"node7\" class=\"node\">\n<title>E</title>\n<ellipse fill=\"none\" stroke=\"black\" cx=\"272\" cy=\"-115.15\" rx=\"27\" ry=\"18\"/>\n<text text-anchor=\"middle\" x=\"272\" y=\"-111.45\" font-family=\"Times,serif\" font-size=\"14.00\">E</text>\n</g>\n</g>\n</svg>",
      "text/plain": [
       "<IPython.core.display.SVG object>"
      ]
     },
     "metadata": {},
     "output_type": "display_data"
    },
    {
     "data": {
      "image/svg+xml": "<svg xmlns=\"http://www.w3.org/2000/svg\" xmlns:xlink=\"http://www.w3.org/1999/xlink\" width=\"307pt\" height=\"143pt\" viewBox=\"0.00 0.00 307.00 143.30\">\n<g id=\"graph0\" class=\"graph\" transform=\"scale(1 1) rotate(0) translate(4 139.3)\">\n<title>q0p1</title>\n<text text-anchor=\"middle\" x=\"149.5\" y=\"-7.8\" font-family=\"Times,serif\" font-size=\"14.00\">q0p1</text>\n<!-- A -->\n<g id=\"node1\" class=\"node\">\n<title>A</title>\n<ellipse fill=\"none\" stroke=\"black\" cx=\"27\" cy=\"-41\" rx=\"27\" ry=\"18\"/>\n<text text-anchor=\"middle\" x=\"27\" y=\"-37.3\" font-family=\"Times,serif\" font-size=\"14.00\">A</text>\n</g>\n<!-- B -->\n<g id=\"node2\" class=\"node\">\n<title>B</title>\n<ellipse fill=\"none\" stroke=\"black\" cx=\"99\" cy=\"-41\" rx=\"27\" ry=\"18\"/>\n<text text-anchor=\"middle\" x=\"99\" y=\"-37.3\" font-family=\"Times,serif\" font-size=\"14.00\">B</text>\n</g>\n<!-- jBA -->\n<g id=\"node3\" class=\"node\">\n<title>jBA</title>\n<ellipse fill=\"none\" stroke=\"black\" cx=\"63\" cy=\"-115.15\" rx=\"20.3\" ry=\"20.3\"/>\n<text text-anchor=\"middle\" x=\"63\" y=\"-111.45\" font-family=\"Times,serif\" font-size=\"14.00\">⋈</text>\n</g>\n<!-- jBA&#45;&#45;A -->\n<g id=\"edge2\" class=\"edge\">\n<title>jBA--A</title>\n<path fill=\"none\" stroke=\"black\" d=\"M54.29,-96.68C48.46,-85.01 40.84,-69.75 35.14,-58.32\"/>\n</g>\n<!-- jBA&#45;&#45;B -->\n<g id=\"edge1\" class=\"edge\">\n<title>jBA--B</title>\n<path fill=\"none\" stroke=\"black\" d=\"M71.71,-96.68C77.54,-85.01 85.16,-69.75 90.86,-58.32\"/>\n</g>\n<!-- C -->\n<g id=\"node4\" class=\"node\">\n<title>C</title>\n<ellipse fill=\"none\" stroke=\"black\" cx=\"171\" cy=\"-41\" rx=\"27\" ry=\"18\"/>\n<text text-anchor=\"middle\" x=\"171\" y=\"-37.3\" font-family=\"Times,serif\" font-size=\"14.00\">C</text>\n</g>\n<!-- D -->\n<g id=\"node5\" class=\"node\">\n<title>D</title>\n<ellipse fill=\"none\" stroke=\"black\" cx=\"243\" cy=\"-41\" rx=\"27\" ry=\"18\"/>\n<text text-anchor=\"middle\" x=\"243\" y=\"-37.3\" font-family=\"Times,serif\" font-size=\"14.00\">D</text>\n</g>\n<!-- jDC -->\n<g id=\"node6\" class=\"node\">\n<title>jDC</title>\n<ellipse fill=\"none\" stroke=\"black\" cx=\"207\" cy=\"-115.15\" rx=\"20.3\" ry=\"20.3\"/>\n<text text-anchor=\"middle\" x=\"207\" y=\"-111.45\" font-family=\"Times,serif\" font-size=\"14.00\">⋈</text>\n</g>\n<!-- jDC&#45;&#45;C -->\n<g id=\"edge4\" class=\"edge\">\n<title>jDC--C</title>\n<path fill=\"none\" stroke=\"black\" d=\"M198.29,-96.68C192.46,-85.01 184.84,-69.75 179.14,-58.32\"/>\n</g>\n<!-- jDC&#45;&#45;D -->\n<g id=\"edge3\" class=\"edge\">\n<title>jDC--D</title>\n<path fill=\"none\" stroke=\"black\" d=\"M215.71,-96.68C221.54,-85.01 229.16,-69.75 234.86,-58.32\"/>\n</g>\n<!-- E -->\n<g id=\"node7\" class=\"node\">\n<title>E</title>\n<ellipse fill=\"none\" stroke=\"black\" cx=\"272\" cy=\"-115.15\" rx=\"27\" ry=\"18\"/>\n<text text-anchor=\"middle\" x=\"272\" y=\"-111.45\" font-family=\"Times,serif\" font-size=\"14.00\">E</text>\n</g>\n</g>\n</svg>",
      "text/plain": [
       "<IPython.core.display.SVG object>"
      ]
     },
     "metadata": {},
     "output_type": "display_data"
    },
    {
     "data": {
      "image/svg+xml": "<svg xmlns=\"http://www.w3.org/2000/svg\" xmlns:xlink=\"http://www.w3.org/1999/xlink\" width=\"61pt\" height=\"31pt\" viewBox=\"0.00 0.00 61.00 31.00\">\n<g id=\"graph0\" class=\"graph\" transform=\"scale(1 1) rotate(0) translate(4 27)\">\n<title>q1p0</title>\n<text text-anchor=\"middle\" x=\"26.5\" y=\"-7.8\" font-family=\"Times,serif\" font-size=\"14.00\">q1p0</text>\n</g>\n</svg>",
      "text/plain": [
       "<IPython.core.display.SVG object>"
      ]
     },
     "metadata": {},
     "output_type": "display_data"
    },
    {
     "data": {
      "image/svg+xml": "<svg xmlns=\"http://www.w3.org/2000/svg\" xmlns:xlink=\"http://www.w3.org/1999/xlink\" width=\"61pt\" height=\"31pt\" viewBox=\"0.00 0.00 61.00 31.00\">\n<g id=\"graph0\" class=\"graph\" transform=\"scale(1 1) rotate(0) translate(4 27)\">\n<title>q1p1</title>\n<text text-anchor=\"middle\" x=\"26.5\" y=\"-7.8\" font-family=\"Times,serif\" font-size=\"14.00\">q1p1</text>\n</g>\n</svg>",
      "text/plain": [
       "<IPython.core.display.SVG object>"
      ]
     },
     "metadata": {},
     "output_type": "display_data"
    }
   ],
   "source": [
    "for g in graphs:\n",
    "    display(SVG(g.create_svg()))"
   ]
  }
 ],
 "metadata": {
  "interpreter": {
   "hash": "50d08dd0d611dadcb9089d5d7c1d9b5812cef9b8fe953ac568fb854525141b9b"
  },
  "kernelspec": {
   "display_name": "Python 3.9.7 ('thesis')",
   "language": "python",
   "name": "python3"
  },
  "language_info": {
   "codemirror_mode": {
    "name": "ipython",
    "version": 3
   },
   "file_extension": ".py",
   "mimetype": "text/x-python",
   "name": "python",
   "nbconvert_exporter": "python",
   "pygments_lexer": "ipython3",
   "version": "3.8.10"
  },
  "orig_nbformat": 4
 },
 "nbformat": 4,
 "nbformat_minor": 2
}
