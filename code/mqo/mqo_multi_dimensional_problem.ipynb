{
 "cells": [
  {
   "cell_type": "markdown",
   "metadata": {},
   "source": [
    "## Imports"
   ]
  },
  {
   "cell_type": "code",
   "execution_count": 2,
   "metadata": {},
   "outputs": [],
   "source": [
    "from qiskit import *\n",
    "from qiskit.circuit import Parameter\n",
    "from qiskit.visualization import plot_histogram\n",
    "from qiskit.providers.aer import QasmSimulator\n",
    "import qiskit.quantum_info as qi\n",
    "from qiskit.quantum_info import Statevector\n",
    "from qiskit.visualization import plot_bloch_multivector, plot_histogram\n",
    "\n",
    "import numpy as np\n",
    "import math\n",
    "import random\n",
    "\n",
    "%matplotlib inline\n",
    "\n",
    "from sklearn.preprocessing import MinMaxScaler\n",
    "\n",
    "import matplotlib.pyplot as plt\n",
    "from matplotlib import cm"
   ]
  },
  {
   "cell_type": "markdown",
   "metadata": {},
   "source": [
    "## Dataset generation"
   ]
  },
  {
   "cell_type": "markdown",
   "metadata": {},
   "source": [
    "Output of the old generator\n",
    "```python\n",
    "[(2,\n",
    "  array([45, 11, 40, 38]),\n",
    "  {(0, 2): -15, (0, 3): -9, (1, 2): -9, (1, 3): -14}),\n",
    " (2,\n",
    "  array([10, 37,  9, 46]),\n",
    "  {(0, 2): -20, (0, 3): -15, (1, 2): -2, (1, 3): -4}),\n",
    " (2,\n",
    "  array([12, 48, 35, 38]),\n",
    "  {(0, 2): -3, (0, 3): -7, (1, 2): -19, (1, 3): -8}),\n",
    " (2,\n",
    "  array([ 4, 42, 28, 33]),\n",
    "  {(0, 2): -11, (0, 3): -10, (1, 2): -1, (1, 3): -14}),\n",
    " (2,\n",
    "  array([43, 23, 23, 18]),\n",
    "  {(0, 2): -3, (0, 3): -2, (1, 2): -16, (1, 3): 0})]\n",
    "  ```"
   ]
  },
  {
   "cell_type": "code",
   "execution_count": 23,
   "metadata": {},
   "outputs": [],
   "source": [
    "def create_savings(n_queries, n_plans_per_query):\n",
    "    savings = {}\n",
    "    for i in range(n_queries-1):\n",
    "        for j in range(n_plans_per_query[i]):\n",
    "            for a in range(i+1, n_queries,1):\n",
    "                for b in range(n_plans_per_query[a]):\n",
    "                    for x in n_plans_per_query[i+1:]:\n",
    "                        for y in range(x):\n",
    "                            if i == 0:\n",
    "                                savings[j, y + np.sum(n_plans_per_query[i:a])] = random.randint(-20, 0)\n",
    "                            else:\n",
    "                                savings[j + np.sum(n_plans_per_query[0:i]), y + np.sum(n_plans_per_query[i:a])] = random.randint(-20, 0)\n",
    "\n",
    "    return savings"
   ]
  },
  {
   "cell_type": "code",
   "execution_count": 10,
   "metadata": {},
   "outputs": [],
   "source": [
    "def create_problems(n_problems, n_queries, n_plans_per_query, cost_min = 0, cost_max = 50, savings_min = -20, savings_max = 0):\n",
    "    problems = []\n",
    "    for i in range(n_problems):\n",
    "        problems.append((n_plans_per_query, np.random.randint(cost_min, cost_max, np.sum(n_plans_per_query)), \n",
    "            create_savings(n_queries, n_plans_per_query)))\n",
    "    return problems"
   ]
  },
  {
   "cell_type": "code",
   "execution_count": 14,
   "metadata": {},
   "outputs": [
    {
     "data": {
      "text/plain": [
       "6"
      ]
     },
     "execution_count": 14,
     "metadata": {},
     "output_type": "execute_result"
    }
   ],
   "source": [
    "ppq = [4,2,3]\n",
    "\n",
    "np.sum(ppq[0:2])"
   ]
  },
  {
   "cell_type": "markdown",
   "metadata": {},
   "source": [
    "Problems are generated, but only work, for now, in double combinations -> no three way savings!"
   ]
  },
  {
   "cell_type": "code",
   "execution_count": 92,
   "metadata": {},
   "outputs": [
    {
     "data": {
      "text/plain": [
       "[([2, 3, 2],\n",
       "  array([44, 16, 43, 24, 30, 10, 12]),\n",
       "  {(0, 2): -3,\n",
       "   (0, 3): -17,\n",
       "   (0, 4): -2,\n",
       "   (0, 5): -20,\n",
       "   (0, 6): -16,\n",
       "   (0, 7): -6,\n",
       "   (1, 2): -1,\n",
       "   (1, 3): -5,\n",
       "   (1, 4): -1,\n",
       "   (1, 5): -6,\n",
       "   (1, 6): -11,\n",
       "   (1, 7): -2,\n",
       "   (2, 3): -4,\n",
       "   (2, 4): 0,\n",
       "   (3, 3): -7,\n",
       "   (3, 4): -13,\n",
       "   (4, 3): -2,\n",
       "   (4, 4): -9})]"
      ]
     },
     "execution_count": 92,
     "metadata": {},
     "output_type": "execute_result"
    }
   ],
   "source": [
    "problems = create_problems(1, 3, [2,3,2])\n",
    "problems"
   ]
  },
  {
   "cell_type": "markdown",
   "metadata": {},
   "source": [
    "We now generate the combinational bitstrings that are possible"
   ]
  },
  {
   "cell_type": "code",
   "execution_count": 91,
   "metadata": {},
   "outputs": [
    {
     "name": "stdout",
     "output_type": "stream",
     "text": [
      "['101010', '101001', '100110', '100101', '011010', '011001', '010110', '010101']\n"
     ]
    }
   ],
   "source": [
    "n_qubits = np.sum(problems[0][0])\n",
    "binary_string = []\n",
    "for i, v in enumerate(problems[0][0]):\n",
    "    if i == 0:\n",
    "        for j in range(v):\n",
    "            binary_string.append('0'*j + '1' + '0'*(v-j-1))\n",
    "    else:\n",
    "        copy = []\n",
    "        for x in binary_string:\n",
    "            for j in range(v):\n",
    "                copy.append(x + '0'*j + '1' + '0'*(v-j-1))\n",
    "        binary_string = copy\n",
    "\n",
    "\n",
    "print(binary_string)\n"
   ]
  },
  {
   "cell_type": "markdown",
   "metadata": {},
   "source": [
    "Now we generate the circuits..."
   ]
  },
  {
   "cell_type": "code",
   "execution_count": null,
   "metadata": {},
   "outputs": [],
   "source": []
  }
 ],
 "metadata": {
  "interpreter": {
   "hash": "50d08dd0d611dadcb9089d5d7c1d9b5812cef9b8fe953ac568fb854525141b9b"
  },
  "kernelspec": {
   "display_name": "Python 3.9.7 ('thesis')",
   "language": "python",
   "name": "python3"
  },
  "language_info": {
   "codemirror_mode": {
    "name": "ipython",
    "version": 3
   },
   "file_extension": ".py",
   "mimetype": "text/x-python",
   "name": "python",
   "nbconvert_exporter": "python",
   "pygments_lexer": "ipython3",
   "version": "3.9.7"
  },
  "orig_nbformat": 4
 },
 "nbformat": 4,
 "nbformat_minor": 2
}
