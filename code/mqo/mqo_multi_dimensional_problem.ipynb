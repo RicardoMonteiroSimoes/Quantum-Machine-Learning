{
 "cells": [
  {
   "cell_type": "markdown",
   "metadata": {},
   "source": [
    "## Imports"
   ]
  },
  {
   "cell_type": "code",
   "execution_count": 1,
   "metadata": {},
   "outputs": [],
   "source": [
    "from qiskit import *\n",
    "from qiskit.circuit import Parameter\n",
    "from qiskit.visualization import plot_histogram\n",
    "from qiskit.providers.aer import QasmSimulator\n",
    "import qiskit.quantum_info as qi\n",
    "from qiskit.quantum_info import Statevector\n",
    "from qiskit.visualization import plot_bloch_multivector, plot_histogram\n",
    "\n",
    "import numpy as np\n",
    "import math\n",
    "import random\n",
    "\n",
    "%matplotlib inline\n",
    "\n",
    "from sklearn.preprocessing import MinMaxScaler\n",
    "\n",
    "import matplotlib.pyplot as plt\n",
    "from matplotlib import cm"
   ]
  },
  {
   "cell_type": "markdown",
   "metadata": {},
   "source": [
    "## Dataset generation"
   ]
  },
  {
   "cell_type": "markdown",
   "metadata": {},
   "source": [
    "Output of the old generator\n",
    "```python\n",
    "[(2,\n",
    "  array([45, 11, 40, 38]),\n",
    "  {(0, 2): -15, (0, 3): -9, (1, 2): -9, (1, 3): -14}),\n",
    " (2,\n",
    "  array([10, 37,  9, 46]),\n",
    "  {(0, 2): -20, (0, 3): -15, (1, 2): -2, (1, 3): -4}),\n",
    " (2,\n",
    "  array([12, 48, 35, 38]),\n",
    "  {(0, 2): -3, (0, 3): -7, (1, 2): -19, (1, 3): -8}),\n",
    " (2,\n",
    "  array([ 4, 42, 28, 33]),\n",
    "  {(0, 2): -11, (0, 3): -10, (1, 2): -1, (1, 3): -14}),\n",
    " (2,\n",
    "  array([43, 23, 23, 18]),\n",
    "  {(0, 2): -3, (0, 3): -2, (1, 2): -16, (1, 3): 0})]\n",
    "  ```"
   ]
  },
  {
   "cell_type": "code",
   "execution_count": 2,
   "metadata": {},
   "outputs": [],
   "source": [
    "def create_savings(n_queries, n_plans_per_query):\n",
    "    savings = {}\n",
    "    for i in range(n_queries-1):\n",
    "        for j in range(n_plans_per_query[i]):\n",
    "            s = j + np.sum(n_plans_per_query[0:i], dtype=int)\n",
    "            for a in range(i+1, n_queries):\n",
    "                for b in range(n_plans_per_query[a]):\n",
    "                    t = b + np.sum(n_plans_per_query[:a], dtype=int)\n",
    "                    savings[s, t] = random.randint(-20, 0)\n",
    "\n",
    "    return savings"
   ]
  },
  {
   "cell_type": "code",
   "execution_count": 3,
   "metadata": {},
   "outputs": [],
   "source": [
    "def create_problems(n_problems, n_queries, n_plans_per_query, cost_min = 0, cost_max = 50, savings_min = -20, savings_max = 0):\n",
    "    problems = []\n",
    "    for i in range(n_problems):\n",
    "        problems.append((n_plans_per_query, np.random.randint(cost_min, cost_max, np.sum(n_plans_per_query)), \n",
    "            create_savings(n_queries, n_plans_per_query)))\n",
    "    return problems"
   ]
  },
  {
   "cell_type": "markdown",
   "metadata": {},
   "source": [
    "Problems are generated, but only work, for now, in double combinations -> no three way savings!"
   ]
  },
  {
   "cell_type": "code",
   "execution_count": 71,
   "metadata": {},
   "outputs": [
    {
     "data": {
      "text/plain": [
       "[([2, 3, 2],\n",
       "  array([22, 40, 16, 19, 26, 15, 35]),\n",
       "  {(0, 2): -7,\n",
       "   (0, 3): -7,\n",
       "   (0, 4): -5,\n",
       "   (0, 5): -3,\n",
       "   (0, 6): -9,\n",
       "   (1, 2): -9,\n",
       "   (1, 3): -17,\n",
       "   (1, 4): 0,\n",
       "   (1, 5): -3,\n",
       "   (1, 6): -19,\n",
       "   (2, 5): -4,\n",
       "   (2, 6): -13,\n",
       "   (3, 5): -10,\n",
       "   (3, 6): -7,\n",
       "   (4, 5): -18,\n",
       "   (4, 6): -19})]"
      ]
     },
     "execution_count": 71,
     "metadata": {},
     "output_type": "execute_result"
    }
   ],
   "source": [
    "problems = create_problems(1, 3, [2,3,2])\n",
    "problems"
   ]
  },
  {
   "cell_type": "markdown",
   "metadata": {},
   "source": [
    "We now want to classically solve the problem so we can get a ranking."
   ]
  },
  {
   "cell_type": "code",
   "execution_count": 72,
   "metadata": {},
   "outputs": [
    {
     "name": "stdout",
     "output_type": "stream",
     "text": [
      "{(0, 2): -7, (0, 3): -7, (0, 4): -5, (0, 5): -3, (0, 6): -9, (1, 2): -9, (1, 3): -17, (1, 4): 0, (1, 5): -3, (1, 6): -19, (2, 5): -4, (2, 6): -13, (3, 5): -10, (3, 6): -7, (4, 5): -18, (4, 6): -19}\n",
      "{(0, 2): 31, (0, 3): 34, (0, 4): 43, (0, 5): 34, (0, 6): 48, (1, 2): 47, (1, 3): 42, (1, 4): 66, (1, 5): 52, (1, 6): 56, (2, 5): 27, (2, 6): 38, (3, 5): 24, (3, 6): 47, (4, 5): 23, (4, 6): 42}\n",
      "{(0, 2, 5): 92, (0, 2, 6): 117, (0, 3, 5): 92, (0, 3, 6): 129, (0, 4, 5): 100, (0, 4, 6): 133, (1, 2, 5): 126, (1, 2, 6): 141, (1, 3, 5): 118, (1, 3, 6): 145, (1, 4, 5): 141, (1, 4, 6): 164}\n"
     ]
    }
   ],
   "source": [
    "#def solve_classical(problems):\n",
    "solutions_complete = []\n",
    "best_solution = []\n",
    "end_costs = {}\n",
    "for problem in problems:\n",
    "    t_cost_2d = {}\n",
    "    cost = 0\n",
    "    ##TO MAKE DYNAMIC YOU HAVE TO ITERATE FOR EACH QUERY\n",
    "    for x, y in problem[2]:\n",
    "        t_cost_2d[x, y] = problem[1][x] + problem[1][y] + problem[2][x, y]\n",
    "    t_cost_3d = {}\n",
    "    for a, b in problem[2]:\n",
    "        for _, c in [(x, y) for x, y in problem[2] if x == b]:\n",
    "            t_cost_3d[a, b, c] = t_cost_2d[a, b] + t_cost_2d[a, c] + t_cost_2d[b, c]\n",
    "\n",
    "print(problems[0][-1])\n",
    "print(t_cost_2d)\n",
    "print(t_cost_3d)\n",
    "#   return solutions_complete"
   ]
  },
  {
   "cell_type": "code",
   "execution_count": 113,
   "metadata": {},
   "outputs": [
    {
     "name": "stdout",
     "output_type": "stream",
     "text": [
      "{(0, 2, 5): -11, (0, 2, 6): -20, (0, 3, 5): -17, (0, 3, 6): -14, (0, 4, 5): -23, (0, 4, 6): -24, (1, 2, 5): -13, (1, 2, 6): -22, (1, 3, 5): -27, (1, 3, 6): -24, (1, 4, 5): -18, (1, 4, 6): -19}\n"
     ]
    }
   ],
   "source": [
    "#def solve_classical(problems):\n",
    "combi_costs = []\n",
    "for problem in problems:\n",
    "    costs = problem[2]\n",
    "    while len(costs) > np.prod(problem[0]):\n",
    "        new_costs = {}\n",
    "        for a in costs:\n",
    "            for b in [z for z in costs if z[0] == a[-1]]:\n",
    "                c = list(a)\n",
    "                c.append(b[-1])\n",
    "                c = tuple(c)\n",
    "                new_costs[c] = costs[a] + costs[b]\n",
    "        if new_costs == costs:\n",
    "            break\n",
    "        else:\n",
    "            costs = new_costs\n",
    "    combi_costs.append(costs)\n",
    "\n",
    "print(combi_costs[0])\n",
    "#   return solutions_complete"
   ]
  },
  {
   "cell_type": "code",
   "execution_count": 114,
   "metadata": {},
   "outputs": [
    {
     "data": {
      "text/plain": [
       "{(0, 2, 5): 42,\n",
       " (0, 2, 6): 53,\n",
       " (0, 3, 5): 39,\n",
       " (0, 3, 6): 62,\n",
       " (0, 4, 5): 40,\n",
       " (0, 4, 6): 59,\n",
       " (1, 2, 5): 58,\n",
       " (1, 2, 6): 69,\n",
       " (1, 3, 5): 47,\n",
       " (1, 3, 6): 70,\n",
       " (1, 4, 5): 63,\n",
       " (1, 4, 6): 82}"
      ]
     },
     "execution_count": 114,
     "metadata": {},
     "output_type": "execute_result"
    }
   ],
   "source": [
    "for i, costs in enumerate(combi_costs):\n",
    "    for a in costs:\n",
    "        for b in a:\n",
    "            costs[a] += problems[0][1][b]\n",
    "    combi_costs[i] = costs\n",
    "costs\n"
   ]
  },
  {
   "cell_type": "code",
   "execution_count": 101,
   "metadata": {},
   "outputs": [
    {
     "data": {
      "text/plain": [
       "['1010010',\n",
       " '1010001',\n",
       " '1001010',\n",
       " '1001001',\n",
       " '1000110',\n",
       " '1000101',\n",
       " '0110010',\n",
       " '0110001',\n",
       " '0101010',\n",
       " '0101001',\n",
       " '0100110',\n",
       " '0100101']"
      ]
     },
     "execution_count": 101,
     "metadata": {},
     "output_type": "execute_result"
    }
   ],
   "source": [
    "bit_strings = []\n",
    "for a in costs:\n",
    "    b = list('0'*sum(problems[0][0]))\n",
    "    for i in a:\n",
    "        b[i] = '1'\n",
    "    bit_strings.append(''.join(b))\n",
    "bit_strings"
   ]
  },
  {
   "cell_type": "code",
   "execution_count": 102,
   "metadata": {},
   "outputs": [
    {
     "data": {
      "text/plain": [
       "{(0, 2, 5): 42,\n",
       " (0, 2, 6): 53,\n",
       " (0, 3, 5): 39,\n",
       " (0, 3, 6): 62,\n",
       " (0, 4, 5): 40,\n",
       " (0, 4, 6): 59,\n",
       " (1, 2, 5): 58,\n",
       " (1, 2, 6): 69,\n",
       " (1, 3, 5): 47,\n",
       " (1, 3, 6): 70,\n",
       " (1, 4, 5): 63,\n",
       " (1, 4, 6): 82}"
      ]
     },
     "execution_count": 102,
     "metadata": {},
     "output_type": "execute_result"
    }
   ],
   "source": [
    "combi_costs[0]"
   ]
  },
  {
   "cell_type": "code",
   "execution_count": 108,
   "metadata": {},
   "outputs": [
    {
     "data": {
      "text/plain": [
       "[{(0, 3, 5): 39,\n",
       "  (0, 4, 5): 40,\n",
       "  (0, 2, 5): 42,\n",
       "  (1, 3, 5): 47,\n",
       "  (0, 2, 6): 53,\n",
       "  (1, 2, 5): 58,\n",
       "  (0, 4, 6): 59,\n",
       "  (0, 3, 6): 62,\n",
       "  (1, 4, 5): 63,\n",
       "  (1, 2, 6): 69,\n",
       "  (1, 3, 6): 70,\n",
       "  (1, 4, 6): 82}]"
      ]
     },
     "execution_count": 108,
     "metadata": {},
     "output_type": "execute_result"
    }
   ],
   "source": [
    "#sort costs so theyre... sorted by cheapest first\n",
    "\n",
    "for i, cost in enumerate(combi_costs):\n",
    "    combi_costs[i] = {k: cost[k] for k in sorted(cost, key=cost.get)}\n",
    "\n",
    "combi_costs\n"
   ]
  },
  {
   "cell_type": "code",
   "execution_count": 111,
   "metadata": {},
   "outputs": [
    {
     "data": {
      "text/plain": [
       "[['1001010',\n",
       "  '1000110',\n",
       "  '1010010',\n",
       "  '0101010',\n",
       "  '1010001',\n",
       "  '0110010',\n",
       "  '1000101',\n",
       "  '1001001',\n",
       "  '0100110',\n",
       "  '0110001',\n",
       "  '0101001',\n",
       "  '0100101']]"
      ]
     },
     "execution_count": 111,
     "metadata": {},
     "output_type": "execute_result"
    }
   ],
   "source": [
    "solution_keys_ranking = []\n",
    "for cost in combi_costs:\n",
    "    bit_strings = []\n",
    "    for a in cost:\n",
    "        b = list('0'*sum(problems[0][0]))\n",
    "        for i in a:\n",
    "            b[i] = '1'\n",
    "        bit_strings.append(''.join(b))\n",
    "    solution_keys_ranking.append(bit_strings)\n",
    "solution_keys_ranking\n",
    "    "
   ]
  },
  {
   "cell_type": "markdown",
   "metadata": {},
   "source": [
    "We now generate the combinational bitstrings that are possible"
   ]
  },
  {
   "cell_type": "code",
   "execution_count": null,
   "metadata": {},
   "outputs": [
    {
     "name": "stdout",
     "output_type": "stream",
     "text": [
      "['1010100', '1010010', '1010001', '1001100', '1001010', '1001001', '0110100', '0110010', '0110001', '0101100', '0101010', '0101001']\n"
     ]
    }
   ],
   "source": [
    "n_qubits = np.sum(problems[0][0])\n",
    "binary_string = []\n",
    "for i, v in enumerate(problems[0][0]):\n",
    "    if i == 0:\n",
    "        for j in range(v):\n",
    "            binary_string.append('0'*j + '1' + '0'*(v-j-1))\n",
    "    else:\n",
    "        copy = []\n",
    "        for x in binary_string:\n",
    "            for j in range(v):\n",
    "                copy.append(x + '0'*j + '1' + '0'*(v-j-1))\n",
    "        binary_string = copy\n",
    "print(binary_string)\n"
   ]
  },
  {
   "cell_type": "markdown",
   "metadata": {},
   "source": [
    "Now we generate the circuits..."
   ]
  },
  {
   "cell_type": "code",
   "execution_count": null,
   "metadata": {},
   "outputs": [],
   "source": [
    "from qiskit import *\n",
    "from qiskit import Aer\n",
    "from qiskit.circuit import Parameter\n",
    "from qiskit.visualization import plot_histogram\n",
    "from qiskit.providers.aer import QasmSimulator\n",
    "from qiskit.visualization import plot_histogram\n",
    "\n",
    "import numpy as np\n",
    "import math"
   ]
  },
  {
   "cell_type": "code",
   "execution_count": null,
   "metadata": {},
   "outputs": [
    {
     "data": {
      "text/plain": [
       "[([2, 3, 2],\n",
       "  array([23, 47, 11, 25, 47, 43, 42]),\n",
       "  {(0, 2): -19,\n",
       "   (0, 3): 0,\n",
       "   (0, 4): -20,\n",
       "   (0, 5): -11,\n",
       "   (0, 6): -8,\n",
       "   (0, 7): -5,\n",
       "   (1, 2): -4,\n",
       "   (1, 3): -13,\n",
       "   (1, 4): 0,\n",
       "   (1, 5): -2,\n",
       "   (1, 6): -10,\n",
       "   (1, 7): -19,\n",
       "   (2, 5): -6,\n",
       "   (2, 6): -6,\n",
       "   (3, 5): -19,\n",
       "   (3, 6): -8,\n",
       "   (4, 5): -14,\n",
       "   (4, 6): -12})]"
      ]
     },
     "execution_count": 188,
     "metadata": {},
     "output_type": "execute_result"
    }
   ],
   "source": [
    "problems = create_problems(1, 3, [2,3,2])\n",
    "problems"
   ]
  },
  {
   "cell_type": "code",
   "execution_count": 104,
   "metadata": {},
   "outputs": [
    {
     "data": {
      "text/html": [
       "<pre style=\"word-wrap: normal;white-space: pre;background: #fff0;line-height: 1.1;font-family: &quot;Courier New&quot;,Courier,monospace\">     ┌───┐┌────────┐ ░                                                    ░ »\n",
       "q_0: ┤ H ├┤ Ry(22) ├─░─────■─────────■─────────■─────────■─────────■──────░─»\n",
       "     ├───┤├────────┤ ░     │         │         │         │         │      ░ »\n",
       "q_1: ┤ H ├┤ Ry(40) ├─░─────┼─────────┼─────────┼─────────┼─────────┼──────░─»\n",
       "     ├───┤├────────┤ ░ ┌───┴────┐    │         │         │         │      ░ »\n",
       "q_2: ┤ H ├┤ Ry(16) ├─░─┤ Rz(-7) ├────┼─────────┼─────────┼─────────┼──────░─»\n",
       "     ├───┤├────────┤ ░ └────────┘┌───┴────┐    │         │         │      ░ »\n",
       "q_3: ┤ H ├┤ Ry(19) ├─░───────────┤ Rz(-7) ├────┼─────────┼─────────┼──────░─»\n",
       "     ├───┤├────────┤ ░           └────────┘┌───┴────┐    │         │      ░ »\n",
       "q_4: ┤ H ├┤ Ry(26) ├─░─────────────────────┤ Rz(-5) ├────┼─────────┼──────░─»\n",
       "     ├───┤├────────┤ ░                     └────────┘┌───┴────┐    │      ░ »\n",
       "q_5: ┤ H ├┤ Ry(15) ├─░───────────────────────────────┤ Rz(-3) ├────┼──────░─»\n",
       "     ├───┤├────────┤ ░                               └────────┘┌───┴────┐ ░ »\n",
       "q_6: ┤ H ├┤ Ry(35) ├─░─────────────────────────────────────────┤ Rz(-9) ├─░─»\n",
       "     └───┘└────────┘ ░                                         └────────┘ ░ »\n",
       "«                                                         ░           »\n",
       "«q_0: ────────────────────────────────────────────────────░───────────»\n",
       "«                                                         ░           »\n",
       "«q_1: ────■──────────■─────────■────────■──────────■──────░───────────»\n",
       "«     ┌───┴────┐     │         │        │          │      ░           »\n",
       "«q_2: ┤ Rz(-9) ├─────┼─────────┼────────┼──────────┼──────░─────■─────»\n",
       "«     └────────┘┌────┴────┐    │        │          │      ░     │     »\n",
       "«q_3: ──────────┤ Rz(-17) ├────┼────────┼──────────┼──────░─────┼─────»\n",
       "«               └─────────┘┌───┴───┐    │          │      ░     │     »\n",
       "«q_4: ─────────────────────┤ Rz(0) ├────┼──────────┼──────░─────┼─────»\n",
       "«                          └───────┘┌───┴────┐     │      ░ ┌───┴────┐»\n",
       "«q_5: ──────────────────────────────┤ Rz(-3) ├─────┼──────░─┤ Rz(-4) ├»\n",
       "«                                   └────────┘┌────┴────┐ ░ └────────┘»\n",
       "«q_6: ────────────────────────────────────────┤ Rz(-19) ├─░───────────»\n",
       "«                                             └─────────┘ ░           »\n",
       "«                 ░                       ░                        ░ \n",
       "«q_0: ────────────░───────────────────────░────────────────────────░─\n",
       "«                 ░                       ░                        ░ \n",
       "«q_1: ────────────░───────────────────────░────────────────────────░─\n",
       "«                 ░                       ░                        ░ \n",
       "«q_2: ─────■──────░───────────────────────░────────────────────────░─\n",
       "«          │      ░                       ░                        ░ \n",
       "«q_3: ─────┼──────░──────■─────────■──────░────────────────────────░─\n",
       "«          │      ░      │         │      ░                        ░ \n",
       "«q_4: ─────┼──────░──────┼─────────┼──────░──────■──────────■──────░─\n",
       "«          │      ░ ┌────┴────┐    │      ░ ┌────┴────┐     │      ░ \n",
       "«q_5: ─────┼──────░─┤ Rz(-10) ├────┼──────░─┤ Rz(-18) ├─────┼──────░─\n",
       "«     ┌────┴────┐ ░ └─────────┘┌───┴────┐ ░ └─────────┘┌────┴────┐ ░ \n",
       "«q_6: ┤ Rz(-13) ├─░────────────┤ Rz(-7) ├─░────────────┤ Rz(-19) ├─░─\n",
       "«     └─────────┘ ░            └────────┘ ░            └─────────┘ ░ </pre>"
      ],
      "text/plain": [
       "     ┌───┐┌────────┐ ░                                                    ░ »\n",
       "q_0: ┤ H ├┤ Ry(22) ├─░─────■─────────■─────────■─────────■─────────■──────░─»\n",
       "     ├───┤├────────┤ ░     │         │         │         │         │      ░ »\n",
       "q_1: ┤ H ├┤ Ry(40) ├─░─────┼─────────┼─────────┼─────────┼─────────┼──────░─»\n",
       "     ├───┤├────────┤ ░ ┌───┴────┐    │         │         │         │      ░ »\n",
       "q_2: ┤ H ├┤ Ry(16) ├─░─┤ Rz(-7) ├────┼─────────┼─────────┼─────────┼──────░─»\n",
       "     ├───┤├────────┤ ░ └────────┘┌───┴────┐    │         │         │      ░ »\n",
       "q_3: ┤ H ├┤ Ry(19) ├─░───────────┤ Rz(-7) ├────┼─────────┼─────────┼──────░─»\n",
       "     ├───┤├────────┤ ░           └────────┘┌───┴────┐    │         │      ░ »\n",
       "q_4: ┤ H ├┤ Ry(26) ├─░─────────────────────┤ Rz(-5) ├────┼─────────┼──────░─»\n",
       "     ├───┤├────────┤ ░                     └────────┘┌───┴────┐    │      ░ »\n",
       "q_5: ┤ H ├┤ Ry(15) ├─░───────────────────────────────┤ Rz(-3) ├────┼──────░─»\n",
       "     ├───┤├────────┤ ░                               └────────┘┌───┴────┐ ░ »\n",
       "q_6: ┤ H ├┤ Ry(35) ├─░─────────────────────────────────────────┤ Rz(-9) ├─░─»\n",
       "     └───┘└────────┘ ░                                         └────────┘ ░ »\n",
       "«                                                         ░           »\n",
       "«q_0: ────────────────────────────────────────────────────░───────────»\n",
       "«                                                         ░           »\n",
       "«q_1: ────■──────────■─────────■────────■──────────■──────░───────────»\n",
       "«     ┌───┴────┐     │         │        │          │      ░           »\n",
       "«q_2: ┤ Rz(-9) ├─────┼─────────┼────────┼──────────┼──────░─────■─────»\n",
       "«     └────────┘┌────┴────┐    │        │          │      ░     │     »\n",
       "«q_3: ──────────┤ Rz(-17) ├────┼────────┼──────────┼──────░─────┼─────»\n",
       "«               └─────────┘┌───┴───┐    │          │      ░     │     »\n",
       "«q_4: ─────────────────────┤ Rz(0) ├────┼──────────┼──────░─────┼─────»\n",
       "«                          └───────┘┌───┴────┐     │      ░ ┌───┴────┐»\n",
       "«q_5: ──────────────────────────────┤ Rz(-3) ├─────┼──────░─┤ Rz(-4) ├»\n",
       "«                                   └────────┘┌────┴────┐ ░ └────────┘»\n",
       "«q_6: ────────────────────────────────────────┤ Rz(-19) ├─░───────────»\n",
       "«                                             └─────────┘ ░           »\n",
       "«                 ░                       ░                        ░ \n",
       "«q_0: ────────────░───────────────────────░────────────────────────░─\n",
       "«                 ░                       ░                        ░ \n",
       "«q_1: ────────────░───────────────────────░────────────────────────░─\n",
       "«                 ░                       ░                        ░ \n",
       "«q_2: ─────■──────░───────────────────────░────────────────────────░─\n",
       "«          │      ░                       ░                        ░ \n",
       "«q_3: ─────┼──────░──────■─────────■──────░────────────────────────░─\n",
       "«          │      ░      │         │      ░                        ░ \n",
       "«q_4: ─────┼──────░──────┼─────────┼──────░──────■──────────■──────░─\n",
       "«          │      ░ ┌────┴────┐    │      ░ ┌────┴────┐     │      ░ \n",
       "«q_5: ─────┼──────░─┤ Rz(-10) ├────┼──────░─┤ Rz(-18) ├─────┼──────░─\n",
       "«     ┌────┴────┐ ░ └─────────┘┌───┴────┐ ░ └─────────┘┌────┴────┐ ░ \n",
       "«q_6: ┤ Rz(-13) ├─░────────────┤ Rz(-7) ├─░────────────┤ Rz(-19) ├─░─\n",
       "«     └─────────┘ ░            └────────┘ ░            └─────────┘ ░ "
      ]
     },
     "execution_count": 104,
     "metadata": {},
     "output_type": "execute_result"
    }
   ],
   "source": [
    "circuit = QuantumCircuit(np.sum(problems[0][0]))\n",
    "circuit.h(range(circuit.width()))\n",
    "for i, v in enumerate(problems[0][1]):\n",
    "    circuit.ry(v, i)\n",
    "circuit.barrier()\n",
    "\n",
    "prev_i = 0\n",
    "for i, v in problems[0][2]:\n",
    "    if prev_i != i:\n",
    "        circuit.barrier()\n",
    "    circuit.crz(problems[0][2][i, v], i, v)\n",
    "    prev_i = i\n",
    "circuit.barrier()\n",
    "\n",
    "circuit.draw()"
   ]
  },
  {
   "cell_type": "code",
   "execution_count": null,
   "metadata": {},
   "outputs": [
    {
     "data": {
      "text/plain": [
       "array([1, 3, 2, 2, 3])"
      ]
     },
     "execution_count": 174,
     "metadata": {},
     "output_type": "execute_result"
    }
   ],
   "source": [
    "np.random.randint(1,4, size=5)"
   ]
  }
 ],
 "metadata": {
  "interpreter": {
   "hash": "50d08dd0d611dadcb9089d5d7c1d9b5812cef9b8fe953ac568fb854525141b9b"
  },
  "kernelspec": {
   "display_name": "Python 3.9.7 ('thesis')",
   "language": "python",
   "name": "python3"
  },
  "language_info": {
   "codemirror_mode": {
    "name": "ipython",
    "version": 3
   },
   "file_extension": ".py",
   "mimetype": "text/x-python",
   "name": "python",
   "nbconvert_exporter": "python",
   "pygments_lexer": "ipython3",
   "version": "3.9.7"
  },
  "orig_nbformat": 4
 },
 "nbformat": 4,
 "nbformat_minor": 2
}
