{
 "cells": [
  {
   "cell_type": "markdown",
   "metadata": {},
   "source": [
    "## Imports"
   ]
  },
  {
   "cell_type": "code",
   "execution_count": 1,
   "metadata": {},
   "outputs": [],
   "source": [
    "from qiskit import *\n",
    "from qiskit.circuit import Parameter\n",
    "from qiskit.visualization import plot_histogram\n",
    "from qiskit.providers.aer import QasmSimulator\n",
    "import qiskit.quantum_info as qi\n",
    "from qiskit.quantum_info import Statevector\n",
    "from qiskit.visualization import plot_bloch_multivector, plot_histogram\n",
    "\n",
    "import numpy as np\n",
    "import math\n",
    "import random\n",
    "\n",
    "%matplotlib inline\n",
    "\n",
    "from sklearn.preprocessing import MinMaxScaler\n",
    "\n",
    "import matplotlib.pyplot as plt\n",
    "from matplotlib import cm"
   ]
  },
  {
   "cell_type": "markdown",
   "metadata": {},
   "source": [
    "## Dataset generation"
   ]
  },
  {
   "cell_type": "markdown",
   "metadata": {},
   "source": [
    "Output of the old generator\n",
    "```python\n",
    "[(2,\n",
    "  array([45, 11, 40, 38]),\n",
    "  {(0, 2): -15, (0, 3): -9, (1, 2): -9, (1, 3): -14}),\n",
    " (2,\n",
    "  array([10, 37,  9, 46]),\n",
    "  {(0, 2): -20, (0, 3): -15, (1, 2): -2, (1, 3): -4}),\n",
    " (2,\n",
    "  array([12, 48, 35, 38]),\n",
    "  {(0, 2): -3, (0, 3): -7, (1, 2): -19, (1, 3): -8}),\n",
    " (2,\n",
    "  array([ 4, 42, 28, 33]),\n",
    "  {(0, 2): -11, (0, 3): -10, (1, 2): -1, (1, 3): -14}),\n",
    " (2,\n",
    "  array([43, 23, 23, 18]),\n",
    "  {(0, 2): -3, (0, 3): -2, (1, 2): -16, (1, 3): 0})]\n",
    "  ```"
   ]
  },
  {
   "cell_type": "code",
   "execution_count": 2,
   "metadata": {},
   "outputs": [],
   "source": [
    "def create_savings(n_queries, n_plans_per_query):\n",
    "    savings = {}\n",
    "    for i in range(n_queries-1):\n",
    "        for j in range(n_plans_per_query[i]):\n",
    "            s = j + np.sum(n_plans_per_query[0:i], dtype=int)\n",
    "            for a in range(i+1, n_queries):\n",
    "                for b in range(n_plans_per_query[a]):\n",
    "                    t = b + np.sum(n_plans_per_query[:a], dtype=int)\n",
    "                    savings[s, t] = random.randint(-20, 0)\n",
    "\n",
    "    return savings"
   ]
  },
  {
   "cell_type": "code",
   "execution_count": 27,
   "metadata": {},
   "outputs": [],
   "source": [
    "def create_problems(n_problems, n_queries, n_plans_per_query, cost_min = 1, cost_max = 50, savings_min = -20, savings_max = 0):\n",
    "    problems = []\n",
    "    for i in range(n_problems):\n",
    "        problems.append((n_plans_per_query, np.random.randint(cost_min, cost_max, np.sum(n_plans_per_query)), \n",
    "            create_savings(n_queries, n_plans_per_query)))\n",
    "    return problems"
   ]
  },
  {
   "cell_type": "markdown",
   "metadata": {},
   "source": [
    "Problems are generated, but only work, for now, in double combinations -> no three way savings!"
   ]
  },
  {
   "cell_type": "code",
   "execution_count": 108,
   "metadata": {},
   "outputs": [
    {
     "data": {
      "text/plain": [
       "[([2, 2, 2, 2],\n",
       "  array([41, 20, 25, 19, 30, 32, 15,  6]),\n",
       "  {(0, 2): -8,\n",
       "   (0, 3): -9,\n",
       "   (0, 4): -7,\n",
       "   (0, 5): -19,\n",
       "   (0, 6): -5,\n",
       "   (0, 7): 0,\n",
       "   (1, 2): -7,\n",
       "   (1, 3): -7,\n",
       "   (1, 4): -18,\n",
       "   (1, 5): -7,\n",
       "   (1, 6): -19,\n",
       "   (1, 7): -3,\n",
       "   (2, 4): -7,\n",
       "   (2, 5): -6,\n",
       "   (2, 6): -4,\n",
       "   (2, 7): -11,\n",
       "   (3, 4): -10,\n",
       "   (3, 5): -16,\n",
       "   (3, 6): -3,\n",
       "   (3, 7): -15,\n",
       "   (4, 6): -12,\n",
       "   (4, 7): 0,\n",
       "   (5, 6): -3,\n",
       "   (5, 7): -8})]"
      ]
     },
     "execution_count": 108,
     "metadata": {},
     "output_type": "execute_result"
    }
   ],
   "source": [
    "problems = create_problems(1, 4, [2,2,2,2])\n",
    "problems"
   ]
  },
  {
   "cell_type": "markdown",
   "metadata": {},
   "source": [
    "We now want to classically solve the problem so we can get a ranking."
   ]
  },
  {
   "cell_type": "code",
   "execution_count": 109,
   "metadata": {},
   "outputs": [
    {
     "name": "stdout",
     "output_type": "stream",
     "text": [
      "[{(0, 2, 4, 6): -43, (0, 2, 4, 7): -33, (0, 2, 5, 6): -45, (0, 2, 5, 7): -52, (0, 3, 4, 6): -46, (0, 3, 4, 7): -41, (0, 3, 5, 6): -55, (0, 3, 5, 7): -67, (1, 2, 4, 6): -67, (1, 2, 4, 7): -46, (1, 2, 5, 6): -46, (1, 2, 5, 7): -42, (1, 3, 4, 6): -69, (1, 3, 4, 7): -53, (1, 3, 5, 6): -55, (1, 3, 5, 7): -56}]\n"
     ]
    }
   ],
   "source": [
    "comb_savings_per_problem = []\n",
    "for problem in problems:\n",
    "    current_combinations = problem[2]\n",
    "    while len(current_combinations) > np.prod(problem[0]):\n",
    "        total_savings = {}\n",
    "        for a in current_combinations:\n",
    "            saves = current_combinations[a]\n",
    "            for b in [z for z in problem[2] if z[0] == a[-1]]:\n",
    "                c = list(a)\n",
    "                c.append(b[-1])\n",
    "                c = tuple(c)\n",
    "                total_savings[c] = saves + sum([problem[2][x, b[-1]] for x in a ])\n",
    "        current_combinations = total_savings\n",
    "    comb_savings_per_problem.append(current_combinations)\n",
    "print(comb_savings_per_problem)"
   ]
  },
  {
   "cell_type": "code",
   "execution_count": 111,
   "metadata": {},
   "outputs": [
    {
     "data": {
      "text/plain": [
       "{(0, 2, 4, 6): 68,\n",
       " (0, 2, 4, 7): 69,\n",
       " (0, 2, 5, 6): 68,\n",
       " (0, 2, 5, 7): 52,\n",
       " (0, 3, 4, 6): 59,\n",
       " (0, 3, 4, 7): 55,\n",
       " (0, 3, 5, 6): 52,\n",
       " (0, 3, 5, 7): 31,\n",
       " (1, 2, 4, 6): 23,\n",
       " (1, 2, 4, 7): 35,\n",
       " (1, 2, 5, 6): 46,\n",
       " (1, 2, 5, 7): 41,\n",
       " (1, 3, 4, 6): 15,\n",
       " (1, 3, 4, 7): 22,\n",
       " (1, 3, 5, 6): 31,\n",
       " (1, 3, 5, 7): 21}"
      ]
     },
     "execution_count": 111,
     "metadata": {},
     "output_type": "execute_result"
    }
   ],
   "source": [
    "for i, costs in enumerate(comb_savings_per_problem):\n",
    "    for a in costs:\n",
    "        for b in a:\n",
    "            costs[a] += problems[0][1][b]\n",
    "    comb_savings_per_problem[i] = costs\n",
    "costs\n"
   ]
  },
  {
   "cell_type": "code",
   "execution_count": 112,
   "metadata": {},
   "outputs": [
    {
     "data": {
      "text/plain": [
       "['10101010',\n",
       " '10101001',\n",
       " '10100110',\n",
       " '10100101',\n",
       " '10011010',\n",
       " '10011001',\n",
       " '10010110',\n",
       " '10010101',\n",
       " '01101010',\n",
       " '01101001',\n",
       " '01100110',\n",
       " '01100101',\n",
       " '01011010',\n",
       " '01011001',\n",
       " '01010110',\n",
       " '01010101']"
      ]
     },
     "execution_count": 112,
     "metadata": {},
     "output_type": "execute_result"
    }
   ],
   "source": [
    "bit_strings = []\n",
    "for a in costs:\n",
    "    b = list('0'*sum(problems[0][0]))\n",
    "    for i in a:\n",
    "        b[i] = '1'\n",
    "    bit_strings.append(''.join(b))\n",
    "bit_strings"
   ]
  },
  {
   "cell_type": "code",
   "execution_count": 9,
   "metadata": {},
   "outputs": [
    {
     "data": {
      "text/plain": [
       "{(0, 2, 5): 34,\n",
       " (0, 2, 6): 78,\n",
       " (0, 3, 5): -21,\n",
       " (0, 3, 6): 23,\n",
       " (0, 4, 5): 16,\n",
       " (0, 4, 6): 52,\n",
       " (1, 2, 5): 33,\n",
       " (1, 2, 6): 77,\n",
       " (1, 3, 5): -11,\n",
       " (1, 3, 6): 33,\n",
       " (1, 4, 5): 31,\n",
       " (1, 4, 6): 67}"
      ]
     },
     "execution_count": 9,
     "metadata": {},
     "output_type": "execute_result"
    }
   ],
   "source": [
    "combi_costs[0]"
   ]
  },
  {
   "cell_type": "code",
   "execution_count": 10,
   "metadata": {},
   "outputs": [
    {
     "data": {
      "text/plain": [
       "[{(0, 3, 5): -21,\n",
       "  (1, 3, 5): -11,\n",
       "  (0, 4, 5): 16,\n",
       "  (0, 3, 6): 23,\n",
       "  (1, 4, 5): 31,\n",
       "  (1, 2, 5): 33,\n",
       "  (1, 3, 6): 33,\n",
       "  (0, 2, 5): 34,\n",
       "  (0, 4, 6): 52,\n",
       "  (1, 4, 6): 67,\n",
       "  (1, 2, 6): 77,\n",
       "  (0, 2, 6): 78}]"
      ]
     },
     "execution_count": 10,
     "metadata": {},
     "output_type": "execute_result"
    }
   ],
   "source": [
    "#sort costs so theyre... sorted by cheapest first\n",
    "\n",
    "for i, cost in enumerate(combi_costs):\n",
    "    combi_costs[i] = {k: cost[k] for k in sorted(cost, key=cost.get)}\n",
    "\n",
    "combi_costs\n"
   ]
  },
  {
   "cell_type": "code",
   "execution_count": 11,
   "metadata": {},
   "outputs": [
    {
     "data": {
      "text/plain": [
       "[['1001010',\n",
       "  '0101010',\n",
       "  '1000110',\n",
       "  '1001001',\n",
       "  '0100110',\n",
       "  '0110010',\n",
       "  '0101001',\n",
       "  '1010010',\n",
       "  '1000101',\n",
       "  '0100101',\n",
       "  '0110001',\n",
       "  '1010001']]"
      ]
     },
     "execution_count": 11,
     "metadata": {},
     "output_type": "execute_result"
    }
   ],
   "source": [
    "solution_keys_ranking = []\n",
    "for cost in combi_costs:\n",
    "    bit_strings = []\n",
    "    for a in cost:\n",
    "        b = list('0'*sum(problems[0][0]))\n",
    "        for i in a:\n",
    "            b[i] = '1'\n",
    "        bit_strings.append(''.join(b))\n",
    "    solution_keys_ranking.append(bit_strings)\n",
    "solution_keys_ranking\n",
    "    "
   ]
  },
  {
   "cell_type": "markdown",
   "metadata": {},
   "source": [
    "We now generate the combinational bitstrings that are possible"
   ]
  },
  {
   "cell_type": "code",
   "execution_count": 12,
   "metadata": {},
   "outputs": [
    {
     "name": "stdout",
     "output_type": "stream",
     "text": [
      "['1010010', '1010001', '1001010', '1001001', '1000110', '1000101', '0110010', '0110001', '0101010', '0101001', '0100110', '0100101']\n"
     ]
    }
   ],
   "source": [
    "n_qubits = np.sum(problems[0][0])\n",
    "binary_string = []\n",
    "for i, v in enumerate(problems[0][0]):\n",
    "    if i == 0:\n",
    "        for j in range(v):\n",
    "            binary_string.append('0'*j + '1' + '0'*(v-j-1))\n",
    "    else:\n",
    "        copy = []\n",
    "        for x in binary_string:\n",
    "            for j in range(v):\n",
    "                copy.append(x + '0'*j + '1' + '0'*(v-j-1))\n",
    "        binary_string = copy\n",
    "print(binary_string)\n"
   ]
  },
  {
   "cell_type": "markdown",
   "metadata": {},
   "source": [
    "Now we generate the circuits..."
   ]
  },
  {
   "cell_type": "code",
   "execution_count": 13,
   "metadata": {},
   "outputs": [],
   "source": [
    "from qiskit import *\n",
    "from qiskit import Aer\n",
    "from qiskit.circuit import Parameter\n",
    "from qiskit.visualization import plot_histogram\n",
    "from qiskit.providers.aer import QasmSimulator\n",
    "from qiskit.visualization import plot_histogram\n",
    "\n",
    "import numpy as np\n",
    "import math"
   ]
  },
  {
   "cell_type": "code",
   "execution_count": 14,
   "metadata": {},
   "outputs": [
    {
     "data": {
      "text/plain": [
       "[([2, 3, 2],\n",
       "  array([21,  1, 36, 16, 33, 42,  7]),\n",
       "  {(0, 2): -7,\n",
       "   (0, 3): -13,\n",
       "   (0, 4): -14,\n",
       "   (0, 5): -6,\n",
       "   (0, 6): 0,\n",
       "   (1, 2): -18,\n",
       "   (1, 3): -12,\n",
       "   (1, 4): -17,\n",
       "   (1, 5): -14,\n",
       "   (1, 6): -4,\n",
       "   (2, 5): -5,\n",
       "   (2, 6): -6,\n",
       "   (3, 5): -20,\n",
       "   (3, 6): -12,\n",
       "   (4, 5): -10,\n",
       "   (4, 6): 0})]"
      ]
     },
     "execution_count": 14,
     "metadata": {},
     "output_type": "execute_result"
    }
   ],
   "source": [
    "problems = create_problems(1, 3, [2,3,2])\n",
    "problems"
   ]
  },
  {
   "cell_type": "code",
   "execution_count": 15,
   "metadata": {},
   "outputs": [
    {
     "data": {
      "text/html": [
       "<pre style=\"word-wrap: normal;white-space: pre;background: #fff0;line-height: 1.1;font-family: &quot;Courier New&quot;,Courier,monospace\">     ┌───┐┌────────┐ ░                                                     ░ »\n",
       "q_0: ┤ H ├┤ Ry(21) ├─░─────■──────────■──────────■─────────■─────────■─────░─»\n",
       "     ├───┤├───────┬┘ ░     │          │          │         │         │     ░ »\n",
       "q_1: ┤ H ├┤ Ry(1) ├──░─────┼──────────┼──────────┼─────────┼─────────┼─────░─»\n",
       "     ├───┤├───────┴┐ ░ ┌───┴────┐     │          │         │         │     ░ »\n",
       "q_2: ┤ H ├┤ Ry(36) ├─░─┤ Rz(-7) ├─────┼──────────┼─────────┼─────────┼─────░─»\n",
       "     ├───┤├────────┤ ░ └────────┘┌────┴────┐     │         │         │     ░ »\n",
       "q_3: ┤ H ├┤ Ry(16) ├─░───────────┤ Rz(-13) ├─────┼─────────┼─────────┼─────░─»\n",
       "     ├───┤├────────┤ ░           └─────────┘┌────┴────┐    │         │     ░ »\n",
       "q_4: ┤ H ├┤ Ry(33) ├─░──────────────────────┤ Rz(-14) ├────┼─────────┼─────░─»\n",
       "     ├───┤├────────┤ ░                      └─────────┘┌───┴────┐    │     ░ »\n",
       "q_5: ┤ H ├┤ Ry(42) ├─░─────────────────────────────────┤ Rz(-6) ├────┼─────░─»\n",
       "     ├───┤├───────┬┘ ░                                 └────────┘┌───┴───┐ ░ »\n",
       "q_6: ┤ H ├┤ Ry(7) ├──░───────────────────────────────────────────┤ Rz(0) ├─░─»\n",
       "     └───┘└───────┘  ░                                           └───────┘ ░ »\n",
       "«                                                            ░           »\n",
       "«q_0: ───────────────────────────────────────────────────────░───────────»\n",
       "«                                                            ░           »\n",
       "«q_1: ─────■──────────■──────────■──────────■─────────■──────░───────────»\n",
       "«     ┌────┴────┐     │          │          │         │      ░           »\n",
       "«q_2: ┤ Rz(-18) ├─────┼──────────┼──────────┼─────────┼──────░─────■─────»\n",
       "«     └─────────┘┌────┴────┐     │          │         │      ░     │     »\n",
       "«q_3: ───────────┤ Rz(-12) ├─────┼──────────┼─────────┼──────░─────┼─────»\n",
       "«                └─────────┘┌────┴────┐     │         │      ░     │     »\n",
       "«q_4: ──────────────────────┤ Rz(-17) ├─────┼─────────┼──────░─────┼─────»\n",
       "«                           └─────────┘┌────┴────┐    │      ░ ┌───┴────┐»\n",
       "«q_5: ─────────────────────────────────┤ Rz(-14) ├────┼──────░─┤ Rz(-5) ├»\n",
       "«                                      └─────────┘┌───┴────┐ ░ └────────┘»\n",
       "«q_6: ────────────────────────────────────────────┤ Rz(-4) ├─░───────────»\n",
       "«                                                 └────────┘ ░           »\n",
       "«                ░                        ░                      ░ \n",
       "«q_0: ───────────░────────────────────────░──────────────────────░─\n",
       "«                ░                        ░                      ░ \n",
       "«q_1: ───────────░────────────────────────░──────────────────────░─\n",
       "«                ░                        ░                      ░ \n",
       "«q_2: ────■──────░────────────────────────░──────────────────────░─\n",
       "«         │      ░                        ░                      ░ \n",
       "«q_3: ────┼──────░──────■──────────■──────░──────────────────────░─\n",
       "«         │      ░      │          │      ░                      ░ \n",
       "«q_4: ────┼──────░──────┼──────────┼──────░──────■─────────■─────░─\n",
       "«         │      ░ ┌────┴────┐     │      ░ ┌────┴────┐    │     ░ \n",
       "«q_5: ────┼──────░─┤ Rz(-20) ├─────┼──────░─┤ Rz(-10) ├────┼─────░─\n",
       "«     ┌───┴────┐ ░ └─────────┘┌────┴────┐ ░ └─────────┘┌───┴───┐ ░ \n",
       "«q_6: ┤ Rz(-6) ├─░────────────┤ Rz(-12) ├─░────────────┤ Rz(0) ├─░─\n",
       "«     └────────┘ ░            └─────────┘ ░            └───────┘ ░ </pre>"
      ],
      "text/plain": [
       "     ┌───┐┌────────┐ ░                                                     ░ »\n",
       "q_0: ┤ H ├┤ Ry(21) ├─░─────■──────────■──────────■─────────■─────────■─────░─»\n",
       "     ├───┤├───────┬┘ ░     │          │          │         │         │     ░ »\n",
       "q_1: ┤ H ├┤ Ry(1) ├──░─────┼──────────┼──────────┼─────────┼─────────┼─────░─»\n",
       "     ├───┤├───────┴┐ ░ ┌───┴────┐     │          │         │         │     ░ »\n",
       "q_2: ┤ H ├┤ Ry(36) ├─░─┤ Rz(-7) ├─────┼──────────┼─────────┼─────────┼─────░─»\n",
       "     ├───┤├────────┤ ░ └────────┘┌────┴────┐     │         │         │     ░ »\n",
       "q_3: ┤ H ├┤ Ry(16) ├─░───────────┤ Rz(-13) ├─────┼─────────┼─────────┼─────░─»\n",
       "     ├───┤├────────┤ ░           └─────────┘┌────┴────┐    │         │     ░ »\n",
       "q_4: ┤ H ├┤ Ry(33) ├─░──────────────────────┤ Rz(-14) ├────┼─────────┼─────░─»\n",
       "     ├───┤├────────┤ ░                      └─────────┘┌───┴────┐    │     ░ »\n",
       "q_5: ┤ H ├┤ Ry(42) ├─░─────────────────────────────────┤ Rz(-6) ├────┼─────░─»\n",
       "     ├───┤├───────┬┘ ░                                 └────────┘┌───┴───┐ ░ »\n",
       "q_6: ┤ H ├┤ Ry(7) ├──░───────────────────────────────────────────┤ Rz(0) ├─░─»\n",
       "     └───┘└───────┘  ░                                           └───────┘ ░ »\n",
       "«                                                            ░           »\n",
       "«q_0: ───────────────────────────────────────────────────────░───────────»\n",
       "«                                                            ░           »\n",
       "«q_1: ─────■──────────■──────────■──────────■─────────■──────░───────────»\n",
       "«     ┌────┴────┐     │          │          │         │      ░           »\n",
       "«q_2: ┤ Rz(-18) ├─────┼──────────┼──────────┼─────────┼──────░─────■─────»\n",
       "«     └─────────┘┌────┴────┐     │          │         │      ░     │     »\n",
       "«q_3: ───────────┤ Rz(-12) ├─────┼──────────┼─────────┼──────░─────┼─────»\n",
       "«                └─────────┘┌────┴────┐     │         │      ░     │     »\n",
       "«q_4: ──────────────────────┤ Rz(-17) ├─────┼─────────┼──────░─────┼─────»\n",
       "«                           └─────────┘┌────┴────┐    │      ░ ┌───┴────┐»\n",
       "«q_5: ─────────────────────────────────┤ Rz(-14) ├────┼──────░─┤ Rz(-5) ├»\n",
       "«                                      └─────────┘┌───┴────┐ ░ └────────┘»\n",
       "«q_6: ────────────────────────────────────────────┤ Rz(-4) ├─░───────────»\n",
       "«                                                 └────────┘ ░           »\n",
       "«                ░                        ░                      ░ \n",
       "«q_0: ───────────░────────────────────────░──────────────────────░─\n",
       "«                ░                        ░                      ░ \n",
       "«q_1: ───────────░────────────────────────░──────────────────────░─\n",
       "«                ░                        ░                      ░ \n",
       "«q_2: ────■──────░────────────────────────░──────────────────────░─\n",
       "«         │      ░                        ░                      ░ \n",
       "«q_3: ────┼──────░──────■──────────■──────░──────────────────────░─\n",
       "«         │      ░      │          │      ░                      ░ \n",
       "«q_4: ────┼──────░──────┼──────────┼──────░──────■─────────■─────░─\n",
       "«         │      ░ ┌────┴────┐     │      ░ ┌────┴────┐    │     ░ \n",
       "«q_5: ────┼──────░─┤ Rz(-20) ├─────┼──────░─┤ Rz(-10) ├────┼─────░─\n",
       "«     ┌───┴────┐ ░ └─────────┘┌────┴────┐ ░ └─────────┘┌───┴───┐ ░ \n",
       "«q_6: ┤ Rz(-6) ├─░────────────┤ Rz(-12) ├─░────────────┤ Rz(0) ├─░─\n",
       "«     └────────┘ ░            └─────────┘ ░            └───────┘ ░ "
      ]
     },
     "execution_count": 15,
     "metadata": {},
     "output_type": "execute_result"
    }
   ],
   "source": [
    "circuit = QuantumCircuit(np.sum(problems[0][0]))\n",
    "circuit.h(range(circuit.width()))\n",
    "for i, v in enumerate(problems[0][1]):\n",
    "    circuit.ry(v, i)\n",
    "circuit.barrier()\n",
    "\n",
    "prev_i = 0\n",
    "for i, v in problems[0][2]:\n",
    "    if prev_i != i:\n",
    "        circuit.barrier()\n",
    "    circuit.crz(problems[0][2][i, v], i, v)\n",
    "    prev_i = i\n",
    "circuit.barrier()\n",
    "\n",
    "circuit.draw()"
   ]
  },
  {
   "cell_type": "code",
   "execution_count": 16,
   "metadata": {},
   "outputs": [
    {
     "data": {
      "text/plain": [
       "array([2, 1, 3, 3, 3])"
      ]
     },
     "execution_count": 16,
     "metadata": {},
     "output_type": "execute_result"
    }
   ],
   "source": [
    "np.random.randint(1,4, size=5)"
   ]
  }
 ],
 "metadata": {
  "interpreter": {
   "hash": "50d08dd0d611dadcb9089d5d7c1d9b5812cef9b8fe953ac568fb854525141b9b"
  },
  "kernelspec": {
   "display_name": "Python 3.9.7 ('thesis')",
   "language": "python",
   "name": "python3"
  },
  "language_info": {
   "codemirror_mode": {
    "name": "ipython",
    "version": 3
   },
   "file_extension": ".py",
   "mimetype": "text/x-python",
   "name": "python",
   "nbconvert_exporter": "python",
   "pygments_lexer": "ipython3",
   "version": "3.9.12"
  },
  "orig_nbformat": 4
 },
 "nbformat": 4,
 "nbformat_minor": 2
}
