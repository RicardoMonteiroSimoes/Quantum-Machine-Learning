{
 "cells": [
  {
   "cell_type": "markdown",
   "metadata": {},
   "source": [
    "## Imports"
   ]
  },
  {
   "cell_type": "code",
   "execution_count": 182,
   "metadata": {},
   "outputs": [],
   "source": [
    "from qiskit import *\n",
    "from qiskit.circuit import Parameter\n",
    "from qiskit.visualization import plot_histogram\n",
    "from qiskit.providers.aer import QasmSimulator\n",
    "import qiskit.quantum_info as qi\n",
    "from qiskit.quantum_info import Statevector\n",
    "from qiskit.visualization import plot_bloch_multivector, plot_histogram\n",
    "\n",
    "import numpy as np\n",
    "import math\n",
    "import random\n",
    "\n",
    "%matplotlib inline\n",
    "\n",
    "from sklearn.preprocessing import MinMaxScaler\n",
    "\n",
    "import matplotlib.pyplot as plt\n",
    "from matplotlib import cm"
   ]
  },
  {
   "cell_type": "markdown",
   "metadata": {},
   "source": [
    "## Dataset generation"
   ]
  },
  {
   "cell_type": "markdown",
   "metadata": {},
   "source": [
    "Output of the old generator\n",
    "```python\n",
    "[(2,\n",
    "  array([45, 11, 40, 38]),\n",
    "  {(0, 2): -15, (0, 3): -9, (1, 2): -9, (1, 3): -14}),\n",
    " (2,\n",
    "  array([10, 37,  9, 46]),\n",
    "  {(0, 2): -20, (0, 3): -15, (1, 2): -2, (1, 3): -4}),\n",
    " (2,\n",
    "  array([12, 48, 35, 38]),\n",
    "  {(0, 2): -3, (0, 3): -7, (1, 2): -19, (1, 3): -8}),\n",
    " (2,\n",
    "  array([ 4, 42, 28, 33]),\n",
    "  {(0, 2): -11, (0, 3): -10, (1, 2): -1, (1, 3): -14}),\n",
    " (2,\n",
    "  array([43, 23, 23, 18]),\n",
    "  {(0, 2): -3, (0, 3): -2, (1, 2): -16, (1, 3): 0})]\n",
    "  ```"
   ]
  },
  {
   "cell_type": "code",
   "execution_count": 264,
   "metadata": {},
   "outputs": [],
   "source": [
    "def create_savings(n_queries, n_plans_per_query):\n",
    "    savings = {}\n",
    "    for i in range(n_queries-1):\n",
    "        for j in range(n_plans_per_query[i]):\n",
    "            s = j + np.sum(n_plans_per_query[0:i], dtype=int)\n",
    "            for a in range(i+1, n_queries):\n",
    "                for b in range(n_plans_per_query[a]):\n",
    "                    t = b + np.sum(n_plans_per_query[:a], dtype=int)\n",
    "                    savings[s, t] = random.randint(-20, 0)\n",
    "\n",
    "    return savings"
   ]
  },
  {
   "cell_type": "code",
   "execution_count": 228,
   "metadata": {},
   "outputs": [],
   "source": [
    "def create_problems(n_problems, n_queries, n_plans_per_query, cost_min = 0, cost_max = 50, savings_min = -20, savings_max = 0):\n",
    "    problems = []\n",
    "    for i in range(n_problems):\n",
    "        problems.append((n_plans_per_query, np.random.randint(cost_min, cost_max, np.sum(n_plans_per_query)), \n",
    "            create_savings(n_queries, n_plans_per_query)))\n",
    "    return problems"
   ]
  },
  {
   "cell_type": "markdown",
   "metadata": {},
   "source": [
    "Problems are generated, but only work, for now, in double combinations -> no three way savings!"
   ]
  },
  {
   "cell_type": "code",
   "execution_count": 265,
   "metadata": {},
   "outputs": [
    {
     "name": "stdout",
     "output_type": "stream",
     "text": [
      "3\n",
      "[2, 3, 2]\n",
      "{(0, 2): -19}\n",
      "{(0, 2): -19, (0, 3): -12}\n",
      "{(0, 2): -19, (0, 3): -12, (0, 4): -7}\n",
      "{(0, 2): -19, (0, 3): -12, (0, 4): -7, (0, 5): -9}\n",
      "{(0, 2): -19, (0, 3): -12, (0, 4): -7, (0, 5): -9, (0, 6): -8}\n",
      "{(0, 2): -19, (0, 3): -12, (0, 4): -7, (0, 5): -9, (0, 6): -8, (1, 2): -5}\n",
      "{(0, 2): -19, (0, 3): -12, (0, 4): -7, (0, 5): -9, (0, 6): -8, (1, 2): -5, (1, 3): -19}\n",
      "{(0, 2): -19, (0, 3): -12, (0, 4): -7, (0, 5): -9, (0, 6): -8, (1, 2): -5, (1, 3): -19, (1, 4): -5}\n",
      "{(0, 2): -19, (0, 3): -12, (0, 4): -7, (0, 5): -9, (0, 6): -8, (1, 2): -5, (1, 3): -19, (1, 4): -5, (1, 5): -16}\n",
      "{(0, 2): -19, (0, 3): -12, (0, 4): -7, (0, 5): -9, (0, 6): -8, (1, 2): -5, (1, 3): -19, (1, 4): -5, (1, 5): -16, (1, 6): -18}\n",
      "{(0, 2): -19, (0, 3): -12, (0, 4): -7, (0, 5): -9, (0, 6): -8, (1, 2): -5, (1, 3): -19, (1, 4): -5, (1, 5): -16, (1, 6): -18, (2, 5): -12}\n",
      "{(0, 2): -19, (0, 3): -12, (0, 4): -7, (0, 5): -9, (0, 6): -8, (1, 2): -5, (1, 3): -19, (1, 4): -5, (1, 5): -16, (1, 6): -18, (2, 5): -12, (2, 6): -14}\n",
      "{(0, 2): -19, (0, 3): -12, (0, 4): -7, (0, 5): -9, (0, 6): -8, (1, 2): -5, (1, 3): -19, (1, 4): -5, (1, 5): -16, (1, 6): -18, (2, 5): -12, (2, 6): -14, (3, 5): -11}\n",
      "{(0, 2): -19, (0, 3): -12, (0, 4): -7, (0, 5): -9, (0, 6): -8, (1, 2): -5, (1, 3): -19, (1, 4): -5, (1, 5): -16, (1, 6): -18, (2, 5): -12, (2, 6): -14, (3, 5): -11, (3, 6): -10}\n",
      "{(0, 2): -19, (0, 3): -12, (0, 4): -7, (0, 5): -9, (0, 6): -8, (1, 2): -5, (1, 3): -19, (1, 4): -5, (1, 5): -16, (1, 6): -18, (2, 5): -12, (2, 6): -14, (3, 5): -11, (3, 6): -10, (4, 5): -15}\n",
      "{(0, 2): -19, (0, 3): -12, (0, 4): -7, (0, 5): -9, (0, 6): -8, (1, 2): -5, (1, 3): -19, (1, 4): -5, (1, 5): -16, (1, 6): -18, (2, 5): -12, (2, 6): -14, (3, 5): -11, (3, 6): -10, (4, 5): -15, (4, 6): -11}\n"
     ]
    },
    {
     "data": {
      "text/plain": [
       "[([2, 3, 2],\n",
       "  array([ 3, 23, 36, 28, 11,  9, 36]),\n",
       "  {(0, 2): -19,\n",
       "   (0, 3): -12,\n",
       "   (0, 4): -7,\n",
       "   (0, 5): -9,\n",
       "   (0, 6): -8,\n",
       "   (1, 2): -5,\n",
       "   (1, 3): -19,\n",
       "   (1, 4): -5,\n",
       "   (1, 5): -16,\n",
       "   (1, 6): -18,\n",
       "   (2, 5): -12,\n",
       "   (2, 6): -14,\n",
       "   (3, 5): -11,\n",
       "   (3, 6): -10,\n",
       "   (4, 5): -15,\n",
       "   (4, 6): -11})]"
      ]
     },
     "execution_count": 265,
     "metadata": {},
     "output_type": "execute_result"
    }
   ],
   "source": [
    "problems = create_problems(1, 3, [2,3,2])\n",
    "problems"
   ]
  },
  {
   "cell_type": "markdown",
   "metadata": {},
   "source": [
    "We now generate the combinational bitstrings that are possible"
   ]
  },
  {
   "cell_type": "code",
   "execution_count": 186,
   "metadata": {},
   "outputs": [
    {
     "name": "stdout",
     "output_type": "stream",
     "text": [
      "['1010100', '1010010', '1010001', '1001100', '1001010', '1001001', '0110100', '0110010', '0110001', '0101100', '0101010', '0101001']\n"
     ]
    }
   ],
   "source": [
    "n_qubits = np.sum(problems[0][0])\n",
    "binary_string = []\n",
    "for i, v in enumerate(problems[0][0]):\n",
    "    if i == 0:\n",
    "        for j in range(v):\n",
    "            binary_string.append('0'*j + '1' + '0'*(v-j-1))\n",
    "    else:\n",
    "        copy = []\n",
    "        for x in binary_string:\n",
    "            for j in range(v):\n",
    "                copy.append(x + '0'*j + '1' + '0'*(v-j-1))\n",
    "        binary_string = copy\n",
    "\n",
    "\n",
    "print(binary_string)\n"
   ]
  },
  {
   "cell_type": "markdown",
   "metadata": {},
   "source": [
    "Now we generate the circuits..."
   ]
  },
  {
   "cell_type": "code",
   "execution_count": 187,
   "metadata": {},
   "outputs": [],
   "source": [
    "from qiskit import *\n",
    "from qiskit import Aer\n",
    "from qiskit.circuit import Parameter\n",
    "from qiskit.visualization import plot_histogram\n",
    "from qiskit.providers.aer import QasmSimulator\n",
    "from qiskit.visualization import plot_histogram\n",
    "\n",
    "import numpy as np\n",
    "import math"
   ]
  },
  {
   "cell_type": "code",
   "execution_count": 188,
   "metadata": {},
   "outputs": [
    {
     "data": {
      "text/plain": [
       "[([2, 3, 2],\n",
       "  array([23, 47, 11, 25, 47, 43, 42]),\n",
       "  {(0, 2): -19,\n",
       "   (0, 3): 0,\n",
       "   (0, 4): -20,\n",
       "   (0, 5): -11,\n",
       "   (0, 6): -8,\n",
       "   (0, 7): -5,\n",
       "   (1, 2): -4,\n",
       "   (1, 3): -13,\n",
       "   (1, 4): 0,\n",
       "   (1, 5): -2,\n",
       "   (1, 6): -10,\n",
       "   (1, 7): -19,\n",
       "   (2, 5): -6,\n",
       "   (2, 6): -6,\n",
       "   (3, 5): -19,\n",
       "   (3, 6): -8,\n",
       "   (4, 5): -14,\n",
       "   (4, 6): -12})]"
      ]
     },
     "execution_count": 188,
     "metadata": {},
     "output_type": "execute_result"
    }
   ],
   "source": [
    "problems = create_problems(1, 3, [2,3,2])\n",
    "problems"
   ]
  },
  {
   "cell_type": "code",
   "execution_count": 189,
   "metadata": {},
   "outputs": [
    {
     "ename": "CircuitError",
     "evalue": "'Index out of range.'",
     "output_type": "error",
     "traceback": [
      "\u001b[0;31m---------------------------------------------------------------------------\u001b[0m",
      "\u001b[0;31mIndexError\u001b[0m                                Traceback (most recent call last)",
      "File \u001b[0;32m~/miniconda3/envs/thesis/lib/python3.9/site-packages/qiskit/circuit/quantumcircuit.py:1084\u001b[0m, in \u001b[0;36mQuantumCircuit._bit_argument_conversion\u001b[0;34m(bit_representation, in_array)\u001b[0m\n\u001b[1;32m   <a href='file:///home/ricardo/miniconda3/envs/thesis/lib/python3.9/site-packages/qiskit/circuit/quantumcircuit.py?line=1081'>1082</a>\u001b[0m \u001b[39melif\u001b[39;00m \u001b[39misinstance\u001b[39m(QuantumCircuit\u001b[39m.\u001b[39mcast(bit_representation, \u001b[39mint\u001b[39m), \u001b[39mint\u001b[39m):\n\u001b[1;32m   <a href='file:///home/ricardo/miniconda3/envs/thesis/lib/python3.9/site-packages/qiskit/circuit/quantumcircuit.py?line=1082'>1083</a>\u001b[0m     \u001b[39m# circuit.h(0) -> circuit.h([qr[0]])\u001b[39;00m\n\u001b[0;32m-> <a href='file:///home/ricardo/miniconda3/envs/thesis/lib/python3.9/site-packages/qiskit/circuit/quantumcircuit.py?line=1083'>1084</a>\u001b[0m     ret \u001b[39m=\u001b[39m [in_array[bit_representation]]\n\u001b[1;32m   <a href='file:///home/ricardo/miniconda3/envs/thesis/lib/python3.9/site-packages/qiskit/circuit/quantumcircuit.py?line=1084'>1085</a>\u001b[0m \u001b[39melif\u001b[39;00m \u001b[39misinstance\u001b[39m(bit_representation, \u001b[39mslice\u001b[39m):\n\u001b[1;32m   <a href='file:///home/ricardo/miniconda3/envs/thesis/lib/python3.9/site-packages/qiskit/circuit/quantumcircuit.py?line=1085'>1086</a>\u001b[0m     \u001b[39m# circuit.h(slice(0,2)) -> circuit.h([qr[0], qr[1]])\u001b[39;00m\n",
      "\u001b[0;31mIndexError\u001b[0m: list index out of range",
      "\nThe above exception was the direct cause of the following exception:\n",
      "\u001b[0;31mCircuitError\u001b[0m                              Traceback (most recent call last)",
      "Input \u001b[0;32mIn [189]\u001b[0m, in \u001b[0;36m<module>\u001b[0;34m\u001b[0m\n\u001b[1;32m      9\u001b[0m     \u001b[39mif\u001b[39;00m prev_i \u001b[39m!=\u001b[39m i:\n\u001b[1;32m     10\u001b[0m         circuit\u001b[39m.\u001b[39mbarrier()\n\u001b[0;32m---> 11\u001b[0m     circuit\u001b[39m.\u001b[39;49mcrz(problems[\u001b[39m0\u001b[39;49m][\u001b[39m2\u001b[39;49m][i, v], i, v)\n\u001b[1;32m     12\u001b[0m     prev_i \u001b[39m=\u001b[39m i\n\u001b[1;32m     13\u001b[0m circuit\u001b[39m.\u001b[39mbarrier()\n",
      "File \u001b[0;32m~/miniconda3/envs/thesis/lib/python3.9/site-packages/qiskit/circuit/quantumcircuit.py:3181\u001b[0m, in \u001b[0;36mQuantumCircuit.crz\u001b[0;34m(self, theta, control_qubit, target_qubit, label, ctrl_state)\u001b[0m\n\u001b[1;32m   <a href='file:///home/ricardo/miniconda3/envs/thesis/lib/python3.9/site-packages/qiskit/circuit/quantumcircuit.py?line=3162'>3163</a>\u001b[0m \u001b[39m\"\"\"Apply :class:`~qiskit.circuit.library.CRZGate`.\u001b[39;00m\n\u001b[1;32m   <a href='file:///home/ricardo/miniconda3/envs/thesis/lib/python3.9/site-packages/qiskit/circuit/quantumcircuit.py?line=3163'>3164</a>\u001b[0m \n\u001b[1;32m   <a href='file:///home/ricardo/miniconda3/envs/thesis/lib/python3.9/site-packages/qiskit/circuit/quantumcircuit.py?line=3164'>3165</a>\u001b[0m \u001b[39mFor the full matrix form of this gate, see the underlying gate documentation.\u001b[39;00m\n\u001b[0;32m   (...)\u001b[0m\n\u001b[1;32m   <a href='file:///home/ricardo/miniconda3/envs/thesis/lib/python3.9/site-packages/qiskit/circuit/quantumcircuit.py?line=3176'>3177</a>\u001b[0m \u001b[39m    A handle to the instructions created.\u001b[39;00m\n\u001b[1;32m   <a href='file:///home/ricardo/miniconda3/envs/thesis/lib/python3.9/site-packages/qiskit/circuit/quantumcircuit.py?line=3177'>3178</a>\u001b[0m \u001b[39m\"\"\"\u001b[39;00m\n\u001b[1;32m   <a href='file:///home/ricardo/miniconda3/envs/thesis/lib/python3.9/site-packages/qiskit/circuit/quantumcircuit.py?line=3178'>3179</a>\u001b[0m \u001b[39mfrom\u001b[39;00m \u001b[39m.\u001b[39;00m\u001b[39mlibrary\u001b[39;00m\u001b[39m.\u001b[39;00m\u001b[39mstandard_gates\u001b[39;00m\u001b[39m.\u001b[39;00m\u001b[39mrz\u001b[39;00m \u001b[39mimport\u001b[39;00m CRZGate\n\u001b[0;32m-> <a href='file:///home/ricardo/miniconda3/envs/thesis/lib/python3.9/site-packages/qiskit/circuit/quantumcircuit.py?line=3180'>3181</a>\u001b[0m \u001b[39mreturn\u001b[39;00m \u001b[39mself\u001b[39;49m\u001b[39m.\u001b[39;49mappend(\n\u001b[1;32m   <a href='file:///home/ricardo/miniconda3/envs/thesis/lib/python3.9/site-packages/qiskit/circuit/quantumcircuit.py?line=3181'>3182</a>\u001b[0m     CRZGate(theta, label\u001b[39m=\u001b[39;49mlabel, ctrl_state\u001b[39m=\u001b[39;49mctrl_state), [control_qubit, target_qubit], []\n\u001b[1;32m   <a href='file:///home/ricardo/miniconda3/envs/thesis/lib/python3.9/site-packages/qiskit/circuit/quantumcircuit.py?line=3182'>3183</a>\u001b[0m )\n",
      "File \u001b[0;32m~/miniconda3/envs/thesis/lib/python3.9/site-packages/qiskit/circuit/quantumcircuit.py:1220\u001b[0m, in \u001b[0;36mQuantumCircuit.append\u001b[0;34m(self, instruction, qargs, cargs)\u001b[0m\n\u001b[1;32m   <a href='file:///home/ricardo/miniconda3/envs/thesis/lib/python3.9/site-packages/qiskit/circuit/quantumcircuit.py?line=1216'>1217</a>\u001b[0m     \u001b[39mif\u001b[39;00m is_parameter:\n\u001b[1;32m   <a href='file:///home/ricardo/miniconda3/envs/thesis/lib/python3.9/site-packages/qiskit/circuit/quantumcircuit.py?line=1217'>1218</a>\u001b[0m         instruction \u001b[39m=\u001b[39m copy\u001b[39m.\u001b[39mdeepcopy(instruction)\n\u001b[0;32m-> <a href='file:///home/ricardo/miniconda3/envs/thesis/lib/python3.9/site-packages/qiskit/circuit/quantumcircuit.py?line=1219'>1220</a>\u001b[0m expanded_qargs \u001b[39m=\u001b[39m [\u001b[39mself\u001b[39m\u001b[39m.\u001b[39mqbit_argument_conversion(qarg) \u001b[39mfor\u001b[39;00m qarg \u001b[39min\u001b[39;00m qargs \u001b[39mor\u001b[39;00m []]\n\u001b[1;32m   <a href='file:///home/ricardo/miniconda3/envs/thesis/lib/python3.9/site-packages/qiskit/circuit/quantumcircuit.py?line=1220'>1221</a>\u001b[0m expanded_cargs \u001b[39m=\u001b[39m [\u001b[39mself\u001b[39m\u001b[39m.\u001b[39mcbit_argument_conversion(carg) \u001b[39mfor\u001b[39;00m carg \u001b[39min\u001b[39;00m cargs \u001b[39mor\u001b[39;00m []]\n\u001b[1;32m   <a href='file:///home/ricardo/miniconda3/envs/thesis/lib/python3.9/site-packages/qiskit/circuit/quantumcircuit.py?line=1222'>1223</a>\u001b[0m \u001b[39mif\u001b[39;00m \u001b[39mself\u001b[39m\u001b[39m.\u001b[39m_control_flow_scopes:\n",
      "File \u001b[0;32m~/miniconda3/envs/thesis/lib/python3.9/site-packages/qiskit/circuit/quantumcircuit.py:1220\u001b[0m, in \u001b[0;36m<listcomp>\u001b[0;34m(.0)\u001b[0m\n\u001b[1;32m   <a href='file:///home/ricardo/miniconda3/envs/thesis/lib/python3.9/site-packages/qiskit/circuit/quantumcircuit.py?line=1216'>1217</a>\u001b[0m     \u001b[39mif\u001b[39;00m is_parameter:\n\u001b[1;32m   <a href='file:///home/ricardo/miniconda3/envs/thesis/lib/python3.9/site-packages/qiskit/circuit/quantumcircuit.py?line=1217'>1218</a>\u001b[0m         instruction \u001b[39m=\u001b[39m copy\u001b[39m.\u001b[39mdeepcopy(instruction)\n\u001b[0;32m-> <a href='file:///home/ricardo/miniconda3/envs/thesis/lib/python3.9/site-packages/qiskit/circuit/quantumcircuit.py?line=1219'>1220</a>\u001b[0m expanded_qargs \u001b[39m=\u001b[39m [\u001b[39mself\u001b[39;49m\u001b[39m.\u001b[39;49mqbit_argument_conversion(qarg) \u001b[39mfor\u001b[39;00m qarg \u001b[39min\u001b[39;00m qargs \u001b[39mor\u001b[39;00m []]\n\u001b[1;32m   <a href='file:///home/ricardo/miniconda3/envs/thesis/lib/python3.9/site-packages/qiskit/circuit/quantumcircuit.py?line=1220'>1221</a>\u001b[0m expanded_cargs \u001b[39m=\u001b[39m [\u001b[39mself\u001b[39m\u001b[39m.\u001b[39mcbit_argument_conversion(carg) \u001b[39mfor\u001b[39;00m carg \u001b[39min\u001b[39;00m cargs \u001b[39mor\u001b[39;00m []]\n\u001b[1;32m   <a href='file:///home/ricardo/miniconda3/envs/thesis/lib/python3.9/site-packages/qiskit/circuit/quantumcircuit.py?line=1222'>1223</a>\u001b[0m \u001b[39mif\u001b[39;00m \u001b[39mself\u001b[39m\u001b[39m.\u001b[39m_control_flow_scopes:\n",
      "File \u001b[0;32m~/miniconda3/envs/thesis/lib/python3.9/site-packages/qiskit/circuit/quantumcircuit.py:1124\u001b[0m, in \u001b[0;36mQuantumCircuit.qbit_argument_conversion\u001b[0;34m(self, qubit_representation)\u001b[0m\n\u001b[1;32m   <a href='file:///home/ricardo/miniconda3/envs/thesis/lib/python3.9/site-packages/qiskit/circuit/quantumcircuit.py?line=1112'>1113</a>\u001b[0m \u001b[39mdef\u001b[39;00m \u001b[39mqbit_argument_conversion\u001b[39m(\u001b[39mself\u001b[39m, qubit_representation: QubitSpecifier) \u001b[39m-\u001b[39m\u001b[39m>\u001b[39m List[Qubit]:\n\u001b[1;32m   <a href='file:///home/ricardo/miniconda3/envs/thesis/lib/python3.9/site-packages/qiskit/circuit/quantumcircuit.py?line=1113'>1114</a>\u001b[0m     \u001b[39m\"\"\"\u001b[39;00m\n\u001b[1;32m   <a href='file:///home/ricardo/miniconda3/envs/thesis/lib/python3.9/site-packages/qiskit/circuit/quantumcircuit.py?line=1114'>1115</a>\u001b[0m \u001b[39m    Converts several qubit representations (such as indexes, range, etc.)\u001b[39;00m\n\u001b[1;32m   <a href='file:///home/ricardo/miniconda3/envs/thesis/lib/python3.9/site-packages/qiskit/circuit/quantumcircuit.py?line=1115'>1116</a>\u001b[0m \u001b[39m    into a list of qubits.\u001b[39;00m\n\u001b[0;32m   (...)\u001b[0m\n\u001b[1;32m   <a href='file:///home/ricardo/miniconda3/envs/thesis/lib/python3.9/site-packages/qiskit/circuit/quantumcircuit.py?line=1121'>1122</a>\u001b[0m \u001b[39m        List(Qubit): the resolved instances of the qubits.\u001b[39;00m\n\u001b[1;32m   <a href='file:///home/ricardo/miniconda3/envs/thesis/lib/python3.9/site-packages/qiskit/circuit/quantumcircuit.py?line=1122'>1123</a>\u001b[0m \u001b[39m    \"\"\"\u001b[39;00m\n\u001b[0;32m-> <a href='file:///home/ricardo/miniconda3/envs/thesis/lib/python3.9/site-packages/qiskit/circuit/quantumcircuit.py?line=1123'>1124</a>\u001b[0m     \u001b[39mreturn\u001b[39;00m QuantumCircuit\u001b[39m.\u001b[39;49m_bit_argument_conversion(qubit_representation, \u001b[39mself\u001b[39;49m\u001b[39m.\u001b[39;49mqubits)\n",
      "File \u001b[0;32m~/miniconda3/envs/thesis/lib/python3.9/site-packages/qiskit/circuit/quantumcircuit.py:1106\u001b[0m, in \u001b[0;36mQuantumCircuit._bit_argument_conversion\u001b[0;34m(bit_representation, in_array)\u001b[0m\n\u001b[1;32m   <a href='file:///home/ricardo/miniconda3/envs/thesis/lib/python3.9/site-packages/qiskit/circuit/quantumcircuit.py?line=1101'>1102</a>\u001b[0m         \u001b[39mraise\u001b[39;00m CircuitError(\n\u001b[1;32m   <a href='file:///home/ricardo/miniconda3/envs/thesis/lib/python3.9/site-packages/qiskit/circuit/quantumcircuit.py?line=1102'>1103</a>\u001b[0m             \u001b[39mf\u001b[39m\u001b[39m\"\u001b[39m\u001b[39mNot able to expand a \u001b[39m\u001b[39m{\u001b[39;00mbit_representation\u001b[39m}\u001b[39;00m\u001b[39m (\u001b[39m\u001b[39m{\u001b[39;00m\u001b[39mtype\u001b[39m(bit_representation)\u001b[39m}\u001b[39;00m\u001b[39m)\u001b[39m\u001b[39m\"\u001b[39m\n\u001b[1;32m   <a href='file:///home/ricardo/miniconda3/envs/thesis/lib/python3.9/site-packages/qiskit/circuit/quantumcircuit.py?line=1103'>1104</a>\u001b[0m         )\n\u001b[1;32m   <a href='file:///home/ricardo/miniconda3/envs/thesis/lib/python3.9/site-packages/qiskit/circuit/quantumcircuit.py?line=1104'>1105</a>\u001b[0m \u001b[39mexcept\u001b[39;00m \u001b[39mIndexError\u001b[39;00m \u001b[39mas\u001b[39;00m ex:\n\u001b[0;32m-> <a href='file:///home/ricardo/miniconda3/envs/thesis/lib/python3.9/site-packages/qiskit/circuit/quantumcircuit.py?line=1105'>1106</a>\u001b[0m     \u001b[39mraise\u001b[39;00m CircuitError(\u001b[39m\"\u001b[39m\u001b[39mIndex out of range.\u001b[39m\u001b[39m\"\u001b[39m) \u001b[39mfrom\u001b[39;00m \u001b[39mex\u001b[39;00m\n\u001b[1;32m   <a href='file:///home/ricardo/miniconda3/envs/thesis/lib/python3.9/site-packages/qiskit/circuit/quantumcircuit.py?line=1106'>1107</a>\u001b[0m \u001b[39mexcept\u001b[39;00m \u001b[39mTypeError\u001b[39;00m \u001b[39mas\u001b[39;00m ex:\n\u001b[1;32m   <a href='file:///home/ricardo/miniconda3/envs/thesis/lib/python3.9/site-packages/qiskit/circuit/quantumcircuit.py?line=1107'>1108</a>\u001b[0m     \u001b[39mraise\u001b[39;00m CircuitError(\n\u001b[1;32m   <a href='file:///home/ricardo/miniconda3/envs/thesis/lib/python3.9/site-packages/qiskit/circuit/quantumcircuit.py?line=1108'>1109</a>\u001b[0m         \u001b[39mf\u001b[39m\u001b[39m\"\u001b[39m\u001b[39mType error handling \u001b[39m\u001b[39m{\u001b[39;00mbit_representation\u001b[39m}\u001b[39;00m\u001b[39m (\u001b[39m\u001b[39m{\u001b[39;00m\u001b[39mtype\u001b[39m(bit_representation)\u001b[39m}\u001b[39;00m\u001b[39m)\u001b[39m\u001b[39m\"\u001b[39m\n\u001b[1;32m   <a href='file:///home/ricardo/miniconda3/envs/thesis/lib/python3.9/site-packages/qiskit/circuit/quantumcircuit.py?line=1109'>1110</a>\u001b[0m     ) \u001b[39mfrom\u001b[39;00m \u001b[39mex\u001b[39;00m\n",
      "\u001b[0;31mCircuitError\u001b[0m: 'Index out of range.'"
     ]
    }
   ],
   "source": [
    "circuit = QuantumCircuit(np.sum(problems[0][0]))\n",
    "circuit.h(range(circuit.width()))\n",
    "for i, v in enumerate(problems[0][1]):\n",
    "    circuit.ry(v, i)\n",
    "circuit.barrier()\n",
    "\n",
    "prev_i = 0\n",
    "for i, v in problems[0][2]:\n",
    "    if prev_i != i:\n",
    "        circuit.barrier()\n",
    "    circuit.crz(problems[0][2][i, v], i, v)\n",
    "    prev_i = i\n",
    "circuit.barrier()\n",
    "\n",
    "circuit.draw()"
   ]
  },
  {
   "cell_type": "code",
   "execution_count": null,
   "metadata": {},
   "outputs": [
    {
     "data": {
      "text/plain": [
       "array([1, 3, 2, 2, 3])"
      ]
     },
     "execution_count": 174,
     "metadata": {},
     "output_type": "execute_result"
    }
   ],
   "source": [
    "np.random.randint(1,4, size=5)"
   ]
  }
 ],
 "metadata": {
  "interpreter": {
   "hash": "50d08dd0d611dadcb9089d5d7c1d9b5812cef9b8fe953ac568fb854525141b9b"
  },
  "kernelspec": {
   "display_name": "Python 3.9.7 ('thesis')",
   "language": "python",
   "name": "python3"
  },
  "language_info": {
   "codemirror_mode": {
    "name": "ipython",
    "version": 3
   },
   "file_extension": ".py",
   "mimetype": "text/x-python",
   "name": "python",
   "nbconvert_exporter": "python",
   "pygments_lexer": "ipython3",
   "version": "3.9.7"
  },
  "orig_nbformat": 4
 },
 "nbformat": 4,
 "nbformat_minor": 2
}
