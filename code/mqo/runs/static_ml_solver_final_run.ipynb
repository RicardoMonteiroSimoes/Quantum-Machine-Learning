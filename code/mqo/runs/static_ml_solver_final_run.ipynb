{
 "cells": [
  {
   "cell_type": "code",
   "execution_count": 1,
   "metadata": {},
   "outputs": [],
   "source": [
    "\n",
    "from sklearn.datasets import load_iris\n",
    "from sklearn.model_selection import train_test_split\n",
    "from sklearn.preprocessing import MinMaxScaler\n",
    "from sklearn.metrics import accuracy_score\n",
    "\n",
    "from qiskit import *\n",
    "from qiskit.circuit import Parameter\n",
    "from qiskit import IBMQ, transpile\n",
    "from qiskit.providers.ibmq.managed import IBMQJobManager\n",
    "\n",
    "import numpy as np\n",
    "\n",
    "import pickle"
   ]
  },
  {
   "cell_type": "code",
   "execution_count": 2,
   "metadata": {},
   "outputs": [],
   "source": [
    "def scale_problems(problems, scale_min=-np.pi/4, scale_max=np.pi/4):\n",
    "    scaled = []\n",
    "    scaler = MinMaxScaler((-np.pi/4, np.pi/4))\n",
    "    for entry in problems:\n",
    "        scaled.append(np.array(scaler.fit_transform(entry.reshape(-1, 1)).flatten()))\n",
    "    return scaled"
   ]
  },
  {
   "cell_type": "code",
   "execution_count": 3,
   "metadata": {},
   "outputs": [],
   "source": [
    "def uncertainity_principle(circuit):\n",
    "    circuit.h(range(circuit.width()))\n",
    "    circuit.barrier()\n",
    "\n",
    "def cost_encoding(circuit):\n",
    "    for i in range(circuit.width()):\n",
    "        circuit.ry(-Parameter('c'+str(i)), i)\n",
    "    circuit.barrier()\n",
    "\n",
    "def same_query_cost(circuit):\n",
    "    for i in range(0,circuit.width(),2):\n",
    "        circuit.crz(-np.pi/4,i,i+1)\n",
    "    circuit.barrier()\n",
    "\n",
    "def savings_encoding(circuit):\n",
    "        for i in range(int(circuit.width()/2)):\n",
    "            circuit.crz(Parameter('s'+str(i)+str(int(circuit.width()/2))), i, int(circuit.width()/2))\n",
    "            circuit.crz(Parameter('s'+str(i)+str(int(1+circuit.width()/2))), i, int(1+circuit.width()/2))\n",
    "        circuit.barrier()\n",
    "\n",
    "def rx_layer(circuit, weight):\n",
    "    circuit.rx(weight, range(circuit.width()))\n",
    "    circuit.barrier()\n",
    "\n",
    "def create_circuit(n_queries=2, n_plans=2, scheme=\"hcsx\", xweight=np.pi/4):\n",
    "    circuit = QuantumCircuit(n_queries*n_plans)\n",
    "    for module in scheme:\n",
    "        if module == \"h\":\n",
    "            uncertainity_principle(circuit)\n",
    "        elif module == \"c\":\n",
    "            cost_encoding(circuit)\n",
    "        elif module == \"s\":\n",
    "            savings_encoding(circuit)\n",
    "        elif module == \"x\":\n",
    "            rx_layer(circuit, xweight)\n",
    "    return circuit"
   ]
  },
  {
   "cell_type": "code",
   "execution_count": 4,
   "metadata": {},
   "outputs": [],
   "source": [
    "def parse_results(result, max_value=True):\n",
    "    remove_useless_keys(result)\n",
    "    for i, key in enumerate([\"0101\", \"1001\", \"0110\", \"1010\"]):\n",
    "        result[i] = result.pop(key, 0)\n",
    "    if max_value:\n",
    "        return max(result, key=result.get)\n",
    "    else:\n",
    "        return result\n",
    "\n",
    "def remove_useless_keys(result):\n",
    "    for key in [\"0000\",\"0001\",\"0010\",\"0100\",\"1000\",\"1101\",\"1011\",\"1100\",\"0011\",\"0111\",\"1110\",\"1111\"]:\n",
    "            if key in result:\n",
    "                del result[key]\n",
    "    for key in [\"0101\", \"1001\", \"0110\", \"1010\"]:\n",
    "        if not key in result:\n",
    "            result[key] = 0\n",
    "\n",
    "def score_distance_results(results, solutions):\n",
    "    x = np.array(results)\n",
    "    y = np.array(solutions)\n",
    "    distances = {}\n",
    "    for r,s in zip(x,y):\n",
    "        distance = np.where(s == r)[0]#[0]\n",
    "        if len(distance) == 0:\n",
    "            print('Solution not in prediction!')\n",
    "            if not 'inf' in distances:\n",
    "                distances['inf'] = 1\n",
    "            else:\n",
    "                distances['inf'] += 1\n",
    "        elif not distance[0] in distances:\n",
    "            distances[distance[0]] = 1\n",
    "        else:\n",
    "            distances[distance[0]] += 1\n",
    "    return distances"
   ]
  },
  {
   "cell_type": "code",
   "execution_count": 5,
   "metadata": {},
   "outputs": [],
   "source": [
    "def run_circuit(circuit, backend=Aer.get_backend(\"aer_simulator\"), shots=1024):\n",
    "    job = backend.run(transpile(circuit, backend), shots=shots)\n",
    "    res = job.result()\n",
    "    return res.get_counts(qc)"
   ]
  },
  {
   "cell_type": "code",
   "execution_count": 6,
   "metadata": {},
   "outputs": [],
   "source": [
    "def score_results(results, solutions):\n",
    "    return accuracy_score(results, solutions)"
   ]
  },
  {
   "cell_type": "code",
   "execution_count": 7,
   "metadata": {},
   "outputs": [],
   "source": [
    "ibm_backend = 'ibmq_bogota'\n",
    "total_iterations = 13"
   ]
  },
  {
   "cell_type": "code",
   "execution_count": 8,
   "metadata": {},
   "outputs": [],
   "source": [
    "path = \"data/problems_with_solutions.p\"\n",
    "data = pickle.load(open(path, \"rb\"))\n",
    "x_train = scale_problems(data['x_train'])\n",
    "x_test = scale_problems(data['x_test'])\n",
    "y_train = data['y_train']\n",
    "y_test = data['y_test']\n",
    "y_test_ranking = data['y_test_ranked']"
   ]
  },
  {
   "cell_type": "code",
   "execution_count": 9,
   "metadata": {},
   "outputs": [],
   "source": []
  },
  {
   "cell_type": "code",
   "execution_count": 10,
   "metadata": {},
   "outputs": [],
   "source": [
    "#load weights\n",
    "weights_path = \"experiments/optimizer_hyperparameters/amsgrad_final.p\"\n",
    "data = pickle.load(open(weights_path, \"rb\"))[0]"
   ]
  },
  {
   "cell_type": "markdown",
   "metadata": {},
   "source": [
    "# ML OPTIMIZED SOLUTION"
   ]
  },
  {
   "cell_type": "code",
   "execution_count": 11,
   "metadata": {},
   "outputs": [
    {
     "data": {
      "text/plain": [
       "0.23518365448276313"
      ]
     },
     "execution_count": 11,
     "metadata": {},
     "output_type": "execute_result"
    }
   ],
   "source": [
    "results = data['results'][0]\n",
    "best_index = results['scoreTesting'].index(max(results['scoreTesting']))\n",
    "rxweight = results['finalWeights'][best_index][0]\n",
    "rxweight"
   ]
  },
  {
   "cell_type": "code",
   "execution_count": 12,
   "metadata": {},
   "outputs": [],
   "source": [
    "circuit = create_circuit(xweight=rxweight)"
   ]
  },
  {
   "cell_type": "code",
   "execution_count": 13,
   "metadata": {},
   "outputs": [],
   "source": [
    "#prepare circuits\n",
    "circuits = []\n",
    "for test in x_test:\n",
    "    qc = circuit.copy().bind_parameters(test)\n",
    "    qc.measure_all()\n",
    "    circuits.append(qc)"
   ]
  },
  {
   "cell_type": "markdown",
   "metadata": {},
   "source": [
    "### ML SIMULATION RUNS"
   ]
  },
  {
   "cell_type": "code",
   "execution_count": 14,
   "metadata": {},
   "outputs": [],
   "source": [
    "data_to_save = {}"
   ]
  },
  {
   "cell_type": "code",
   "execution_count": 15,
   "metadata": {},
   "outputs": [],
   "source": [
    "simulation_ml_accuracies = []\n",
    "simulation_ml_parity_accuracies = []\n",
    "simulation_ml_counts = []\n",
    "for i in range(total_iterations):\n",
    "    results_parity = []\n",
    "    results_filtered = []\n",
    "    c = []\n",
    "    for qc in circuits:\n",
    "        counts = run_circuit(qc.copy(), shots=4000)\n",
    "        c.append(counts.copy())\n",
    "        results_parity.append(int(max(counts, key=counts.get), 2) % 4)\n",
    "        results_filtered.append(parse_results(counts))\n",
    "    simulation_ml_accuracies.append(score_results(results_filtered, y_test))\n",
    "    simulation_ml_parity_accuracies.append(score_results(results_parity, y_test))\n",
    "    simulation_ml_counts.append(c)\n",
    "data_to_save['ml_simulator_counts'] = simulation_ml_counts.copy() "
   ]
  },
  {
   "cell_type": "code",
   "execution_count": 16,
   "metadata": {},
   "outputs": [],
   "source": [
    "simulation_ml_filtered_counts = []\n",
    "simulation_ml_parity_counts = []\n",
    "for iteration in simulation_ml_counts:\n",
    "    f = []\n",
    "    p = []\n",
    "    for counts in iteration:\n",
    "        f.append(list({k: v for k, v in sorted(parse_results(counts.copy(), \\\n",
    "            max_value=False).items(), key=lambda item: item[1], reverse=True)}.keys()))\n",
    "        parity_list = list({k: v for k, v in sorted(counts.items(), key=lambda item: item[1], reverse=True)}.keys())[:4]\n",
    "        p.append([int(a, 2)%4 for a in parity_list])\n",
    "    simulation_ml_filtered_counts.append(f)\n",
    "    simulation_ml_parity_counts.append(p)"
   ]
  },
  {
   "cell_type": "code",
   "execution_count": 17,
   "metadata": {},
   "outputs": [
    {
     "name": "stdout",
     "output_type": "stream",
     "text": [
      "Solution not in prediction!\n",
      "Solution not in prediction!\n",
      "Solution not in prediction!\n",
      "Solution not in prediction!\n",
      "Solution not in prediction!\n",
      "Solution not in prediction!\n",
      "Solution not in prediction!\n",
      "Solution not in prediction!\n",
      "Solution not in prediction!\n",
      "Solution not in prediction!\n",
      "Solution not in prediction!\n",
      "Solution not in prediction!\n",
      "Solution not in prediction!\n",
      "Solution not in prediction!\n",
      "Solution not in prediction!\n",
      "Solution not in prediction!\n",
      "Solution not in prediction!\n",
      "Solution not in prediction!\n",
      "Solution not in prediction!\n",
      "Solution not in prediction!\n",
      "Solution not in prediction!\n",
      "Solution not in prediction!\n",
      "Solution not in prediction!\n",
      "Solution not in prediction!\n",
      "Solution not in prediction!\n",
      "Solution not in prediction!\n",
      "Solution not in prediction!\n",
      "Solution not in prediction!\n",
      "Solution not in prediction!\n",
      "Solution not in prediction!\n",
      "Solution not in prediction!\n",
      "Solution not in prediction!\n",
      "Solution not in prediction!\n",
      "Solution not in prediction!\n",
      "Solution not in prediction!\n",
      "Solution not in prediction!\n",
      "Solution not in prediction!\n",
      "Solution not in prediction!\n",
      "Solution not in prediction!\n",
      "Solution not in prediction!\n",
      "Solution not in prediction!\n",
      "Solution not in prediction!\n",
      "Solution not in prediction!\n",
      "Solution not in prediction!\n",
      "Solution not in prediction!\n",
      "Solution not in prediction!\n",
      "Solution not in prediction!\n",
      "Solution not in prediction!\n",
      "Solution not in prediction!\n",
      "Solution not in prediction!\n",
      "Solution not in prediction!\n",
      "Solution not in prediction!\n",
      "Solution not in prediction!\n",
      "Solution not in prediction!\n",
      "Solution not in prediction!\n",
      "Solution not in prediction!\n",
      "Solution not in prediction!\n",
      "Solution not in prediction!\n",
      "Solution not in prediction!\n",
      "Solution not in prediction!\n",
      "Solution not in prediction!\n",
      "Solution not in prediction!\n",
      "Solution not in prediction!\n",
      "Solution not in prediction!\n",
      "Solution not in prediction!\n",
      "Solution not in prediction!\n",
      "Solution not in prediction!\n",
      "Solution not in prediction!\n",
      "Solution not in prediction!\n",
      "Solution not in prediction!\n",
      "Solution not in prediction!\n",
      "Solution not in prediction!\n",
      "Solution not in prediction!\n",
      "Solution not in prediction!\n",
      "Solution not in prediction!\n",
      "Solution not in prediction!\n",
      "Solution not in prediction!\n",
      "Solution not in prediction!\n",
      "Solution not in prediction!\n",
      "Solution not in prediction!\n",
      "Solution not in prediction!\n",
      "Solution not in prediction!\n",
      "Solution not in prediction!\n",
      "Solution not in prediction!\n",
      "Solution not in prediction!\n",
      "Solution not in prediction!\n",
      "Solution not in prediction!\n",
      "Solution not in prediction!\n",
      "Solution not in prediction!\n",
      "Solution not in prediction!\n",
      "Solution not in prediction!\n",
      "Solution not in prediction!\n",
      "Solution not in prediction!\n",
      "Solution not in prediction!\n",
      "Solution not in prediction!\n",
      "Solution not in prediction!\n",
      "Solution not in prediction!\n",
      "Solution not in prediction!\n",
      "Solution not in prediction!\n",
      "Solution not in prediction!\n",
      "Solution not in prediction!\n",
      "Solution not in prediction!\n",
      "Solution not in prediction!\n",
      "Solution not in prediction!\n",
      "Solution not in prediction!\n",
      "Solution not in prediction!\n",
      "Solution not in prediction!\n",
      "Solution not in prediction!\n",
      "Solution not in prediction!\n",
      "Solution not in prediction!\n",
      "Solution not in prediction!\n",
      "Solution not in prediction!\n",
      "Solution not in prediction!\n",
      "Solution not in prediction!\n",
      "Solution not in prediction!\n",
      "Solution not in prediction!\n",
      "Solution not in prediction!\n",
      "Solution not in prediction!\n",
      "Solution not in prediction!\n",
      "Solution not in prediction!\n",
      "Solution not in prediction!\n",
      "Solution not in prediction!\n",
      "Solution not in prediction!\n",
      "Solution not in prediction!\n",
      "Solution not in prediction!\n",
      "Solution not in prediction!\n",
      "Solution not in prediction!\n",
      "Solution not in prediction!\n",
      "Solution not in prediction!\n",
      "Solution not in prediction!\n",
      "Solution not in prediction!\n",
      "Solution not in prediction!\n",
      "Solution not in prediction!\n",
      "Solution not in prediction!\n",
      "Solution not in prediction!\n",
      "Solution not in prediction!\n",
      "Solution not in prediction!\n",
      "Solution not in prediction!\n",
      "Solution not in prediction!\n",
      "Solution not in prediction!\n",
      "Solution not in prediction!\n",
      "Solution not in prediction!\n",
      "Solution not in prediction!\n",
      "Solution not in prediction!\n",
      "Solution not in prediction!\n",
      "Solution not in prediction!\n",
      "Solution not in prediction!\n",
      "Solution not in prediction!\n",
      "Solution not in prediction!\n",
      "Solution not in prediction!\n",
      "Solution not in prediction!\n",
      "Solution not in prediction!\n",
      "Solution not in prediction!\n",
      "Solution not in prediction!\n",
      "Solution not in prediction!\n",
      "Solution not in prediction!\n",
      "Solution not in prediction!\n",
      "Solution not in prediction!\n",
      "Solution not in prediction!\n",
      "Solution not in prediction!\n",
      "Solution not in prediction!\n",
      "Solution not in prediction!\n",
      "Solution not in prediction!\n",
      "Solution not in prediction!\n",
      "Solution not in prediction!\n",
      "Solution not in prediction!\n",
      "Solution not in prediction!\n",
      "Solution not in prediction!\n",
      "Solution not in prediction!\n",
      "Solution not in prediction!\n",
      "Solution not in prediction!\n",
      "Solution not in prediction!\n",
      "Solution not in prediction!\n",
      "Solution not in prediction!\n",
      "Solution not in prediction!\n",
      "Solution not in prediction!\n",
      "Solution not in prediction!\n",
      "Solution not in prediction!\n",
      "Solution not in prediction!\n",
      "Solution not in prediction!\n",
      "Solution not in prediction!\n",
      "Solution not in prediction!\n",
      "Solution not in prediction!\n",
      "Solution not in prediction!\n",
      "Solution not in prediction!\n",
      "Solution not in prediction!\n",
      "Solution not in prediction!\n",
      "Solution not in prediction!\n",
      "Solution not in prediction!\n",
      "Solution not in prediction!\n",
      "Solution not in prediction!\n",
      "Solution not in prediction!\n",
      "Solution not in prediction!\n",
      "Solution not in prediction!\n",
      "Solution not in prediction!\n",
      "Solution not in prediction!\n",
      "Solution not in prediction!\n",
      "Solution not in prediction!\n",
      "Solution not in prediction!\n",
      "Solution not in prediction!\n",
      "Solution not in prediction!\n",
      "Solution not in prediction!\n",
      "Solution not in prediction!\n",
      "Solution not in prediction!\n",
      "Solution not in prediction!\n",
      "Solution not in prediction!\n",
      "Solution not in prediction!\n",
      "Solution not in prediction!\n",
      "Solution not in prediction!\n",
      "Solution not in prediction!\n",
      "Solution not in prediction!\n",
      "Solution not in prediction!\n",
      "Solution not in prediction!\n",
      "Solution not in prediction!\n",
      "Solution not in prediction!\n",
      "Solution not in prediction!\n",
      "Solution not in prediction!\n",
      "Solution not in prediction!\n",
      "Solution not in prediction!\n",
      "Solution not in prediction!\n",
      "Solution not in prediction!\n",
      "Solution not in prediction!\n",
      "Solution not in prediction!\n",
      "Solution not in prediction!\n",
      "Solution not in prediction!\n",
      "Solution not in prediction!\n",
      "Solution not in prediction!\n",
      "Solution not in prediction!\n",
      "Solution not in prediction!\n",
      "Solution not in prediction!\n",
      "Solution not in prediction!\n",
      "Solution not in prediction!\n",
      "Solution not in prediction!\n",
      "Solution not in prediction!\n",
      "Solution not in prediction!\n",
      "Solution not in prediction!\n",
      "Solution not in prediction!\n",
      "Solution not in prediction!\n"
     ]
    }
   ],
   "source": [
    "simulation_ml_filtered_distances = []\n",
    "simulation_ml_parity_distances = []\n",
    "distances = []\n",
    "for f, p in zip(simulation_ml_filtered_counts, simulation_ml_parity_counts):\n",
    "    simulation_ml_filtered_distances.append(score_distance_results(f, y_test))\n",
    "    simulation_ml_parity_distances.append(score_distance_results(p, y_test))"
   ]
  },
  {
   "cell_type": "markdown",
   "metadata": {},
   "source": [
    "### ML REAL HARDWARE RUNS"
   ]
  },
  {
   "cell_type": "code",
   "execution_count": 18,
   "metadata": {},
   "outputs": [],
   "source": [
    "provider = IBMQ.load_account()\n",
    "backend = provider.get_backend(ibm_backend)\n",
    "job_manager = IBMQJobManager()"
   ]
  },
  {
   "cell_type": "code",
   "execution_count": 19,
   "metadata": {},
   "outputs": [],
   "source": [
    "transpiled_circuits = []\n",
    "for qc in circuits:\n",
    "    transpiled_circuits.append(transpile(qc, backend=backend))"
   ]
  },
  {
   "cell_type": "code",
   "execution_count": 20,
   "metadata": {},
   "outputs": [
    {
     "name": "stdout",
     "output_type": "stream",
     "text": [
      "Iteration 1\n",
      "Iteration 2\n",
      "Iteration 3\n",
      "Iteration 4\n",
      "Iteration 5\n",
      "Iteration 6\n",
      "Iteration 7\n",
      "Iteration 8\n",
      "Iteration 9\n",
      "Iteration 10\n",
      "Iteration 11\n",
      "Iteration 12\n",
      "Iteration 13\n"
     ]
    }
   ],
   "source": [
    "real_hardware_counts = []\n",
    "real_hardware_accuracies_parity = []\n",
    "real_hardware_accuracies = []\n",
    "counts = []\n",
    "for i in range(total_iterations):\n",
    "    print('Iteration ' + str(i+1))\n",
    "    job_set_static = job_manager.run(transpiled_circuits, backend=backend, name='Static MQO ML Solver Iteration ' + str(i))\n",
    "    real_results = job_set_static.results()\n",
    "    results_parity = []\n",
    "    results_filtered = []\n",
    "    c = []\n",
    "    for j in range(len(transpiled_circuits)):\n",
    "        counts = real_results.get_counts(j)\n",
    "        c.append(counts.copy())\n",
    "        results_parity.append(int(max(counts, key=counts.get), 2) % 4)\n",
    "        results_filtered.append(parse_results(counts.copy()))\n",
    "    real_hardware_accuracies.append(score_results(results_filtered, y_test))\n",
    "    real_hardware_accuracies_parity.append(score_results(results_parity, y_test))\n",
    "    real_hardware_counts.append(c)\n",
    "data_to_save['ml_real_hw_counts'] = real_hardware_counts.copy() "
   ]
  },
  {
   "cell_type": "code",
   "execution_count": 21,
   "metadata": {},
   "outputs": [],
   "source": [
    "real_hw_ml_filtered_counts = []\n",
    "real_hw_ml_parity_counts = []\n",
    "for iteration in real_hardware_counts:\n",
    "    f = []\n",
    "    p = []\n",
    "    for counts in iteration:\n",
    "        f.append(list({k: v for k, v in sorted(parse_results(counts.copy(), \\\n",
    "            max_value=False).items(), key=lambda item: item[1], reverse=True)}.keys()))\n",
    "        parity_list = list({k: v for k, v in sorted(counts.items(), key=lambda item: item[1], reverse=True)}.keys())[:4]\n",
    "        p.append([int(a, 2)%4 for a in parity_list])\n",
    "    real_hw_ml_filtered_counts.append(f)\n",
    "    real_hw_ml_parity_counts.append(p)"
   ]
  },
  {
   "cell_type": "code",
   "execution_count": 22,
   "metadata": {},
   "outputs": [
    {
     "name": "stdout",
     "output_type": "stream",
     "text": [
      "Solution not in prediction!\n",
      "Solution not in prediction!\n",
      "Solution not in prediction!\n",
      "Solution not in prediction!\n",
      "Solution not in prediction!\n",
      "Solution not in prediction!\n",
      "Solution not in prediction!\n",
      "Solution not in prediction!\n",
      "Solution not in prediction!\n",
      "Solution not in prediction!\n",
      "Solution not in prediction!\n",
      "Solution not in prediction!\n",
      "Solution not in prediction!\n",
      "Solution not in prediction!\n",
      "Solution not in prediction!\n",
      "Solution not in prediction!\n",
      "Solution not in prediction!\n",
      "Solution not in prediction!\n",
      "Solution not in prediction!\n",
      "Solution not in prediction!\n",
      "Solution not in prediction!\n",
      "Solution not in prediction!\n",
      "Solution not in prediction!\n",
      "Solution not in prediction!\n",
      "Solution not in prediction!\n",
      "Solution not in prediction!\n",
      "Solution not in prediction!\n",
      "Solution not in prediction!\n",
      "Solution not in prediction!\n",
      "Solution not in prediction!\n",
      "Solution not in prediction!\n",
      "Solution not in prediction!\n",
      "Solution not in prediction!\n",
      "Solution not in prediction!\n",
      "Solution not in prediction!\n",
      "Solution not in prediction!\n",
      "Solution not in prediction!\n",
      "Solution not in prediction!\n",
      "Solution not in prediction!\n",
      "Solution not in prediction!\n",
      "Solution not in prediction!\n",
      "Solution not in prediction!\n",
      "Solution not in prediction!\n",
      "Solution not in prediction!\n",
      "Solution not in prediction!\n",
      "Solution not in prediction!\n",
      "Solution not in prediction!\n",
      "Solution not in prediction!\n",
      "Solution not in prediction!\n",
      "Solution not in prediction!\n",
      "Solution not in prediction!\n",
      "Solution not in prediction!\n",
      "Solution not in prediction!\n",
      "Solution not in prediction!\n",
      "Solution not in prediction!\n",
      "Solution not in prediction!\n",
      "Solution not in prediction!\n",
      "Solution not in prediction!\n",
      "Solution not in prediction!\n",
      "Solution not in prediction!\n",
      "Solution not in prediction!\n",
      "Solution not in prediction!\n",
      "Solution not in prediction!\n",
      "Solution not in prediction!\n",
      "Solution not in prediction!\n",
      "Solution not in prediction!\n",
      "Solution not in prediction!\n",
      "Solution not in prediction!\n",
      "Solution not in prediction!\n",
      "Solution not in prediction!\n",
      "Solution not in prediction!\n",
      "Solution not in prediction!\n",
      "Solution not in prediction!\n",
      "Solution not in prediction!\n",
      "Solution not in prediction!\n",
      "Solution not in prediction!\n",
      "Solution not in prediction!\n",
      "Solution not in prediction!\n",
      "Solution not in prediction!\n",
      "Solution not in prediction!\n",
      "Solution not in prediction!\n",
      "Solution not in prediction!\n",
      "Solution not in prediction!\n",
      "Solution not in prediction!\n",
      "Solution not in prediction!\n",
      "Solution not in prediction!\n",
      "Solution not in prediction!\n",
      "Solution not in prediction!\n",
      "Solution not in prediction!\n",
      "Solution not in prediction!\n",
      "Solution not in prediction!\n",
      "Solution not in prediction!\n",
      "Solution not in prediction!\n",
      "Solution not in prediction!\n",
      "Solution not in prediction!\n",
      "Solution not in prediction!\n",
      "Solution not in prediction!\n",
      "Solution not in prediction!\n",
      "Solution not in prediction!\n",
      "Solution not in prediction!\n",
      "Solution not in prediction!\n",
      "Solution not in prediction!\n",
      "Solution not in prediction!\n",
      "Solution not in prediction!\n",
      "Solution not in prediction!\n",
      "Solution not in prediction!\n",
      "Solution not in prediction!\n",
      "Solution not in prediction!\n",
      "Solution not in prediction!\n",
      "Solution not in prediction!\n",
      "Solution not in prediction!\n",
      "Solution not in prediction!\n",
      "Solution not in prediction!\n",
      "Solution not in prediction!\n",
      "Solution not in prediction!\n",
      "Solution not in prediction!\n",
      "Solution not in prediction!\n",
      "Solution not in prediction!\n",
      "Solution not in prediction!\n",
      "Solution not in prediction!\n",
      "Solution not in prediction!\n",
      "Solution not in prediction!\n",
      "Solution not in prediction!\n",
      "Solution not in prediction!\n",
      "Solution not in prediction!\n",
      "Solution not in prediction!\n",
      "Solution not in prediction!\n",
      "Solution not in prediction!\n",
      "Solution not in prediction!\n",
      "Solution not in prediction!\n",
      "Solution not in prediction!\n",
      "Solution not in prediction!\n",
      "Solution not in prediction!\n",
      "Solution not in prediction!\n",
      "Solution not in prediction!\n",
      "Solution not in prediction!\n",
      "Solution not in prediction!\n",
      "Solution not in prediction!\n",
      "Solution not in prediction!\n",
      "Solution not in prediction!\n",
      "Solution not in prediction!\n",
      "Solution not in prediction!\n",
      "Solution not in prediction!\n",
      "Solution not in prediction!\n",
      "Solution not in prediction!\n",
      "Solution not in prediction!\n",
      "Solution not in prediction!\n",
      "Solution not in prediction!\n",
      "Solution not in prediction!\n",
      "Solution not in prediction!\n",
      "Solution not in prediction!\n",
      "Solution not in prediction!\n",
      "Solution not in prediction!\n",
      "Solution not in prediction!\n",
      "Solution not in prediction!\n",
      "Solution not in prediction!\n",
      "Solution not in prediction!\n",
      "Solution not in prediction!\n",
      "Solution not in prediction!\n",
      "Solution not in prediction!\n",
      "Solution not in prediction!\n",
      "Solution not in prediction!\n",
      "Solution not in prediction!\n",
      "Solution not in prediction!\n",
      "Solution not in prediction!\n",
      "Solution not in prediction!\n",
      "Solution not in prediction!\n",
      "Solution not in prediction!\n",
      "Solution not in prediction!\n",
      "Solution not in prediction!\n",
      "Solution not in prediction!\n",
      "Solution not in prediction!\n",
      "Solution not in prediction!\n",
      "Solution not in prediction!\n",
      "Solution not in prediction!\n",
      "Solution not in prediction!\n",
      "Solution not in prediction!\n",
      "Solution not in prediction!\n",
      "Solution not in prediction!\n",
      "Solution not in prediction!\n",
      "Solution not in prediction!\n",
      "Solution not in prediction!\n",
      "Solution not in prediction!\n",
      "Solution not in prediction!\n",
      "Solution not in prediction!\n",
      "Solution not in prediction!\n",
      "Solution not in prediction!\n",
      "Solution not in prediction!\n",
      "Solution not in prediction!\n",
      "Solution not in prediction!\n",
      "Solution not in prediction!\n",
      "Solution not in prediction!\n",
      "Solution not in prediction!\n",
      "Solution not in prediction!\n",
      "Solution not in prediction!\n",
      "Solution not in prediction!\n",
      "Solution not in prediction!\n",
      "Solution not in prediction!\n",
      "Solution not in prediction!\n",
      "Solution not in prediction!\n",
      "Solution not in prediction!\n",
      "Solution not in prediction!\n",
      "Solution not in prediction!\n",
      "Solution not in prediction!\n",
      "Solution not in prediction!\n",
      "Solution not in prediction!\n",
      "Solution not in prediction!\n",
      "Solution not in prediction!\n",
      "Solution not in prediction!\n",
      "Solution not in prediction!\n",
      "Solution not in prediction!\n",
      "Solution not in prediction!\n",
      "Solution not in prediction!\n",
      "Solution not in prediction!\n",
      "Solution not in prediction!\n",
      "Solution not in prediction!\n"
     ]
    }
   ],
   "source": [
    "real_hardware_ml_filtered_distances = []\n",
    "real_hardware_ml_parity_distances = []\n",
    "distances = []\n",
    "for f, p in zip(real_hw_ml_filtered_counts, real_hw_ml_parity_counts):\n",
    "    real_hardware_ml_filtered_distances.append(score_distance_results(f, y_test))\n",
    "    real_hardware_ml_parity_distances.append(score_distance_results(p, y_test))"
   ]
  },
  {
   "cell_type": "code",
   "execution_count": 252,
   "metadata": {},
   "outputs": [
    {
     "data": {
      "text/plain": [
       "[{'inf': 18, 0: 23, 2: 8, 1: 22, 3: 4},\n",
       " {'inf': 18, 0: 24, 1: 22, 2: 7, 3: 4},\n",
       " {'inf': 18, 0: 23, 1: 21, 2: 9, 3: 4},\n",
       " {'inf': 18, 0: 24, 2: 10, 1: 20, 3: 3},\n",
       " {'inf': 18, 0: 26, 2: 9, 1: 19, 3: 3},\n",
       " {'inf': 18, 0: 24, 2: 12, 1: 18, 3: 3},\n",
       " {'inf': 18, 0: 23, 2: 11, 1: 19, 3: 4},\n",
       " {'inf': 19, 0: 24, 2: 9, 1: 20, 3: 3},\n",
       " {'inf': 18, 0: 24, 2: 10, 1: 19, 3: 4},\n",
       " {'inf': 18, 0: 23, 2: 9, 1: 20, 3: 5},\n",
       " {'inf': 17, 0: 22, 2: 13, 1: 19, 3: 4},\n",
       " {'inf': 18, 0: 22, 2: 12, 1: 20, 3: 3},\n",
       " {'inf': 17, 0: 23, 2: 10, 1: 21, 3: 4}]"
      ]
     },
     "execution_count": 252,
     "metadata": {},
     "output_type": "execute_result"
    }
   ],
   "source": [
    "real_hardware_ml_parity_distances"
   ]
  },
  {
   "cell_type": "markdown",
   "metadata": {},
   "source": [
    "# STATIC CIRCUIT RUNS"
   ]
  },
  {
   "cell_type": "code",
   "execution_count": 23,
   "metadata": {},
   "outputs": [],
   "source": [
    "circuit = create_circuit()\n",
    "#prepare circuits\n",
    "circuits = []\n",
    "for test in x_test:\n",
    "    qc = circuit.copy().bind_parameters(test)\n",
    "    qc.measure_all()\n",
    "    circuits.append(qc)\n",
    "\n",
    "transpiled_circuits = []\n",
    "for qc in circuits:\n",
    "    transpiled_circuits.append(transpile(qc, backend=backend))"
   ]
  },
  {
   "cell_type": "markdown",
   "metadata": {},
   "source": [
    "### SIMULATOR STATIC RUNS"
   ]
  },
  {
   "cell_type": "code",
   "execution_count": 24,
   "metadata": {},
   "outputs": [],
   "source": [
    "simulation_accuracies = []\n",
    "simulation_counts = []\n",
    "\n",
    "for i in range(total_iterations):\n",
    "    results = []\n",
    "    distance_results = []\n",
    "    c = []\n",
    "    for qc in circuits:\n",
    "        counts = run_circuit(qc.copy(), shots=4000)\n",
    "        c.append(counts)\n",
    "        results.append(parse_results(counts.copy()))\n",
    "    simulation_accuracies.append(score_results(results, y_test))\n",
    "    simulation_counts.append(c)\n",
    "data_to_save['static_simulation_counts'] = simulation_counts.copy() "
   ]
  },
  {
   "cell_type": "code",
   "execution_count": 25,
   "metadata": {},
   "outputs": [],
   "source": [
    "simulation_distances = []\n",
    "for f in simulation_counts:\n",
    "        res = []\n",
    "        for r in f:\n",
    "                x = parse_results(r.copy(), max_value=False)\n",
    "                x = list({k: v for k, v in sorted(x.items(), key=lambda item: item[1], reverse=True)}.keys())\n",
    "                res.append(x)\n",
    "        simulation_distances.append(score_distance_results(res, y_test))"
   ]
  },
  {
   "cell_type": "code",
   "execution_count": 289,
   "metadata": {},
   "outputs": [
    {
     "data": {
      "text/plain": [
       "[{0: 67, 1: 8},\n",
       " {0: 66, 2: 1, 1: 8},\n",
       " {0: 64, 1: 11},\n",
       " {0: 65, 1: 10},\n",
       " {0: 66, 1: 7, 2: 2},\n",
       " {0: 64, 1: 10, 2: 1},\n",
       " {0: 67, 2: 1, 1: 7},\n",
       " {0: 64, 1: 11},\n",
       " {0: 66, 2: 1, 1: 8},\n",
       " {0: 66, 1: 9},\n",
       " {0: 65, 2: 1, 1: 9},\n",
       " {0: 65, 1: 9, 2: 1},\n",
       " {0: 64, 1: 10, 2: 1}]"
      ]
     },
     "execution_count": 289,
     "metadata": {},
     "output_type": "execute_result"
    }
   ],
   "source": [
    "simulation_distances"
   ]
  },
  {
   "cell_type": "markdown",
   "metadata": {},
   "source": [
    "### REAL HARDWARE STATIC RUNS"
   ]
  },
  {
   "cell_type": "code",
   "execution_count": 26,
   "metadata": {},
   "outputs": [
    {
     "name": "stdout",
     "output_type": "stream",
     "text": [
      "Iteration 1\n",
      "Iteration 2\n",
      "Iteration 3\n",
      "Iteration 4\n",
      "Iteration 5\n",
      "Iteration 6\n",
      "Iteration 7\n",
      "Iteration 8\n",
      "Iteration 9\n",
      "Iteration 10\n",
      "Iteration 11\n",
      "Iteration 12\n",
      "Iteration 13\n"
     ]
    }
   ],
   "source": [
    "real_accuracies = []\n",
    "real_counts = []\n",
    "for i in range(total_iterations):\n",
    "    print('Iteration ' + str(i+1))\n",
    "    job_set_static = job_manager.run(transpiled_circuits, backend=backend, name='Static MQO Solver Iteration ' + str(i))\n",
    "    real_results = job_set_static.results()\n",
    "    res_temp = []\n",
    "    for j in range(len(transpiled_circuits)):\n",
    "        real_counts.append(real_results.get_counts(j).copy())\n",
    "        res_temp.append(parse_results(real_results.get_counts(j)))\n",
    "    real_accuracies.append(score_results(res_temp, y_test))\n",
    "data_to_save['static_real_hw_counts'] = real_counts.copy() \n"
   ]
  },
  {
   "cell_type": "code",
   "execution_count": 27,
   "metadata": {},
   "outputs": [
    {
     "ename": "AttributeError",
     "evalue": "'str' object has no attribute 'copy'",
     "output_type": "error",
     "traceback": [
      "\u001b[0;31m---------------------------------------------------------------------------\u001b[0m",
      "\u001b[0;31mAttributeError\u001b[0m                            Traceback (most recent call last)",
      "\u001b[1;32m/mnt/c/Users/ricar/Documents/GitHub/Quantum Machine Learning/code/mqo/runs/static_ml_solver_final_run.ipynb Cell 35'\u001b[0m in \u001b[0;36m<cell line: 2>\u001b[0;34m()\u001b[0m\n\u001b[1;32m      <a href='vscode-notebook-cell://wsl%2Bubuntu-18.04/mnt/c/Users/ricar/Documents/GitHub/Quantum%20Machine%20Learning/code/mqo/runs/static_ml_solver_final_run.ipynb#ch0000033vscode-remote?line=2'>3</a>\u001b[0m res \u001b[39m=\u001b[39m []\n\u001b[1;32m      <a href='vscode-notebook-cell://wsl%2Bubuntu-18.04/mnt/c/Users/ricar/Documents/GitHub/Quantum%20Machine%20Learning/code/mqo/runs/static_ml_solver_final_run.ipynb#ch0000033vscode-remote?line=3'>4</a>\u001b[0m \u001b[39mfor\u001b[39;00m r \u001b[39min\u001b[39;00m f:\n\u001b[0;32m----> <a href='vscode-notebook-cell://wsl%2Bubuntu-18.04/mnt/c/Users/ricar/Documents/GitHub/Quantum%20Machine%20Learning/code/mqo/runs/static_ml_solver_final_run.ipynb#ch0000033vscode-remote?line=4'>5</a>\u001b[0m         x \u001b[39m=\u001b[39m parse_results(r\u001b[39m.\u001b[39;49mcopy(), max_value\u001b[39m=\u001b[39m\u001b[39mFalse\u001b[39;00m)\n\u001b[1;32m      <a href='vscode-notebook-cell://wsl%2Bubuntu-18.04/mnt/c/Users/ricar/Documents/GitHub/Quantum%20Machine%20Learning/code/mqo/runs/static_ml_solver_final_run.ipynb#ch0000033vscode-remote?line=5'>6</a>\u001b[0m         x \u001b[39m=\u001b[39m \u001b[39mlist\u001b[39m({k: v \u001b[39mfor\u001b[39;00m k, v \u001b[39min\u001b[39;00m \u001b[39msorted\u001b[39m(x\u001b[39m.\u001b[39mitems(), key\u001b[39m=\u001b[39m\u001b[39mlambda\u001b[39;00m item: item[\u001b[39m1\u001b[39m], reverse\u001b[39m=\u001b[39m\u001b[39mTrue\u001b[39;00m)}\u001b[39m.\u001b[39mkeys())\n\u001b[1;32m      <a href='vscode-notebook-cell://wsl%2Bubuntu-18.04/mnt/c/Users/ricar/Documents/GitHub/Quantum%20Machine%20Learning/code/mqo/runs/static_ml_solver_final_run.ipynb#ch0000033vscode-remote?line=6'>7</a>\u001b[0m         res\u001b[39m.\u001b[39mappend(x)\n",
      "\u001b[0;31mAttributeError\u001b[0m: 'str' object has no attribute 'copy'"
     ]
    }
   ],
   "source": [
    "real_hardware_distances = []\n",
    "for f in real_counts:\n",
    "        res = []\n",
    "        for r in f:\n",
    "                x = parse_results(r.copy(), max_value=False)\n",
    "                x = list({k: v for k, v in sorted(x.items(), key=lambda item: item[1], reverse=True)}.keys())\n",
    "                res.append(x)\n",
    "        real_hardware_distances.append(score_distance_results(res, y_test))"
   ]
  },
  {
   "cell_type": "code",
   "execution_count": 321,
   "metadata": {},
   "outputs": [
    {
     "data": {
      "text/plain": [
       "[{1: 6, 0: 63, 2: 5, 3: 1},\n",
       " {1: 10, 0: 60, 2: 4, 3: 1},\n",
       " {1: 12, 0: 57, 2: 4, 3: 2},\n",
       " {1: 8, 0: 62, 2: 3, 3: 2},\n",
       " {1: 12, 0: 56, 3: 3, 2: 4},\n",
       " {1: 13, 0: 56, 2: 4, 3: 2},\n",
       " {0: 59, 1: 10, 2: 4, 3: 2},\n",
       " {1: 11, 0: 59, 2: 4, 3: 1},\n",
       " {1: 11, 0: 59, 2: 4, 3: 1},\n",
       " {0: 59, 1: 11, 3: 3, 2: 2},\n",
       " {1: 13, 0: 55, 2: 6, 3: 1},\n",
       " {1: 13, 0: 57, 2: 3, 3: 2},\n",
       " {1: 12, 0: 57, 2: 4, 3: 2}]"
      ]
     },
     "execution_count": 321,
     "metadata": {},
     "output_type": "execute_result"
    }
   ],
   "source": [
    "real_hardware_distances"
   ]
  },
  {
   "cell_type": "code",
   "execution_count": 28,
   "metadata": {},
   "outputs": [
    {
     "name": "stdout",
     "output_type": "stream",
     "text": [
      "path already exists!\n"
     ]
    }
   ],
   "source": [
    "path = 'experiments/final_runs/'\n",
    "savename = 'all_runs_done_accuracies.p'\n",
    "try:\n",
    "    os.makedirs(path)\n",
    "except:\n",
    "    print('path already exists!')"
   ]
  },
  {
   "cell_type": "code",
   "execution_count": null,
   "metadata": {},
   "outputs": [],
   "source": [
    "run_data = {'static_simulator_filtered_accuracy':simulation_accuracies,\n",
    "            'static_simulator_filtered_distances':simulation_distances, \n",
    "            'static_real_hw_filtered_accuracy': real_accuracies, \n",
    "            'static_real_hw_filtered_distances':real_hardware_distances,\n",
    "            'ml_simulator_filtered_accuracy': simulation_ml_accuracies, \n",
    "            'ml_simulator_parity_accuracy': simulation_ml_parity_accuracies,\n",
    "            'ml_simulator_filtered_distances': simulation_ml_filtered_distances, \n",
    "            'ml_simulator_parity_distances': simulation_ml_parity_distances,\n",
    "            'ml_real_hw_filtered_accuracy': real_hardware_accuracies, \n",
    "            'ml_real_hw_parity_accuracy': real_hardware_accuracies_parity,\n",
    "            'ml_real_hw_filtered_distances': real_hardware_ml_filtered_distances, \n",
    "            'ml_real_hw_parity_distances':real_hardware_ml_parity_distances,}"
   ]
  },
  {
   "cell_type": "code",
   "execution_count": null,
   "metadata": {},
   "outputs": [],
   "source": [
    "\n",
    "pickle.dump(run_data, open( path+savename, \"wb\" ) )    "
   ]
  },
  {
   "cell_type": "code",
   "execution_count": 31,
   "metadata": {},
   "outputs": [
    {
     "data": {
      "text/plain": [
       "dict_keys(['ml_simulator_counts', 'ml_real_hw_counts', 'static_simulation_counts', 'static_real_hw_counts'])"
      ]
     },
     "execution_count": 31,
     "metadata": {},
     "output_type": "execute_result"
    }
   ],
   "source": [
    "data_to_save.keys()"
   ]
  },
  {
   "cell_type": "code",
   "execution_count": 29,
   "metadata": {},
   "outputs": [],
   "source": [
    "\n",
    "pickle.dump(data_to_save, open( path+\"counts_of_runs.p\", \"wb\" ) )    "
   ]
  }
 ],
 "metadata": {
  "interpreter": {
   "hash": "50d08dd0d611dadcb9089d5d7c1d9b5812cef9b8fe953ac568fb854525141b9b"
  },
  "kernelspec": {
   "display_name": "Python 3.9.7 ('thesis')",
   "language": "python",
   "name": "python3"
  },
  "language_info": {
   "codemirror_mode": {
    "name": "ipython",
    "version": 3
   },
   "file_extension": ".py",
   "mimetype": "text/x-python",
   "name": "python",
   "nbconvert_exporter": "python",
   "pygments_lexer": "ipython3",
   "version": "3.9.12"
  },
  "orig_nbformat": 4
 },
 "nbformat": 4,
 "nbformat_minor": 2
}
