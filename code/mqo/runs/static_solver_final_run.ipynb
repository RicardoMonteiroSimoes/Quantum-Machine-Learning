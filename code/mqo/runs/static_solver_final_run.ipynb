{
 "cells": [
  {
   "cell_type": "code",
   "execution_count": 1,
   "metadata": {},
   "outputs": [],
   "source": [
    "\n",
    "from sklearn.datasets import load_iris\n",
    "from sklearn.model_selection import train_test_split\n",
    "from sklearn.preprocessing import MinMaxScaler\n",
    "from sklearn.metrics import accuracy_score\n",
    "\n",
    "from qiskit import *\n",
    "from qiskit.circuit import Parameter\n",
    "from qiskit import IBMQ, transpile\n",
    "from qiskit.providers.ibmq.managed import IBMQJobManager\n",
    "\n",
    "import numpy as np\n",
    "\n",
    "import pickle"
   ]
  },
  {
   "cell_type": "code",
   "execution_count": 2,
   "metadata": {},
   "outputs": [],
   "source": [
    "def scale_problems(problems, scale_min=-np.pi/4, scale_max=np.pi/4):\n",
    "    scaled = []\n",
    "    scaler = MinMaxScaler((-np.pi/4, np.pi/4))\n",
    "    for entry in problems:\n",
    "        scaled.append(np.array(scaler.fit_transform(entry.reshape(-1, 1)).flatten()))\n",
    "    return scaled"
   ]
  },
  {
   "cell_type": "code",
   "execution_count": 17,
   "metadata": {},
   "outputs": [],
   "source": [
    "def uncertainity_principle(circuit):\n",
    "    circuit.h(range(circuit.width()))\n",
    "    circuit.barrier()\n",
    "\n",
    "def cost_encoding(circuit):\n",
    "    for i in range(circuit.width()):\n",
    "        circuit.ry(-Parameter('c'+str(i)), i)\n",
    "    circuit.barrier()\n",
    "\n",
    "def same_query_cost(circuit):\n",
    "    for i in range(0,circuit.width(),2):\n",
    "        circuit.crz(-np.pi/4,i,i+1)\n",
    "    circuit.barrier()\n",
    "\n",
    "def savings_encoding(circuit):\n",
    "        for i in range(int(circuit.width()/2)):\n",
    "            circuit.crz(Parameter('s'+str(i)+str(int(circuit.width()/2))), i, int(circuit.width()/2))\n",
    "            circuit.crz(Parameter('s'+str(i)+str(int(1+circuit.width()/2))), i, int(1+circuit.width()/2))\n",
    "        circuit.barrier()\n",
    "\n",
    "def rx_layer(circuit, weight):\n",
    "    circuit.rx(weight, range(circuit.width()))\n",
    "    circuit.barrier()\n",
    "\n",
    "def create_circuit(n_queries=2, n_plans=2, scheme=\"hcsx\", xweight=np.pi/4):\n",
    "    circuit = QuantumCircuit(n_queries*n_plans)\n",
    "    for module in scheme:\n",
    "        if module == \"h\":\n",
    "            uncertainity_principle(circuit)\n",
    "        elif module == \"c\":\n",
    "            cost_encoding(circuit)\n",
    "        elif module == \"s\":\n",
    "            savings_encoding(circuit)\n",
    "        elif module == \"x\":\n",
    "            rx_layer(circuit, xweight)\n",
    "    return circuit"
   ]
  },
  {
   "cell_type": "code",
   "execution_count": 18,
   "metadata": {},
   "outputs": [],
   "source": [
    "def parse_results(result):\n",
    "    remove_useless_keys(result)\n",
    "    for i, key in enumerate([\"0101\", \"1001\", \"0110\", \"1010\"]):\n",
    "        result[i] = result.pop(key, 0)\n",
    "    return max(result, key=result.get)\n",
    "\n",
    "def remove_useless_keys(result):\n",
    "    for key in [\"0000\",\"0001\",\"0010\",\"0100\",\"1000\",\"1101\",\"1011\",\"1100\",\"0011\",\"0111\",\"1110\",\"1111\"]:\n",
    "            if key in result:\n",
    "                del result[key]\n",
    "    for key in [\"0101\", \"1001\", \"0110\", \"1010\"]:\n",
    "        if not key in result:\n",
    "            result[key] = 0"
   ]
  },
  {
   "cell_type": "code",
   "execution_count": 5,
   "metadata": {},
   "outputs": [],
   "source": [
    "def run_circuit(circuit, backend=Aer.get_backend(\"aer_simulator\"), shots=1024):\n",
    "    job = backend.run(transpile(circuit, backend), shots=shots)\n",
    "    res = job.result()\n",
    "    return res.get_counts(qc)"
   ]
  },
  {
   "cell_type": "code",
   "execution_count": 6,
   "metadata": {},
   "outputs": [],
   "source": [
    "def score_results(results, solutions):\n",
    "    return accuracy_score(results, solutions)"
   ]
  },
  {
   "cell_type": "code",
   "execution_count": 7,
   "metadata": {},
   "outputs": [],
   "source": [
    "ibm_backend = 'ibmq_bogota'\n",
    "total_iterations = 13"
   ]
  },
  {
   "cell_type": "code",
   "execution_count": 8,
   "metadata": {},
   "outputs": [],
   "source": [
    "path = \"data/problems_with_solutions.p\"\n",
    "data = pickle.load(open(path, \"rb\"))"
   ]
  },
  {
   "cell_type": "code",
   "execution_count": 9,
   "metadata": {},
   "outputs": [],
   "source": [
    "x_train = scale_problems(data['x_train'])\n",
    "x_test = scale_problems(data['x_test'])\n",
    "y_train = data['y_train']\n",
    "y_test = data['y_test']"
   ]
  },
  {
   "cell_type": "code",
   "execution_count": 19,
   "metadata": {},
   "outputs": [
    {
     "name": "stdout",
     "output_type": "stream",
     "text": [
      "     ┌───┐ ░ ┌─────────────┐ ░                                              ░ »\n",
      "q_0: ┤ H ├─░─┤ Ry(-1.0*c0) ├─░──────■──────────■────────────────────────────░─»\n",
      "     ├───┤ ░ ├─────────────┤ ░      │          │                            ░ »\n",
      "q_1: ┤ H ├─░─┤ Ry(-1.0*c1) ├─░──────┼──────────┼──────────■──────────■──────░─»\n",
      "     ├───┤ ░ ├─────────────┤ ░ ┌────┴────┐     │     ┌────┴────┐     │      ░ »\n",
      "q_2: ┤ H ├─░─┤ Ry(-1.0*c2) ├─░─┤ Rz(s02) ├─────┼─────┤ Rz(s12) ├─────┼──────░─»\n",
      "     ├───┤ ░ ├─────────────┤ ░ └─────────┘┌────┴────┐└─────────┘┌────┴────┐ ░ »\n",
      "q_3: ┤ H ├─░─┤ Ry(-1.0*c3) ├─░────────────┤ Rz(s03) ├───────────┤ Rz(s13) ├─░─»\n",
      "     └───┘ ░ └─────────────┘ ░            └─────────┘           └─────────┘ ░ »\n",
      "«     ┌─────────┐ ░ \n",
      "«q_0: ┤ Rx(π/4) ├─░─\n",
      "«     ├─────────┤ ░ \n",
      "«q_1: ┤ Rx(π/4) ├─░─\n",
      "«     ├─────────┤ ░ \n",
      "«q_2: ┤ Rx(π/4) ├─░─\n",
      "«     ├─────────┤ ░ \n",
      "«q_3: ┤ Rx(π/4) ├─░─\n",
      "«     └─────────┘ ░ \n"
     ]
    }
   ],
   "source": [
    "circuit = create_circuit()\n",
    "print(circuit.draw())"
   ]
  },
  {
   "cell_type": "code",
   "execution_count": 11,
   "metadata": {},
   "outputs": [],
   "source": [
    "#prepare circuits\n",
    "circuits = []\n",
    "for test in x_test:\n",
    "    qc = circuit.copy().bind_parameters(test)\n",
    "    qc.measure_all()\n",
    "    circuits.append(qc)"
   ]
  },
  {
   "cell_type": "code",
   "execution_count": 15,
   "metadata": {},
   "outputs": [
    {
     "name": "stderr",
     "output_type": "stream",
     "text": [
      "/home/ricardo/miniconda3/envs/thesis/lib/python3.9/site-packages/sklearn/metrics/_classification.py:217: FutureWarning: elementwise comparison failed; returning scalar instead, but in the future will perform elementwise comparison\n",
      "  score = y_true == y_pred\n",
      "/home/ricardo/miniconda3/envs/thesis/lib/python3.9/site-packages/sklearn/metrics/_classification.py:217: FutureWarning: elementwise comparison failed; returning scalar instead, but in the future will perform elementwise comparison\n",
      "  score = y_true == y_pred\n",
      "/home/ricardo/miniconda3/envs/thesis/lib/python3.9/site-packages/sklearn/metrics/_classification.py:217: FutureWarning: elementwise comparison failed; returning scalar instead, but in the future will perform elementwise comparison\n",
      "  score = y_true == y_pred\n",
      "/home/ricardo/miniconda3/envs/thesis/lib/python3.9/site-packages/sklearn/metrics/_classification.py:217: FutureWarning: elementwise comparison failed; returning scalar instead, but in the future will perform elementwise comparison\n",
      "  score = y_true == y_pred\n",
      "/home/ricardo/miniconda3/envs/thesis/lib/python3.9/site-packages/sklearn/metrics/_classification.py:217: FutureWarning: elementwise comparison failed; returning scalar instead, but in the future will perform elementwise comparison\n",
      "  score = y_true == y_pred\n",
      "/home/ricardo/miniconda3/envs/thesis/lib/python3.9/site-packages/sklearn/metrics/_classification.py:217: FutureWarning: elementwise comparison failed; returning scalar instead, but in the future will perform elementwise comparison\n",
      "  score = y_true == y_pred\n",
      "/home/ricardo/miniconda3/envs/thesis/lib/python3.9/site-packages/sklearn/metrics/_classification.py:217: FutureWarning: elementwise comparison failed; returning scalar instead, but in the future will perform elementwise comparison\n",
      "  score = y_true == y_pred\n",
      "/home/ricardo/miniconda3/envs/thesis/lib/python3.9/site-packages/sklearn/metrics/_classification.py:217: FutureWarning: elementwise comparison failed; returning scalar instead, but in the future will perform elementwise comparison\n",
      "  score = y_true == y_pred\n",
      "/home/ricardo/miniconda3/envs/thesis/lib/python3.9/site-packages/sklearn/metrics/_classification.py:217: FutureWarning: elementwise comparison failed; returning scalar instead, but in the future will perform elementwise comparison\n",
      "  score = y_true == y_pred\n",
      "/home/ricardo/miniconda3/envs/thesis/lib/python3.9/site-packages/sklearn/metrics/_classification.py:217: FutureWarning: elementwise comparison failed; returning scalar instead, but in the future will perform elementwise comparison\n",
      "  score = y_true == y_pred\n",
      "/home/ricardo/miniconda3/envs/thesis/lib/python3.9/site-packages/sklearn/metrics/_classification.py:217: FutureWarning: elementwise comparison failed; returning scalar instead, but in the future will perform elementwise comparison\n",
      "  score = y_true == y_pred\n",
      "/home/ricardo/miniconda3/envs/thesis/lib/python3.9/site-packages/sklearn/metrics/_classification.py:217: FutureWarning: elementwise comparison failed; returning scalar instead, but in the future will perform elementwise comparison\n",
      "  score = y_true == y_pred\n",
      "/home/ricardo/miniconda3/envs/thesis/lib/python3.9/site-packages/sklearn/metrics/_classification.py:217: FutureWarning: elementwise comparison failed; returning scalar instead, but in the future will perform elementwise comparison\n",
      "  score = y_true == y_pred\n"
     ]
    }
   ],
   "source": [
    "simulation_accuracies = []\n",
    "for i in range(total_iterations):\n",
    "    results = []\n",
    "    for qc in circuits:\n",
    "        counts = run_circuit(qc.copy(), shots=4000)\n",
    "        results.append(parse_results(counts))\n",
    "    simulation_accuracies.append(score_results(results, y_test))"
   ]
  },
  {
   "cell_type": "code",
   "execution_count": 100,
   "metadata": {},
   "outputs": [
    {
     "name": "stderr",
     "output_type": "stream",
     "text": [
      "ibmqfactory.load_account:WARNING:2022-05-11 20:38:35,487: Credentials are already in use. The existing account in the session will be replaced.\n"
     ]
    }
   ],
   "source": [
    "provider = IBMQ.load_account()\n",
    "backend = provider.get_backend(ibm_backend)"
   ]
  },
  {
   "cell_type": "code",
   "execution_count": 51,
   "metadata": {},
   "outputs": [],
   "source": [
    "transpiled_circuits = []\n",
    "for qc in circuits:\n",
    "    transpiled_circuits.append(transpile(qc, backend=backend))"
   ]
  },
  {
   "cell_type": "code",
   "execution_count": 52,
   "metadata": {},
   "outputs": [],
   "source": [
    "job_manager = IBMQJobManager()"
   ]
  },
  {
   "cell_type": "code",
   "execution_count": 61,
   "metadata": {},
   "outputs": [],
   "source": [
    "real_accuracies = []"
   ]
  },
  {
   "cell_type": "code",
   "execution_count": 135,
   "metadata": {},
   "outputs": [
    {
     "name": "stdout",
     "output_type": "stream",
     "text": [
      "Iteration 1\n",
      "Iteration 2\n",
      "Iteration 3\n",
      "Iteration 4\n",
      "Iteration 5\n",
      "Iteration 6\n",
      "Iteration 7\n",
      "Iteration 8\n",
      "Iteration 9\n",
      "Iteration 10\n",
      "Iteration 11\n",
      "Iteration 12\n",
      "Iteration 13\n"
     ]
    }
   ],
   "source": [
    "for i in range(total_iterations):\n",
    "    print('Iteration ' + str(i+1))\n",
    "    job_set_static = job_manager.run(transpiled_circuits, backend=backend, name='Static MQO Solver Iteration ' + str(i))\n",
    "    real_results = job_set_static.results()\n",
    "    res_temp = []\n",
    "    for j in range(len(transpiled_circuits)):\n",
    "        res_temp.append(parse_results(real_results.get_counts(j)))\n",
    "    real_accuracies.append(score_results(res_temp, y_test))"
   ]
  },
  {
   "cell_type": "code",
   "execution_count": 20,
   "metadata": {},
   "outputs": [
    {
     "name": "stdout",
     "output_type": "stream",
     "text": [
      "path already exists!\n"
     ]
    }
   ],
   "source": [
    "path = 'experiments/final_runs/'\n",
    "savename = 'static_solver.p'\n",
    "try:\n",
    "    os.makedirs(path)\n",
    "except:\n",
    "    print('path already exists!')"
   ]
  },
  {
   "cell_type": "code",
   "execution_count": null,
   "metadata": {},
   "outputs": [],
   "source": [
    "\n",
    "provider = IBMQ.load_account()\n",
    "backend = provider.get_backend(ibm_backend)\n",
    "job_manager = IBMQJobManager()"
   ]
  },
  {
   "cell_type": "code",
   "execution_count": 69,
   "metadata": {},
   "outputs": [],
   "source": [
    "ids =  ['627c0b7b2a75604410d0c09f', '627c0cd02a75608132d0c0ac', '627c0d702a75607a52d0c0b3', \n",
    "        '627c0e92530a86ddd9b2265f', '627c0fbf1cd6f5917e461656', '627c10e0b723351af8d95107', \n",
    "        '627c1179646e0502b09854f7', '627c1298ea4719ad7fd5cdce', '627c13ba21decb04d88656f6', \n",
    "        '627c14dd1cd6f54c3d461683', '627c161317f5c8069c1a1e27', '627c40ca17f5c8ae621a1f0d',\n",
    "        '627c41497e6d3a64f8e549a7']\n",
    "real_results = []\n",
    "for id in ids:\n",
    "        real_results.append(backend.retrieve_job(id).result().get_counts())\n",
    "        "
   ]
  },
  {
   "cell_type": "code",
   "execution_count": 74,
   "metadata": {},
   "outputs": [],
   "source": [
    "real_accuracies = []\n",
    "for i, job in enumerate(real_results):\n",
    "    res_temp = []\n",
    "    for result in job:\n",
    "        res_temp.append(parse_results(result))\n",
    "    real_accuracies.append(score_results(res_temp, y_test))\n",
    "    "
   ]
  },
  {
   "cell_type": "code",
   "execution_count": 76,
   "metadata": {},
   "outputs": [
    {
     "data": {
      "text/plain": [
       "[0.8666666666666667,\n",
       " 0.8666666666666667,\n",
       " 0.8533333333333334,\n",
       " 0.8666666666666667,\n",
       " 0.8666666666666667,\n",
       " 0.8666666666666667,\n",
       " 0.8933333333333333,\n",
       " 0.88,\n",
       " 0.8933333333333333,\n",
       " 0.8933333333333333,\n",
       " 0.8666666666666667,\n",
       " 0.8933333333333333,\n",
       " 0.84]"
      ]
     },
     "execution_count": 76,
     "metadata": {},
     "output_type": "execute_result"
    }
   ],
   "source": [
    "simulation_accuracies"
   ]
  },
  {
   "cell_type": "code",
   "execution_count": 77,
   "metadata": {},
   "outputs": [],
   "source": [
    "run_data = {'accuracy_simulator':simulation_accuracies, 'accuracy_real_hardware': real_accuracies}"
   ]
  },
  {
   "cell_type": "code",
   "execution_count": 23,
   "metadata": {},
   "outputs": [],
   "source": [
    "\n",
    "pickle.dump(run_data, open( path+savename, \"wb\" ) )    "
   ]
  }
 ],
 "metadata": {
  "interpreter": {
   "hash": "50d08dd0d611dadcb9089d5d7c1d9b5812cef9b8fe953ac568fb854525141b9b"
  },
  "kernelspec": {
   "display_name": "Python 3.9.7 ('thesis')",
   "language": "python",
   "name": "python3"
  },
  "language_info": {
   "codemirror_mode": {
    "name": "ipython",
    "version": 3
   },
   "file_extension": ".py",
   "mimetype": "text/x-python",
   "name": "python",
   "nbconvert_exporter": "python",
   "pygments_lexer": "ipython3",
   "version": "3.9.12"
  },
  "orig_nbformat": 4
 },
 "nbformat": 4,
 "nbformat_minor": 2
}
