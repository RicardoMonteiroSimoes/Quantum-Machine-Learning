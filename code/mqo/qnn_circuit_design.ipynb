{
 "cells": [
  {
   "cell_type": "markdown",
   "metadata": {},
   "source": [
    "## Imports"
   ]
  },
  {
   "cell_type": "code",
   "execution_count": 20,
   "metadata": {},
   "outputs": [],
   "source": [
    "from qiskit import *\n",
    "from qiskit.circuit import Parameter\n",
    "from qiskit.visualization import plot_histogram\n",
    "from qiskit.providers.aer import QasmSimulator\n",
    "import qiskit.quantum_info as qi\n",
    "from qiskit.visualization import plot_bloch_vector\n",
    "\n",
    "import numpy as np\n",
    "import math\n",
    "import random\n",
    "\n",
    "from sklearn.preprocessing import MinMaxScaler"
   ]
  },
  {
   "cell_type": "markdown",
   "metadata": {},
   "source": [
    "## Dataset generation"
   ]
  },
  {
   "cell_type": "code",
   "execution_count": 9,
   "metadata": {},
   "outputs": [],
   "source": [
    "def create_savings(nr_of_queries, nr_of_plans):\n",
    "    savings = {}\n",
    "    nr_of_plans_each = int(nr_of_plans / nr_of_queries)\n",
    "    for j in range(nr_of_plans):\n",
    "        current_query = math.floor(j / nr_of_plans_each)\n",
    "        first_plan_next_query = (current_query + 1) * nr_of_plans_each\n",
    "        for i in range(first_plan_next_query, nr_of_plans):\n",
    "            savings[j, i] = random.randint(-20, 0)\n",
    "\n",
    "    return savings"
   ]
  },
  {
   "cell_type": "code",
   "execution_count": 11,
   "metadata": {},
   "outputs": [],
   "source": [
    "n_problems = 150\n",
    "problems = []\n",
    "\n",
    "n_qubits = 4\n",
    "n_plans = 2\n",
    "n_queries = int(n_qubits/n_plans)\n",
    "\n",
    "cost_min = 0\n",
    "cost_max = 50\n",
    "\n",
    "\n",
    "for i in range(n_problems):\n",
    "    problems.append((n_queries, np.random.randint(cost_min, cost_max, n_qubits), create_savings(n_queries, n_qubits)))"
   ]
  },
  {
   "cell_type": "code",
   "execution_count": 14,
   "metadata": {},
   "outputs": [
    {
     "data": {
      "text/plain": [
       "[(2,\n",
       "  array([ 1, 40, 37, 25]),\n",
       "  {(0, 2): -11, (0, 3): -9, (1, 2): -7, (1, 3): -3}),\n",
       " (2,\n",
       "  array([ 3,  9, 29, 46]),\n",
       "  {(0, 2): -5, (0, 3): -2, (1, 2): -9, (1, 3): -7}),\n",
       " (2,\n",
       "  array([14, 16, 18, 42]),\n",
       "  {(0, 2): -14, (0, 3): -10, (1, 2): -3, (1, 3): -4}),\n",
       " (2,\n",
       "  array([44, 21,  0, 36]),\n",
       "  {(0, 2): -3, (0, 3): -14, (1, 2): -5, (1, 3): -4}),\n",
       " (2,\n",
       "  array([ 6, 36, 27, 23]),\n",
       "  {(0, 2): -12, (0, 3): -2, (1, 2): -9, (1, 3): 0})]"
      ]
     },
     "execution_count": 14,
     "metadata": {},
     "output_type": "execute_result"
    }
   ],
   "source": [
    "problems[0:5]"
   ]
  },
  {
   "cell_type": "markdown",
   "metadata": {},
   "source": [
    "## Circuit design for ML approach"
   ]
  },
  {
   "cell_type": "markdown",
   "metadata": {},
   "source": [
    "Generate a scaler that calculates down the cost to a range of $\\left[-\\frac{\\pi}{2},-\\frac{\\pi}{2}\\right]$"
   ]
  },
  {
   "cell_type": "code",
   "execution_count": 21,
   "metadata": {},
   "outputs": [],
   "source": [
    "def fit_scaler(features):\n",
    "    scaler = MinMaxScaler((-np.pi/2,np.pi))\n",
    "    scaler.fit(features)\n",
    "    return scaler"
   ]
  },
  {
   "cell_type": "markdown",
   "metadata": {},
   "source": [
    "As we do not know which combination of the plans leads to the optimal result, all plans have an equal probability of being taken. Therefor, we set all qubits to the state $|+\\rangle$, which corresponds to $\\frac{1}{\\sqrt{2}}|0\\rangle + \\frac{1}{\\sqrt{2}}|1\\rangle$"
   ]
  },
  {
   "cell_type": "code",
   "execution_count": 18,
   "metadata": {},
   "outputs": [],
   "source": [
    "def probability_principle(circuit):\n",
    "    circuit.h(range(circuit.width()))\n",
    "    circuit.barrier()"
   ]
  },
  {
   "cell_type": "code",
   "execution_count": 16,
   "metadata": {},
   "outputs": [],
   "source": [
    "def plan_costs(costs, circuit):\n",
    "    for i, cost in enumerate(costs):\n",
    "        circuit.ry(i, cost)"
   ]
  },
  {
   "cell_type": "code",
   "execution_count": 19,
   "metadata": {},
   "outputs": [
    {
     "data": {
      "image/png": "[encoded data removed]",
      "text/plain": [
       "<Figure size 206.997x264.88 with 1 Axes>"
      ]
     },
     "execution_count": 19,
     "metadata": {},
     "output_type": "execute_result"
    }
   ],
   "source": [
    "circuit = QuantumCircuit(n_qubits)\n",
    "probability_principle(circuit)\n",
    "circuit.draw('mpl')"
   ]
  },
  {
   "cell_type": "code",
   "execution_count": null,
   "metadata": {},
   "outputs": [],
   "source": []
  }
 ],
 "metadata": {
  "interpreter": {
   "hash": "50d08dd0d611dadcb9089d5d7c1d9b5812cef9b8fe953ac568fb854525141b9b"
  },
  "kernelspec": {
   "display_name": "Python 3.9.7 ('thesis')",
   "language": "python",
   "name": "python3"
  },
  "language_info": {
   "codemirror_mode": {
    "name": "ipython",
    "version": 3
   },
   "file_extension": ".py",
   "mimetype": "text/x-python",
   "name": "python",
   "nbconvert_exporter": "python",
   "pygments_lexer": "ipython3",
   "version": "3.9.7"
  },
  "orig_nbformat": 4
 },
 "nbformat": 4,
 "nbformat_minor": 2
}
