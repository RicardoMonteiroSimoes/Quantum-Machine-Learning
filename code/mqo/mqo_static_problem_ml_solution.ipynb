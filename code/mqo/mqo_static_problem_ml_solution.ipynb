{
 "cells": [
  {
   "cell_type": "markdown",
   "metadata": {},
   "source": [
    "## Solving MQO Problems with a static solutions"
   ]
  },
  {
   "cell_type": "markdown",
   "metadata": {},
   "source": [
    "Functionality needed to create problems and solutions"
   ]
  },
  {
   "cell_type": "code",
   "execution_count": 3,
   "metadata": {},
   "outputs": [],
   "source": [
    "from qiskit import *\n",
    "from qiskit import Aer\n",
    "from qiskit.circuit import Parameter\n",
    "from qiskit.visualization import plot_histogram\n",
    "from qiskit.providers.aer import QasmSimulator\n",
    "\n",
    "import numpy as np\n",
    "import math\n",
    "import random\n",
    "import csv\n",
    "import matplotlib.pyplot as plt\n",
    "\n",
    "from IPython.display import clear_output\n",
    "\n",
    "from sklearn.preprocessing import MinMaxScaler\n",
    "from sklearn.metrics import accuracy_score"
   ]
  },
  {
   "cell_type": "code",
   "execution_count": 4,
   "metadata": {},
   "outputs": [],
   "source": [
    "def create_savings(n_queries, n_plans, savings_min=-20, savings_max=0):\n",
    "    savings = {}\n",
    "    for j in range(n_plans*n_queries):\n",
    "        current_query = math.floor(j / n_plans)\n",
    "        first_plan_next_query = (current_query + 1) * n_plans\n",
    "        for i in range(first_plan_next_query, n_queries*n_plans):\n",
    "            savings[j, i] = random.randint(savings_min, savings_max)\n",
    "    return savings\n",
    "\n",
    "def generate_problems(n_queries, n_plans, size, cost_min=0, cost_max=50):\n",
    "    problems = []\n",
    "    for i in range(size):\n",
    "        problems.append((n_queries, np.random.randint(cost_min, cost_max, int(n_queries*n_plans)), create_savings(n_queries, n_plans)))\n",
    "    return problems\n",
    "\n",
    "def extract_values(dataset):\n",
    "    values = []\n",
    "    for row in dataset:\n",
    "        values.append(\n",
    "            np.concatenate((row[1].tolist(),list(row[2].values())))\n",
    "            )\n",
    "    return np.array(values)\n",
    "\n",
    "def scale_problems(problems, scale_min=-np.pi/4, scale_max=np.pi/4):\n",
    "    scaled_problems = []\n",
    "    scaler = MinMaxScaler((scale_min, scale_max))\n",
    "    for problem in problems:\n",
    "        scaled_problems.append(scaler.fit_transform(problem.reshape(-1,1)))\n",
    "    return scaled_problems\n",
    "\n",
    "def create_solution_set(problems):\n",
    "    y = []\n",
    "    y_complete = []\n",
    "    for problem in problems:\n",
    "        #### calculate totally cheapest option\n",
    "        t_cost = []\n",
    "        t_cost.append([problem[0]+problem[2]+problem[4], problem[0]+problem[3]+problem[5]])\n",
    "        t_cost.append([problem[1]+problem[2]+problem[6], problem[1]+problem[3]+problem[7]])\n",
    "        y.append(np.array(t_cost).argmin())\n",
    "        #### calculate sorted ranking of cost\n",
    "        t_total = {}\n",
    "        t_total[0] = problem[0]+problem[2]+problem[4]\n",
    "        t_total[1] = problem[0]+problem[3]+problem[5]\n",
    "        t_total[2] = problem[1]+problem[2]+problem[6]\n",
    "        t_total[3] = problem[1]+problem[3]+problem[7]\n",
    "        y_complete.append(t_total)\n",
    "    return y, y_complete"
   ]
  },
  {
   "cell_type": "code",
   "execution_count": 5,
   "metadata": {},
   "outputs": [],
   "source": [
    "#### Circuit based functions \n",
    "def uncertainity_principle(circuit):\n",
    "    circuit.h(range(circuit.width()))\n",
    "    circuit.barrier()\n",
    "\n",
    "def cost_encoding(circuit):\n",
    "    for i in range(circuit.width()):\n",
    "        circuit.ry(-Parameter('c'+str(i)), i)\n",
    "    circuit.barrier()\n",
    "\n",
    "def same_query_cost(circuit):\n",
    "    for i in range(0,circuit.width(),2):\n",
    "        circuit.crz(-np.pi/4,i,i+1)\n",
    "    circuit.barrier()\n",
    "\n",
    "def savings_encoding(circuit):\n",
    "        for i in range(int(circuit.width()/2)):\n",
    "            circuit.crz(Parameter('s'+str(i)+str(int(circuit.width()/2))), i, int(circuit.width()/2))\n",
    "            circuit.crz(Parameter('s'+str(i)+str(int(1+circuit.width()/2))), i, int(1+circuit.width()/2))\n",
    "        circuit.barrier()\n",
    "\n",
    "def rx_layer(circuit, weight):\n",
    "    if len(weight) == 1:\n",
    "        circuit.rx(weight[0], range(circuit.width()))\n",
    "    else:\n",
    "        for i, w in enumerate(weight):\n",
    "            circuit.rx(w, i)\n",
    "    circuit.barrier()\n",
    "\n",
    "def create_circuit(n_queries, n_plans, scheme, xweight=np.pi/4):\n",
    "    circuit = QuantumCircuit(n_queries*n_plans)\n",
    "    for module in scheme:\n",
    "        if module == \"h\":\n",
    "            uncertainity_principle(circuit)\n",
    "        elif module == \"c\":\n",
    "            cost_encoding(circuit)\n",
    "        elif module == \"s\":\n",
    "            savings_encoding(circuit)\n",
    "        elif module == \"x\":\n",
    "            rx_layer(circuit, [Parameter('w0')])\n",
    "    return circuit"
   ]
  },
  {
   "cell_type": "code",
   "execution_count": 6,
   "metadata": {},
   "outputs": [
    {
     "name": "stdout",
     "output_type": "stream",
     "text": [
      "     ┌─────────────┐ ░                                              ░ »\n",
      "q_0: ┤ Ry(-1.0*c0) ├─░──────■──────────■────────────────────────────░─»\n",
      "     ├─────────────┤ ░      │          │                            ░ »\n",
      "q_1: ┤ Ry(-1.0*c1) ├─░──────┼──────────┼──────────■──────────■──────░─»\n",
      "     ├─────────────┤ ░ ┌────┴────┐     │     ┌────┴────┐     │      ░ »\n",
      "q_2: ┤ Ry(-1.0*c2) ├─░─┤ Rz(s02) ├─────┼─────┤ Rz(s12) ├─────┼──────░─»\n",
      "     ├─────────────┤ ░ └─────────┘┌────┴────┐└─────────┘┌────┴────┐ ░ »\n",
      "q_3: ┤ Ry(-1.0*c3) ├─░────────────┤ Rz(s03) ├───────────┤ Rz(s13) ├─░─»\n",
      "     └─────────────┘ ░            └─────────┘           └─────────┘ ░ »\n",
      "«     ┌────────┐ ░ \n",
      "«q_0: ┤ Rx(w0) ├─░─\n",
      "«     ├────────┤ ░ \n",
      "«q_1: ┤ Rx(w0) ├─░─\n",
      "«     ├────────┤ ░ \n",
      "«q_2: ┤ Rx(w0) ├─░─\n",
      "«     ├────────┤ ░ \n",
      "«q_3: ┤ Rx(w0) ├─░─\n",
      "«     └────────┘ ░ \n"
     ]
    }
   ],
   "source": [
    "problems = generate_problems(2, 2, 1000)\n",
    "problems_values = extract_values(problems)\n",
    "problems_scaled = scale_problems(problems_values)\n",
    "solution, complete_solution = create_solution_set(problems_scaled)\n",
    "circuit = create_circuit(2, 2, 'csx')\n",
    "print(circuit)"
   ]
  },
  {
   "cell_type": "code",
   "execution_count": 7,
   "metadata": {},
   "outputs": [
    {
     "data": {
      "text/plain": [
       "[Parameter(w0)]"
      ]
     },
     "execution_count": 7,
     "metadata": {},
     "output_type": "execute_result"
    }
   ],
   "source": [
    "circuit.parameters[8:]"
   ]
  },
  {
   "cell_type": "markdown",
   "metadata": {},
   "source": [
    "### ML Part"
   ]
  },
  {
   "cell_type": "code",
   "execution_count": 8,
   "metadata": {},
   "outputs": [],
   "source": [
    "from qiskit_machine_learning.neural_networks import TwoLayerQNN, CircuitQNN\n",
    "from qiskit_machine_learning.algorithms.classifiers import NeuralNetworkClassifier, VQC\n",
    "from qiskit_machine_learning.algorithms.regressors import NeuralNetworkRegressor, VQR\n",
    "from qiskit.utils import QuantumInstance\n",
    "from qiskit.algorithms.optimizers import *\n",
    "from sklearn.datasets import load_iris\n",
    "from sklearn.model_selection import train_test_split\n",
    "from sklearn.model_selection import GridSearchCV"
   ]
  },
  {
   "cell_type": "code",
   "execution_count": 9,
   "metadata": {},
   "outputs": [],
   "source": [
    "#set up gpu\n",
    "n_shots = 5000\n",
    "\n",
    "simulator = Aer.get_backend('qasm_simulator')\n",
    "quantum_instance = QuantumInstance(simulator, shots=n_shots)"
   ]
  },
  {
   "cell_type": "code",
   "execution_count": 10,
   "metadata": {},
   "outputs": [],
   "source": [
    "output_shape = 4\n",
    "def parity(x):\n",
    "    return x % 4"
   ]
  },
  {
   "cell_type": "code",
   "execution_count": 11,
   "metadata": {},
   "outputs": [],
   "source": [
    "\n",
    "def callback_graph(weights, obj_func_eval):\n",
    "    clear_output(wait=True)\n",
    "    objective_func_vals.append(obj_func_eval)\n",
    "    plt.title(\"Objective function value against iteration\")\n",
    "    plt.xlabel(\"Iteration\")\n",
    "    plt.ylabel(\"Objective function value\")\n",
    "    plt.plot(range(len(objective_func_vals)), objective_func_vals)\n",
    "    plt.show()\n",
    "    model_weights.append(weights)"
   ]
  },
  {
   "cell_type": "code",
   "execution_count": 12,
   "metadata": {},
   "outputs": [],
   "source": [
    "def fit_and_score(circuit_classifier, features, targets, random_state = 69069):\n",
    "    X_train, X_test, y_train, y_test = train_test_split(features, targets, test_size=1-3/4, random_state=random_state)\n",
    "    # fit classifier to data\n",
    "    X_train = np.array(X_train)\n",
    "    X_test = np.array(X_test)\n",
    "    y_train = np.array(y_train)\n",
    "    y_test = np.array(y_test)\n",
    "    plt.rcParams[\"figure.figsize\"] = (12, 6)\n",
    "    circuit_classifier.fit(X_train, y_train)\n",
    "    # return to default figsize\n",
    "    plt.rcParams[\"figure.figsize\"] = (6, 4)\n",
    "    score_train =  circuit_classifier.score(X_train, y_train)\n",
    "    score_test =  circuit_classifier.score(X_test, y_test)\n",
    "    print(\"Mean Accuracy training: \" + str(score_train))\n",
    "    print(\"Mean Accuracy testing: \" + str(score_test))\n",
    "    return score_train, score_test\n",
    "\n",
    "def get_classifier(circuit, optimizer):\n",
    "    circuit_qnn = CircuitQNN(circuit=circuit,    \n",
    "                         input_params=circuit.parameters[0:8],\n",
    "                         weight_params=circuit.parameters[8:],\n",
    "                         interpret=parity,\n",
    "                         output_shape=output_shape,\n",
    "                         quantum_instance=quantum_instance)\n",
    "\n",
    "    # construct classifier\n",
    "    return NeuralNetworkClassifier(neural_network=circuit_qnn,                                             \n",
    "                                                optimizer=optimizer,\n",
    "                                                initial_point=[np.pi/4],\n",
    "                                                callback=callback_graph)"
   ]
  },
  {
   "cell_type": "code",
   "execution_count": 13,
   "metadata": {},
   "outputs": [],
   "source": [
    "problems_reorg = []\n",
    "for a in problems_scaled:\n",
    "    temp = []\n",
    "    for b in a:\n",
    "        temp.append(b[0])\n",
    "    problems_reorg.append(temp)"
   ]
  },
  {
   "cell_type": "code",
   "execution_count": 14,
   "metadata": {},
   "outputs": [
    {
     "data": {
      "image/png": "[encoded data removed]",
      "text/plain": [
       "<Figure size 864x432 with 1 Axes>"
      ]
     },
     "metadata": {
      "needs_background": "light"
     },
     "output_type": "display_data"
    },
    {
     "ename": "KeyboardInterrupt",
     "evalue": "",
     "output_type": "error",
     "traceback": [
      "\u001b[0;31m---------------------------------------------------------------------------\u001b[0m",
      "\u001b[0;31mKeyboardInterrupt\u001b[0m                         Traceback (most recent call last)",
      "\u001b[1;32m/mnt/c/Users/ricar/Documents/GitHub/Quantum Machine Learning/code/mqo/mqo_static_problem_ml_solution.ipynb Cell 15'\u001b[0m in \u001b[0;36m<module>\u001b[0;34m\u001b[0m\n\u001b[1;32m     <a href='vscode-notebook-cell://wsl%2Bubuntu-18.04/mnt/c/Users/ricar/Documents/GitHub/Quantum%20Machine%20Learning/code/mqo/mqo_static_problem_ml_solution.ipynb#ch0000014vscode-remote?line=11'>12</a>\u001b[0m objective_func_vals \u001b[39m=\u001b[39m []\n\u001b[1;32m     <a href='vscode-notebook-cell://wsl%2Bubuntu-18.04/mnt/c/Users/ricar/Documents/GitHub/Quantum%20Machine%20Learning/code/mqo/mqo_static_problem_ml_solution.ipynb#ch0000014vscode-remote?line=12'>13</a>\u001b[0m classifier \u001b[39m=\u001b[39m get_classifier(circuit\u001b[39m.\u001b[39mcopy(), optimizer\u001b[39m=\u001b[39moptimizer)\n\u001b[0;32m---> <a href='vscode-notebook-cell://wsl%2Bubuntu-18.04/mnt/c/Users/ricar/Documents/GitHub/Quantum%20Machine%20Learning/code/mqo/mqo_static_problem_ml_solution.ipynb#ch0000014vscode-remote?line=13'>14</a>\u001b[0m score_train, score_test \u001b[39m=\u001b[39m fit_and_score(classifier, problems_reorg, solution)\n\u001b[1;32m     <a href='vscode-notebook-cell://wsl%2Bubuntu-18.04/mnt/c/Users/ricar/Documents/GitHub/Quantum%20Machine%20Learning/code/mqo/mqo_static_problem_ml_solution.ipynb#ch0000014vscode-remote?line=14'>15</a>\u001b[0m training_data\u001b[39m.\u001b[39mappend(score_train)\n\u001b[1;32m     <a href='vscode-notebook-cell://wsl%2Bubuntu-18.04/mnt/c/Users/ricar/Documents/GitHub/Quantum%20Machine%20Learning/code/mqo/mqo_static_problem_ml_solution.ipynb#ch0000014vscode-remote?line=15'>16</a>\u001b[0m testing_data\u001b[39m.\u001b[39mappend(score_test)\n",
      "\u001b[1;32m/mnt/c/Users/ricar/Documents/GitHub/Quantum Machine Learning/code/mqo/mqo_static_problem_ml_solution.ipynb Cell 13'\u001b[0m in \u001b[0;36mfit_and_score\u001b[0;34m(circuit_classifier, features, targets, random_state)\u001b[0m\n\u001b[1;32m      <a href='vscode-notebook-cell://wsl%2Bubuntu-18.04/mnt/c/Users/ricar/Documents/GitHub/Quantum%20Machine%20Learning/code/mqo/mqo_static_problem_ml_solution.ipynb#ch0000012vscode-remote?line=6'>7</a>\u001b[0m y_test \u001b[39m=\u001b[39m np\u001b[39m.\u001b[39marray(y_test)\n\u001b[1;32m      <a href='vscode-notebook-cell://wsl%2Bubuntu-18.04/mnt/c/Users/ricar/Documents/GitHub/Quantum%20Machine%20Learning/code/mqo/mqo_static_problem_ml_solution.ipynb#ch0000012vscode-remote?line=7'>8</a>\u001b[0m plt\u001b[39m.\u001b[39mrcParams[\u001b[39m\"\u001b[39m\u001b[39mfigure.figsize\u001b[39m\u001b[39m\"\u001b[39m] \u001b[39m=\u001b[39m (\u001b[39m12\u001b[39m, \u001b[39m6\u001b[39m)\n\u001b[0;32m----> <a href='vscode-notebook-cell://wsl%2Bubuntu-18.04/mnt/c/Users/ricar/Documents/GitHub/Quantum%20Machine%20Learning/code/mqo/mqo_static_problem_ml_solution.ipynb#ch0000012vscode-remote?line=8'>9</a>\u001b[0m circuit_classifier\u001b[39m.\u001b[39;49mfit(X_train, y_train)\n\u001b[1;32m     <a href='vscode-notebook-cell://wsl%2Bubuntu-18.04/mnt/c/Users/ricar/Documents/GitHub/Quantum%20Machine%20Learning/code/mqo/mqo_static_problem_ml_solution.ipynb#ch0000012vscode-remote?line=9'>10</a>\u001b[0m \u001b[39m# return to default figsize\u001b[39;00m\n\u001b[1;32m     <a href='vscode-notebook-cell://wsl%2Bubuntu-18.04/mnt/c/Users/ricar/Documents/GitHub/Quantum%20Machine%20Learning/code/mqo/mqo_static_problem_ml_solution.ipynb#ch0000012vscode-remote?line=10'>11</a>\u001b[0m plt\u001b[39m.\u001b[39mrcParams[\u001b[39m\"\u001b[39m\u001b[39mfigure.figsize\u001b[39m\u001b[39m\"\u001b[39m] \u001b[39m=\u001b[39m (\u001b[39m6\u001b[39m, \u001b[39m4\u001b[39m)\n",
      "File \u001b[0;32m~/miniconda3/envs/thesis/lib/python3.9/site-packages/qiskit_machine_learning/algorithms/classifiers/neural_network_classifier.py:107\u001b[0m, in \u001b[0;36mNeuralNetworkClassifier.fit\u001b[0;34m(self, X, y)\u001b[0m\n\u001b[1;32m    <a href='file:///home/ricardo/miniconda3/envs/thesis/lib/python3.9/site-packages/qiskit_machine_learning/algorithms/classifiers/neural_network_classifier.py?line=102'>103</a>\u001b[0m         function \u001b[39m=\u001b[39m MultiClassObjectiveFunction(X, y, \u001b[39mself\u001b[39m\u001b[39m.\u001b[39m_neural_network, \u001b[39mself\u001b[39m\u001b[39m.\u001b[39m_loss)\n\u001b[1;32m    <a href='file:///home/ricardo/miniconda3/envs/thesis/lib/python3.9/site-packages/qiskit_machine_learning/algorithms/classifiers/neural_network_classifier.py?line=104'>105</a>\u001b[0m objective \u001b[39m=\u001b[39m \u001b[39mself\u001b[39m\u001b[39m.\u001b[39m_get_objective(function)\n\u001b[0;32m--> <a href='file:///home/ricardo/miniconda3/envs/thesis/lib/python3.9/site-packages/qiskit_machine_learning/algorithms/classifiers/neural_network_classifier.py?line=106'>107</a>\u001b[0m \u001b[39mself\u001b[39m\u001b[39m.\u001b[39m_fit_result \u001b[39m=\u001b[39m \u001b[39mself\u001b[39;49m\u001b[39m.\u001b[39;49m_optimizer\u001b[39m.\u001b[39;49mminimize(\n\u001b[1;32m    <a href='file:///home/ricardo/miniconda3/envs/thesis/lib/python3.9/site-packages/qiskit_machine_learning/algorithms/classifiers/neural_network_classifier.py?line=107'>108</a>\u001b[0m     fun\u001b[39m=\u001b[39;49mobjective,\n\u001b[1;32m    <a href='file:///home/ricardo/miniconda3/envs/thesis/lib/python3.9/site-packages/qiskit_machine_learning/algorithms/classifiers/neural_network_classifier.py?line=108'>109</a>\u001b[0m     x0\u001b[39m=\u001b[39;49m\u001b[39mself\u001b[39;49m\u001b[39m.\u001b[39;49m_choose_initial_point(),\n\u001b[1;32m    <a href='file:///home/ricardo/miniconda3/envs/thesis/lib/python3.9/site-packages/qiskit_machine_learning/algorithms/classifiers/neural_network_classifier.py?line=109'>110</a>\u001b[0m     jac\u001b[39m=\u001b[39;49mfunction\u001b[39m.\u001b[39;49mgradient,\n\u001b[1;32m    <a href='file:///home/ricardo/miniconda3/envs/thesis/lib/python3.9/site-packages/qiskit_machine_learning/algorithms/classifiers/neural_network_classifier.py?line=110'>111</a>\u001b[0m )\n\u001b[1;32m    <a href='file:///home/ricardo/miniconda3/envs/thesis/lib/python3.9/site-packages/qiskit_machine_learning/algorithms/classifiers/neural_network_classifier.py?line=111'>112</a>\u001b[0m \u001b[39mreturn\u001b[39;00m \u001b[39mself\u001b[39m\n",
      "File \u001b[0;32m~/miniconda3/envs/thesis/lib/python3.9/site-packages/qiskit/algorithms/optimizers/p_bfgs.py:192\u001b[0m, in \u001b[0;36mP_BFGS.minimize\u001b[0;34m(self, fun, x0, jac, bounds)\u001b[0m\n\u001b[1;32m    <a href='file:///home/ricardo/miniconda3/envs/thesis/lib/python3.9/site-packages/qiskit/algorithms/optimizers/p_bfgs.py?line=186'>187</a>\u001b[0m sol, opt, nfev \u001b[39m=\u001b[39m \u001b[39mself\u001b[39m\u001b[39m.\u001b[39m_optimize(fun, x0, jac, bounds)\n\u001b[1;32m    <a href='file:///home/ricardo/miniconda3/envs/thesis/lib/python3.9/site-packages/qiskit/algorithms/optimizers/p_bfgs.py?line=188'>189</a>\u001b[0m \u001b[39mfor\u001b[39;00m proc \u001b[39min\u001b[39;00m processes:\n\u001b[1;32m    <a href='file:///home/ricardo/miniconda3/envs/thesis/lib/python3.9/site-packages/qiskit/algorithms/optimizers/p_bfgs.py?line=189'>190</a>\u001b[0m     \u001b[39m# For each other process we wait now for it to finish and see if it has\u001b[39;00m\n\u001b[1;32m    <a href='file:///home/ricardo/miniconda3/envs/thesis/lib/python3.9/site-packages/qiskit/algorithms/optimizers/p_bfgs.py?line=190'>191</a>\u001b[0m     \u001b[39m# a better result than above\u001b[39;00m\n\u001b[0;32m--> <a href='file:///home/ricardo/miniconda3/envs/thesis/lib/python3.9/site-packages/qiskit/algorithms/optimizers/p_bfgs.py?line=191'>192</a>\u001b[0m     proc\u001b[39m.\u001b[39;49mjoin()\n\u001b[1;32m    <a href='file:///home/ricardo/miniconda3/envs/thesis/lib/python3.9/site-packages/qiskit/algorithms/optimizers/p_bfgs.py?line=192'>193</a>\u001b[0m     p_sol, p_opt, p_nfev \u001b[39m=\u001b[39m queue\u001b[39m.\u001b[39mget()\n\u001b[1;32m    <a href='file:///home/ricardo/miniconda3/envs/thesis/lib/python3.9/site-packages/qiskit/algorithms/optimizers/p_bfgs.py?line=193'>194</a>\u001b[0m     \u001b[39mif\u001b[39;00m p_opt \u001b[39m<\u001b[39m opt:\n",
      "File \u001b[0;32m~/miniconda3/envs/thesis/lib/python3.9/multiprocessing/process.py:149\u001b[0m, in \u001b[0;36mBaseProcess.join\u001b[0;34m(self, timeout)\u001b[0m\n\u001b[1;32m    <a href='file:///home/ricardo/miniconda3/envs/thesis/lib/python3.9/multiprocessing/process.py?line=146'>147</a>\u001b[0m \u001b[39massert\u001b[39;00m \u001b[39mself\u001b[39m\u001b[39m.\u001b[39m_parent_pid \u001b[39m==\u001b[39m os\u001b[39m.\u001b[39mgetpid(), \u001b[39m'\u001b[39m\u001b[39mcan only join a child process\u001b[39m\u001b[39m'\u001b[39m\n\u001b[1;32m    <a href='file:///home/ricardo/miniconda3/envs/thesis/lib/python3.9/multiprocessing/process.py?line=147'>148</a>\u001b[0m \u001b[39massert\u001b[39;00m \u001b[39mself\u001b[39m\u001b[39m.\u001b[39m_popen \u001b[39mis\u001b[39;00m \u001b[39mnot\u001b[39;00m \u001b[39mNone\u001b[39;00m, \u001b[39m'\u001b[39m\u001b[39mcan only join a started process\u001b[39m\u001b[39m'\u001b[39m\n\u001b[0;32m--> <a href='file:///home/ricardo/miniconda3/envs/thesis/lib/python3.9/multiprocessing/process.py?line=148'>149</a>\u001b[0m res \u001b[39m=\u001b[39m \u001b[39mself\u001b[39;49m\u001b[39m.\u001b[39;49m_popen\u001b[39m.\u001b[39;49mwait(timeout)\n\u001b[1;32m    <a href='file:///home/ricardo/miniconda3/envs/thesis/lib/python3.9/multiprocessing/process.py?line=149'>150</a>\u001b[0m \u001b[39mif\u001b[39;00m res \u001b[39mis\u001b[39;00m \u001b[39mnot\u001b[39;00m \u001b[39mNone\u001b[39;00m:\n\u001b[1;32m    <a href='file:///home/ricardo/miniconda3/envs/thesis/lib/python3.9/multiprocessing/process.py?line=150'>151</a>\u001b[0m     _children\u001b[39m.\u001b[39mdiscard(\u001b[39mself\u001b[39m)\n",
      "File \u001b[0;32m~/miniconda3/envs/thesis/lib/python3.9/multiprocessing/popen_fork.py:43\u001b[0m, in \u001b[0;36mPopen.wait\u001b[0;34m(self, timeout)\u001b[0m\n\u001b[1;32m     <a href='file:///home/ricardo/miniconda3/envs/thesis/lib/python3.9/multiprocessing/popen_fork.py?line=40'>41</a>\u001b[0m             \u001b[39mreturn\u001b[39;00m \u001b[39mNone\u001b[39;00m\n\u001b[1;32m     <a href='file:///home/ricardo/miniconda3/envs/thesis/lib/python3.9/multiprocessing/popen_fork.py?line=41'>42</a>\u001b[0m     \u001b[39m# This shouldn't block if wait() returned successfully.\u001b[39;00m\n\u001b[0;32m---> <a href='file:///home/ricardo/miniconda3/envs/thesis/lib/python3.9/multiprocessing/popen_fork.py?line=42'>43</a>\u001b[0m     \u001b[39mreturn\u001b[39;00m \u001b[39mself\u001b[39;49m\u001b[39m.\u001b[39;49mpoll(os\u001b[39m.\u001b[39;49mWNOHANG \u001b[39mif\u001b[39;49;00m timeout \u001b[39m==\u001b[39;49m \u001b[39m0.0\u001b[39;49m \u001b[39melse\u001b[39;49;00m \u001b[39m0\u001b[39;49m)\n\u001b[1;32m     <a href='file:///home/ricardo/miniconda3/envs/thesis/lib/python3.9/multiprocessing/popen_fork.py?line=43'>44</a>\u001b[0m \u001b[39mreturn\u001b[39;00m \u001b[39mself\u001b[39m\u001b[39m.\u001b[39mreturncode\n",
      "File \u001b[0;32m~/miniconda3/envs/thesis/lib/python3.9/multiprocessing/popen_fork.py:27\u001b[0m, in \u001b[0;36mPopen.poll\u001b[0;34m(self, flag)\u001b[0m\n\u001b[1;32m     <a href='file:///home/ricardo/miniconda3/envs/thesis/lib/python3.9/multiprocessing/popen_fork.py?line=24'>25</a>\u001b[0m \u001b[39mif\u001b[39;00m \u001b[39mself\u001b[39m\u001b[39m.\u001b[39mreturncode \u001b[39mis\u001b[39;00m \u001b[39mNone\u001b[39;00m:\n\u001b[1;32m     <a href='file:///home/ricardo/miniconda3/envs/thesis/lib/python3.9/multiprocessing/popen_fork.py?line=25'>26</a>\u001b[0m     \u001b[39mtry\u001b[39;00m:\n\u001b[0;32m---> <a href='file:///home/ricardo/miniconda3/envs/thesis/lib/python3.9/multiprocessing/popen_fork.py?line=26'>27</a>\u001b[0m         pid, sts \u001b[39m=\u001b[39m os\u001b[39m.\u001b[39;49mwaitpid(\u001b[39mself\u001b[39;49m\u001b[39m.\u001b[39;49mpid, flag)\n\u001b[1;32m     <a href='file:///home/ricardo/miniconda3/envs/thesis/lib/python3.9/multiprocessing/popen_fork.py?line=27'>28</a>\u001b[0m     \u001b[39mexcept\u001b[39;00m \u001b[39mOSError\u001b[39;00m:\n\u001b[1;32m     <a href='file:///home/ricardo/miniconda3/envs/thesis/lib/python3.9/multiprocessing/popen_fork.py?line=28'>29</a>\u001b[0m         \u001b[39m# Child process not yet created. See #1731717\u001b[39;00m\n\u001b[1;32m     <a href='file:///home/ricardo/miniconda3/envs/thesis/lib/python3.9/multiprocessing/popen_fork.py?line=29'>30</a>\u001b[0m         \u001b[39m# e.errno == errno.ECHILD == 10\u001b[39;00m\n\u001b[1;32m     <a href='file:///home/ricardo/miniconda3/envs/thesis/lib/python3.9/multiprocessing/popen_fork.py?line=30'>31</a>\u001b[0m         \u001b[39mreturn\u001b[39;00m \u001b[39mNone\u001b[39;00m\n",
      "\u001b[0;31mKeyboardInterrupt\u001b[0m: "
     ]
    }
   ],
   "source": [
    "weights = []\n",
    "loss_values = []\n",
    "training_data = []\n",
    "testing_data = []\n",
    "max_iterations = 50\n",
    "optimizers_strings = ['COBYLA','SPSA','POWELL','P_BFGS','L_BFGS_B','NELDER_MEAD','CG']\n",
    "optimizers = [COBYLA(maxiter=max_iterations), SPSA(maxiter=max_iterations), POWELL(maxiter=max_iterations), ADAM(amsgrad=True, maxiter=max_iterations),\n",
    "P_BFGS(maxfun=max_iterations), L_BFGS_B(maxiter=max_iterations), NELDER_MEAD(maxiter=max_iterations), CG(maxiter=max_iterations)]\n",
    "global model_weights\n",
    "global objective_func_vals\n",
    "for optimizer in optimizers:\n",
    "    model_weights = []\n",
    "    objective_func_vals = []\n",
    "    classifier = get_classifier(circuit.copy(), optimizer=optimizer)\n",
    "    score_train, score_test = fit_and_score(classifier, problems_reorg, solution)\n",
    "    training_data.append(score_train)\n",
    "    testing_data.append(score_test)\n",
    "    weights.append(model_weights)\n",
    "    loss_values.append(objective_func_vals)\n",
    "    display(print('optimizer done'))"
   ]
  }
 ],
 "metadata": {
  "interpreter": {
   "hash": "50d08dd0d611dadcb9089d5d7c1d9b5812cef9b8fe953ac568fb854525141b9b"
  },
  "kernelspec": {
   "display_name": "Python 3.9.7 ('thesis')",
   "language": "python",
   "name": "python3"
  },
  "language_info": {
   "codemirror_mode": {
    "name": "ipython",
    "version": 3
   },
   "file_extension": ".py",
   "mimetype": "text/x-python",
   "name": "python",
   "nbconvert_exporter": "python",
   "pygments_lexer": "ipython3",
   "version": "3.9.12"
  },
  "orig_nbformat": 4
 },
 "nbformat": 4,
 "nbformat_minor": 2
}
