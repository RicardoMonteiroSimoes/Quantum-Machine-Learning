{
 "cells": [
  {
   "cell_type": "markdown",
   "id": "b0514670",
   "metadata": {},
   "source": [
    "## 01 Imports"
   ]
  },
  {
   "cell_type": "code",
   "execution_count": 1,
   "id": "c76180d4",
   "metadata": {},
   "outputs": [],
   "source": [
    "import pythonlib.helpers as hlp\n",
    "import os\n",
    "import numpy as np\n",
    "\n",
    "# Pennylane \n",
    "import pennylane as qml\n",
    "\n",
    "# Qiskit Imports\n",
    "from qiskit.utils import QuantumInstance\n",
    "from qiskit import IBMQ, BasicAer"
   ]
  },
  {
   "cell_type": "code",
   "execution_count": 2,
   "id": "ac336e75",
   "metadata": {},
   "outputs": [
    {
     "data": {
      "text/plain": [
       "<module 'pythonlib.helpers' from '/Users/phuber/git/ZHAW/BA/Quantum-Machine-Learning/code/svm/pythonlib/helpers.py'>"
      ]
     },
     "execution_count": 2,
     "metadata": {},
     "output_type": "execute_result"
    }
   ],
   "source": [
    "# Rerun this section after changes in hlp\n",
    "from importlib import reload\n",
    "reload(hlp)"
   ]
  },
  {
   "cell_type": "markdown",
   "id": "44476983",
   "metadata": {},
   "source": [
    "## 02 Global Parameters"
   ]
  },
  {
   "cell_type": "code",
   "execution_count": 3,
   "id": "71e70e1f",
   "metadata": {},
   "outputs": [],
   "source": [
    "N_LAYERS = 2\n",
    "\n",
    "SHOTS = 1024 \n",
    "NUMBER_DATASETS = 5\n",
    "NUMBER_RUNS = 13\n",
    "NUMBER_SAMPLES = 100\n",
    "# FILES\n",
    "DATASET_FILE = os.getcwd() + '/../datasets/datasets.data'\n",
    "FEATUREMAP_FILE = os.getcwd() + '/../datasets/feature_maps.data'\n",
    "EXPERIMENT_FILE = os.getcwd() + '/../datasets/quantum_simulator.csv'"
   ]
  },
  {
   "cell_type": "markdown",
   "id": "76665ebe",
   "metadata": {},
   "source": [
    "## 03 Data for Experiment"
   ]
  },
  {
   "cell_type": "markdown",
   "id": "786d4014",
   "metadata": {},
   "source": [
    "### 03.1 Dataset"
   ]
  },
  {
   "cell_type": "code",
   "execution_count": 4,
   "id": "1daf6020",
   "metadata": {},
   "outputs": [],
   "source": [
    "data_sets = hlp.load_data(DATASET_FILE)"
   ]
  },
  {
   "cell_type": "code",
   "execution_count": 5,
   "id": "1e4608c8",
   "metadata": {},
   "outputs": [],
   "source": [
    "hlp.verify_datasets_integrity(data_sets,number_datasets=NUMBER_DATASETS,\n",
    "                              number_samples=NUMBER_SAMPLES,number_runs=NUMBER_RUNS)"
   ]
  },
  {
   "cell_type": "markdown",
   "id": "e8d8ce80",
   "metadata": {},
   "source": [
    "### 03.2 Feature Maps"
   ]
  },
  {
   "cell_type": "code",
   "execution_count": 6,
   "id": "c11c706d",
   "metadata": {},
   "outputs": [],
   "source": [
    "# feature_maps = hlp.load_data(FEATUREMAP_FILE)"
   ]
  },
  {
   "cell_type": "code",
   "execution_count": 7,
   "id": "c801f213",
   "metadata": {},
   "outputs": [],
   "source": [
    "# hlp.verify_featuremap_set_integrity(data_sets,feature_maps)"
   ]
  },
  {
   "cell_type": "markdown",
   "id": "39f3c436",
   "metadata": {},
   "source": [
    "## 04 Quantum Simulator"
   ]
  },
  {
   "cell_type": "code",
   "execution_count": 8,
   "id": "528f4195",
   "metadata": {},
   "outputs": [],
   "source": [
    "quantum_simulator = QuantumInstance(BasicAer.get_backend('qasm_simulator'), shots=SHOTS)"
   ]
  },
  {
   "cell_type": "code",
   "execution_count": 9,
   "id": "98539ced",
   "metadata": {},
   "outputs": [],
   "source": [
    "# https://qiskit.org/documentation/apidoc/providers_basicaer.html\n",
    "# quantum_simulator = BasicAer.get_backend('qasm_simulator')"
   ]
  },
  {
   "cell_type": "markdown",
   "id": "e3f61305",
   "metadata": {},
   "source": [
    "## 05 Experiment: Quantum Kernel Estimator"
   ]
  },
  {
   "cell_type": "markdown",
   "id": "d2845720",
   "metadata": {},
   "source": [
    "After this part, execute cells one by one. Do not open file during execution(copy, then read), don't forget to back up."
   ]
  },
  {
   "cell_type": "code",
   "execution_count": 10,
   "id": "d81d657d",
   "metadata": {},
   "outputs": [],
   "source": [
    "#_ = hlp.run_experiment([data_sets[21]],feature_maps[3],['qasm_simulator',quantum_simulator],feature_maps_selector=['z'],entanglement=['f'],targetfile=EXPERIMENT_FILE)"
   ]
  },
  {
   "cell_type": "code",
   "execution_count": 11,
   "id": "163b676e",
   "metadata": {},
   "outputs": [],
   "source": [
    "#_ = hlp.run_experiment([data_sets[i] for i in [1,11,21,31,41]],feature_maps[3],['qasm_simulator',quantum_simulator],feature_maps_selector=['z'],targetfile=EXPERIMENT_FILE)"
   ]
  },
  {
   "cell_type": "code",
   "execution_count": 12,
   "id": "8a346cd8",
   "metadata": {},
   "outputs": [
    {
     "name": "stdout",
     "output_type": "stream",
     "text": [
      "Running dataset \"custom\" (id: 1) with 5 layers\n",
      "→ running qml_circuit_qiskit_01\n",
      "Mean Accuracy training: 0.5875\n",
      "Mean Accuracy testing: 0.4\n",
      "→ running qml_circuit_qiskit_02\n",
      "Mean Accuracy training: 0.6125\n",
      "Mean Accuracy testing: 0.35\n",
      "→ running qml_circuit_qiskit_03\n",
      "Mean Accuracy training: 0.625\n",
      "Mean Accuracy testing: 0.4\n",
      "\n",
      "\n",
      "Running dataset \"iris\" (id: 14) with 5 layers\n",
      "→ running qml_circuit_qiskit_01\n",
      "Mean Accuracy training: 1.0\n",
      "Mean Accuracy testing: 1.0\n",
      "→ running qml_circuit_qiskit_02\n",
      "Mean Accuracy training: 1.0\n",
      "Mean Accuracy testing: 1.0\n",
      "→ running qml_circuit_qiskit_03\n",
      "Mean Accuracy training: 1.0\n",
      "Mean Accuracy testing: 1.0\n",
      "\n",
      "\n",
      "Running dataset \"adhoc\" (id: 27) with 5 layers\n",
      "→ running qml_circuit_qiskit_01\n",
      "Mean Accuracy training: 0.5375\n",
      "Mean Accuracy testing: 0.45\n",
      "→ running qml_circuit_qiskit_02\n",
      "Mean Accuracy training: 0.575\n",
      "Mean Accuracy testing: 0.45\n",
      "→ running qml_circuit_qiskit_03\n",
      "Mean Accuracy training: 0.5\n",
      "Mean Accuracy testing: 0.6\n",
      "\n",
      "\n",
      "Running dataset \"rain\" (id: 40) with 5 layers\n",
      "→ running qml_circuit_qiskit_01\n",
      "Mean Accuracy training: 0.6875\n",
      "Mean Accuracy testing: 0.5\n",
      "→ running qml_circuit_qiskit_02\n",
      "Mean Accuracy training: 0.7125\n",
      "Mean Accuracy testing: 0.65\n",
      "→ running qml_circuit_qiskit_03\n",
      "Mean Accuracy training: 0.75\n",
      "Mean Accuracy testing: 0.75\n",
      "\n",
      "\n",
      "Running dataset \"vlds\" (id: 53) with 5 layers\n",
      "→ running qml_circuit_qiskit_01\n",
      "Mean Accuracy training: 0.75\n",
      "Mean Accuracy testing: 0.8\n",
      "→ running qml_circuit_qiskit_02\n",
      "Mean Accuracy training: 0.8\n",
      "Mean Accuracy testing: 0.75\n",
      "→ running qml_circuit_qiskit_03\n",
      "Mean Accuracy training: 0.7\n",
      "Mean Accuracy testing: 0.75\n",
      "\n",
      "\n"
     ]
    },
    {
     "data": {
      "text/plain": [
       "'Run has been saved to file: runs/run_5-layers_30-03-2022_22-05-05.md'"
      ]
     },
     "execution_count": 12,
     "metadata": {},
     "output_type": "execute_result"
    }
   ],
   "source": [
    "\n",
    "hlp.runCircuits([data_sets[i] for i in [1,14,27,40,53]], n_layers=5)\n",
    "# _ = hlp.run_experiment([data_sets[i] for i in [1,14,27,40,53]],['qasm_simulator',quantum_simulator])\n"
   ]
  },
  {
   "cell_type": "markdown",
   "id": "75255700",
   "metadata": {},
   "source": [
    "Store the kernels this time."
   ]
  }
 ],
 "metadata": {
  "kernelspec": {
   "display_name": "Python 3 (ipykernel)",
   "language": "python",
   "name": "python3"
  },
  "language_info": {
   "codemirror_mode": {
    "name": "ipython",
    "version": 3
   },
   "file_extension": ".py",
   "mimetype": "text/x-python",
   "name": "python",
   "nbconvert_exporter": "python",
   "pygments_lexer": "ipython3",
   "version": "3.9.7"
  }
 },
 "nbformat": 4,
 "nbformat_minor": 5
}
