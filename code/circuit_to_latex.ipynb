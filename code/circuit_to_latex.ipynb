{
 "cells": [
  {
   "cell_type": "code",
   "execution_count": 1,
   "metadata": {},
   "outputs": [],
   "source": [
    "from qiskit import *\n",
    "from qiskit.circuit import Parameter\n",
    "from qiskit.tools.visualization import circuit_drawer\n",
    "from qiskit.quantum_info import Statevector\n",
    "from qiskit.visualization import plot_bloch_multivector, plot_histogram, plot_state_qsphere\n",
    "from qiskit_textbook.widgets import plot_bloch_vector_spherical\n",
    "import numpy as np\n",
    "import matplotlib.pyplot as plt\n",
    "from sklearn.preprocessing import MinMaxScaler\n",
    "\n",
    "\n",
    "import pickle\n",
    "\n",
    "%matplotlib inline\n"
   ]
  },
  {
   "cell_type": "markdown",
   "metadata": {},
   "source": [
    "# Create your circuit below\n"
   ]
  },
  {
   "cell_type": "code",
   "execution_count": 61,
   "metadata": {},
   "outputs": [
    {
     "name": "stdout",
     "output_type": "stream",
     "text": [
      "\\documentclass[border=2px]{standalone}\n",
      "\n",
      "\\usepackage[braket, qm]{qcircuit}\n",
      "\\usepackage{graphicx}\n",
      "\n",
      "\\begin{document}\n",
      "\\scalebox{1.0}{\n",
      "\\Qcircuit @C=1.0em @R=0.2em @!R { \\\\\n",
      "\t \t\\nghost{{q}_{0} :  } & \\lstick{{q}_{0} :  } & \\gate{\\mathrm{H}} & \\gate{\\mathrm{R_Y}\\,(\\mathrm{c_0})} & \\ctrl{2} & \\ctrl{3} & \\gate{\\mathrm{R_X}\\,(\\mathrm{theta_0})} & \\qw & \\qw & \\qw & \\qw\\\\\n",
      "\t \t\\nghost{{q}_{1} :  } & \\lstick{{q}_{1} :  } & \\gate{\\mathrm{H}} & \\gate{\\mathrm{R_Y}\\,(\\mathrm{c_1})} & \\qw & \\qw & \\ctrl{1} & \\ctrl{2} & \\gate{\\mathrm{R_X}\\,(\\mathrm{theta_1})} & \\qw & \\qw\\\\\n",
      "\t \t\\nghost{{q}_{2} :  } & \\lstick{{q}_{2} :  } & \\gate{\\mathrm{H}} & \\gate{\\mathrm{R_Y}\\,(\\mathrm{c_2})} & \\gate{\\mathrm{R_Z}\\,(\\mathrm{s_02})} & \\qw & \\gate{\\mathrm{R_Z}\\,(\\mathrm{s_12})} & \\qw & \\gate{\\mathrm{R_X}\\,(\\mathrm{theta_2})} & \\qw & \\qw\\\\\n",
      "\t \t\\nghost{{q}_{3} :  } & \\lstick{{q}_{3} :  } & \\gate{\\mathrm{H}} & \\gate{\\mathrm{R_Y}\\,(\\mathrm{c_3})} & \\qw & \\gate{\\mathrm{R_Z}\\,(\\mathrm{s_03})} & \\qw & \\gate{\\mathrm{R_Z}\\,(\\mathrm{s_13})} & \\gate{\\mathrm{R_X}\\,(\\mathrm{theta_3})} & \\qw & \\qw\\\\\n",
      "\\\\ }}\n",
      "\\end{document}\n"
     ]
    }
   ],
   "source": [
    "n = 4\n",
    "circuit = QuantumCircuit(n)\n",
    "circuit.h(range(n))\n",
    "for i in range(n):\n",
    "    circuit.ry(Parameter('c_'+str(i)), i)\n",
    "\n",
    "for i in range(int(n/2)):\n",
    "    circuit.crz(Parameter('s_'+str(i)+str(int(n/2))), i, int(n/2))\n",
    "    circuit.crz(Parameter('s_'+str(i)+str(int(n/2)+1)), i, int(n/2)+1)\n",
    "\n",
    "\n",
    "for i in range(n):\n",
    "    circuit.rx(Parameter('theta_'+str(i)), i)\n",
    "\n",
    "\n",
    "print(circuit_drawer(circuit, output=\"latex_source\"))"
   ]
  },
  {
   "cell_type": "code",
   "execution_count": 31,
   "metadata": {},
   "outputs": [
    {
     "data": {
      "image/png": "[encoded data removed]",
      "text/plain": [
       "<Figure size 504x360 with 1 Axes>"
      ]
     },
     "execution_count": 31,
     "metadata": {},
     "output_type": "execute_result"
    }
   ],
   "source": [
    "circuit = QuantumCircuit(1)\n",
    "circuit.h(0)\n",
    "circuit.ry(np.pi/4, 0)\n",
    "circuit.measure_all()\n",
    "backend = Aer.get_backend('qasm_simulator')\n",
    "job = backend.run(transpile(circuit, backend), shots=1024)\n",
    "result = job.result()\n",
    "counts=result.get_counts(circuit)\n",
    "plot_histogram(counts)\n"
   ]
  },
  {
   "cell_type": "markdown",
   "metadata": {},
   "source": [
    "### The following segment will output the latex code you need to insert into your latex document. Make sure that the imports are done correctly!\n"
   ]
  },
  {
   "cell_type": "markdown",
   "metadata": {},
   "source": [
    "```\n",
    "(2,\n",
    "[23, 47, 25, 11],\n",
    "{(0, 2): -6,\n",
    "(0, 3): -4,\n",
    "(1, 2): -13,\n",
    "(1, 3): -6})\n",
    "```"
   ]
  },
  {
   "cell_type": "code",
   "execution_count": 56,
   "metadata": {},
   "outputs": [
    {
     "data": {
      "text/plain": [
       "array([[ 0.15707963],\n",
       "       [ 0.78539816],\n",
       "       [ 0.20943951],\n",
       "       [-0.15707963],\n",
       "       [-0.60213859],\n",
       "       [-0.54977871],\n",
       "       [-0.78539816],\n",
       "       [-0.60213859]])"
      ]
     },
     "execution_count": 56,
     "metadata": {},
     "output_type": "execute_result"
    }
   ],
   "source": [
    "data = [(2,\n",
    "[23, 47, 25, 11],\n",
    "{(0, 2): -6,\n",
    "(0, 3): -4,\n",
    "(1, 2): -13,\n",
    "(1, 3): -6})]\n",
    "\n",
    "values = []\n",
    "for row in data:\n",
    "    values.append(\n",
    "        np.concatenate([row[1],list(row[2].values())])\n",
    "        )\n",
    "\n",
    "scaler = MinMaxScaler((-np.pi/4,np.pi/4))\n",
    "scaled_data = scaler.fit_transform(values[0].reshape(-1, 1))\n",
    "\n",
    "scaled_data"
   ]
  },
  {
   "cell_type": "code",
   "execution_count": 57,
   "metadata": {},
   "outputs": [
    {
     "name": "stdout",
     "output_type": "stream",
     "text": [
      "\\documentclass[border=2px]{standalone}\n",
      "\n",
      "\\usepackage[braket, qm]{qcircuit}\n",
      "\\usepackage{graphicx}\n",
      "\n",
      "\\begin{document}\n",
      "\\scalebox{1.0}{\n",
      "\\Qcircuit @C=1.0em @R=0.2em @!R { \\\\\n",
      "\t \t\\nghost{{q}_{0} :  } & \\lstick{{q}_{0} :  } & \\gate{\\mathrm{H}} & \\gate{\\mathrm{R_Y}\\,(\\mathrm{\\frac{-\\pi}{20}})} & \\ctrl{2} & \\ctrl{3} & \\qw & \\qw & \\qw & \\qw\\\\\n",
      "\t \t\\nghost{{q}_{1} :  } & \\lstick{{q}_{1} :  } & \\gate{\\mathrm{H}} & \\gate{\\mathrm{R_Y}\\,(\\mathrm{\\frac{-\\pi}{4}})} & \\qw & \\qw & \\ctrl{1} & \\ctrl{2} & \\qw & \\qw\\\\\n",
      "\t \t\\nghost{{q}_{2} :  } & \\lstick{{q}_{2} :  } & \\gate{\\mathrm{H}} & \\gate{\\mathrm{R_Y}\\,(\\mathrm{\\frac{-\\pi}{15}})} & \\gate{\\mathrm{R_Z}\\,(\\mathrm{-0.6021})} & \\qw & \\gate{\\mathrm{R_Z}\\,(\\mathrm{\\frac{-\\pi}{4}})} & \\qw & \\qw & \\qw\\\\\n",
      "\t \t\\nghost{{q}_{3} :  } & \\lstick{{q}_{3} :  } & \\gate{\\mathrm{H}} & \\gate{\\mathrm{R_Y}\\,(\\mathrm{\\frac{\\pi}{20}})} & \\qw & \\gate{\\mathrm{R_Z}\\,(\\mathrm{-0.5498})} & \\qw & \\gate{\\mathrm{R_Z}\\,(\\mathrm{-0.6021})} & \\qw & \\qw\\\\\n",
      "\\\\ }}\n",
      "\\end{document}\n"
     ]
    }
   ],
   "source": [
    "circuit = QuantumCircuit(4)\n",
    "circuit.h(range(4))\n",
    "circuit.ry(-0.15707963, 0)\n",
    "circuit.ry(-0.78539816, 1)\n",
    "circuit.ry(-0.20943951, 2)\n",
    "circuit.ry(0.15707963, 3)\n",
    "circuit.crz(-0.60213859, 0, 2)\n",
    "circuit.crz(-0.54977871, 0, 3)\n",
    "circuit.crz(-0.78539816, 1, 2)\n",
    "circuit.crz(-0.60213859, 1, 3)\n",
    "\n",
    "print(circuit_drawer(circuit, output=\"latex_source\"))"
   ]
  },
  {
   "cell_type": "code",
   "execution_count": 24,
   "metadata": {},
   "outputs": [],
   "source": [
    "state = Statevector.from_instruction(QuantumCircuit(1))\n",
    "fig = plot_state_qsphere(state)\n",
    "fig.savefig('../thesis/Appendices/Q_Sphere_State_0.svg', bbox_inches='tight', pad_inches=0)"
   ]
  },
  {
   "cell_type": "code",
   "execution_count": 16,
   "metadata": {},
   "outputs": [],
   "source": [
    "qc = QuantumCircuit(1)\n",
    "qc.x(0)\n",
    "state = Statevector.from_instruction(qc)\n",
    "fig = plot_state_qsphere(state)\n",
    "fig.savefig('../thesis/Appendices/Q_Sphere_State_1.svg', bbox_inches='tight', pad_inches=0)"
   ]
  },
  {
   "cell_type": "code",
   "execution_count": 23,
   "metadata": {},
   "outputs": [],
   "source": [
    "qc = QuantumCircuit(1)\n",
    "qc.h(0)\n",
    "state = Statevector.from_instruction(qc)\n",
    "fig = plot_state_qsphere(state)\n",
    "fig.savefig('../thesis/Appendices/Q_Sphere_State_h.svg', bbox_inches='tight', pad_inches=0)"
   ]
  },
  {
   "cell_type": "code",
   "execution_count": 21,
   "metadata": {},
   "outputs": [],
   "source": [
    "qc = QuantumCircuit(4)\n",
    "qc.h(range(4))\n",
    "state = Statevector.from_instruction(qc)\n",
    "fig = plot_state_qsphere(state)\n",
    "fig.savefig('../thesis/Appendices/Q_Sphere_State_h_multiqubit.svg', bbox_inches='tight', pad_inches=0)"
   ]
  },
  {
   "cell_type": "code",
   "execution_count": 4,
   "metadata": {},
   "outputs": [],
   "source": [
    "qc = QuantumCircuit(1)\n",
    "qc.h(range(1))\n",
    "qc.ry(0.5, 0)\n",
    "state = Statevector.from_instruction(qc)\n",
    "fig = plot_state_qsphere(state)\n",
    "fig.savefig('../thesis/Appendices/Q_Sphere_State_ry_0_5.svg', bbox_inches='tight', pad_inches=0)\n",
    "qc = QuantumCircuit(1)\n",
    "qc.h(range(1))\n",
    "qc.ry(-0.5, 0)\n",
    "state = Statevector.from_instruction(qc)\n",
    "fig = plot_state_qsphere(state)\n",
    "fig.savefig('../thesis/Appendices/Q_Sphere_State_ry_-0_5.svg', bbox_inches='tight', pad_inches=0)"
   ]
  },
  {
   "cell_type": "markdown",
   "metadata": {},
   "source": [
    "#### Use this to generate histograms"
   ]
  },
  {
   "cell_type": "code",
   "execution_count": 7,
   "metadata": {},
   "outputs": [
    {
     "name": "stderr",
     "output_type": "stream",
     "text": [
      "/tmp/ipykernel_685/2013565266.py:6: MatplotlibDeprecationWarning: savefig() got unexpected keyword argument \"type\" which is no longer supported as of 3.3 and will become an error in 3.6\n",
      "  fig.savefig('../thesis/Appendices/example_histogram.svg', type=\"svg\")\n"
     ]
    }
   ],
   "source": [
    "counts = {}\n",
    "counts[0] = 547\n",
    "counts[1] = 987\n",
    "\n",
    "fig = plot_histogram(counts)\n",
    "fig.savefig('../thesis/Appendices/example_histogram.svg', type=\"svg\")"
   ]
  },
  {
   "cell_type": "code",
   "execution_count": 9,
   "metadata": {},
   "outputs": [
    {
     "name": "stderr",
     "output_type": "stream",
     "text": [
      "/tmp/ipykernel_970/890443297.py:12: MatplotlibDeprecationWarning: savefig() got unexpected keyword argument \"type\" which is no longer supported as of 3.3 and will become an error in 3.6\n",
      "  fig.savefig('../thesis/Appendices/calculated_circuit_histogram.svg', type=\"svg\")\n"
     ]
    }
   ],
   "source": [
    "circuit = QuantumCircuit(1)\n",
    "circuit.ry(1.8608, 0)\n",
    "backend = Aer.get_backend('qasm_simulator')\n",
    "\n",
    "circuit.measure_all()\n",
    "job = backend.run(transpile(circuit, backend), shots=5000000)\n",
    "\n",
    "result = job.result()\n",
    "counts=result.get_counts(circuit)\n",
    "fig = plot_histogram(counts)\n",
    "\n",
    "fig.savefig('../thesis/Appendices/calculated_circuit_histogram.svg', type=\"svg\")"
   ]
  },
  {
   "cell_type": "markdown",
   "metadata": {},
   "source": [
    "# Graphs from MQO circuit results"
   ]
  },
  {
   "cell_type": "code",
   "execution_count": 4,
   "metadata": {},
   "outputs": [],
   "source": [
    "#get best ml weight for circuit\n",
    "#load weights\n",
    "weights_path = \"mqo/runs/experiments/optimizer_hyperparameters/amsgrad_final.p\"\n",
    "data = pickle.load(open(weights_path, \"rb\"))[0]\n",
    "results = data['results'][0]\n",
    "best_index = results['scoreTesting'].index(max(results['scoreTesting']))\n",
    "rxweight = results['finalWeights'][best_index][0]"
   ]
  },
  {
   "cell_type": "code",
   "execution_count": 88,
   "metadata": {},
   "outputs": [
    {
     "name": "stdout",
     "output_type": "stream",
     "text": [
      "\\documentclass[border=2px]{standalone}\n",
      "\n",
      "\\usepackage[braket, qm]{qcircuit}\n",
      "\\usepackage{graphicx}\n",
      "\n",
      "\\begin{document}\n",
      "\\scalebox{1.0}{\n",
      "\\Qcircuit @C=1.0em @R=0.2em @!R { \\\\\n",
      "\t \t\\nghost{{q}_{0} :  } & \\lstick{{q}_{0} :  } & \\gate{\\mathrm{H}} & \\gate{\\mathrm{R_Y}\\,(\\mathrm{c_0})} & \\ctrl{2} & \\ctrl{3} & \\gate{\\mathrm{R_X}\\,(\\mathrm{\\frac{\\pi}{4}})} & \\qw & \\qw & \\qw & \\qw\\\\\n",
      "\t \t\\nghost{{q}_{1} :  } & \\lstick{{q}_{1} :  } & \\gate{\\mathrm{H}} & \\gate{\\mathrm{R_Y}\\,(\\mathrm{c_1})} & \\qw & \\qw & \\ctrl{1} & \\ctrl{2} & \\gate{\\mathrm{R_X}\\,(\\mathrm{\\frac{\\pi}{4}})} & \\qw & \\qw\\\\\n",
      "\t \t\\nghost{{q}_{2} :  } & \\lstick{{q}_{2} :  } & \\gate{\\mathrm{H}} & \\gate{\\mathrm{R_Y}\\,(\\mathrm{c_2})} & \\gate{\\mathrm{R_Z}\\,(\\mathrm{s_02})} & \\qw & \\gate{\\mathrm{R_Z}\\,(\\mathrm{s_12})} & \\qw & \\gate{\\mathrm{R_X}\\,(\\mathrm{\\frac{\\pi}{4}})} & \\qw & \\qw\\\\\n",
      "\t \t\\nghost{{q}_{3} :  } & \\lstick{{q}_{3} :  } & \\gate{\\mathrm{H}} & \\gate{\\mathrm{R_Y}\\,(\\mathrm{c_3})} & \\qw & \\gate{\\mathrm{R_Z}\\,(\\mathrm{s_03})} & \\qw & \\gate{\\mathrm{R_Z}\\,(\\mathrm{s_13})} & \\gate{\\mathrm{R_X}\\,(\\mathrm{\\frac{\\pi}{4}})} & \\qw & \\qw\\\\\n",
      "\\\\ }}\n",
      "\\end{document}\n"
     ]
    }
   ],
   "source": [
    "#circuit with ml trained component\n",
    "circuit = QuantumCircuit(4)\n",
    "circuit.h(range(4))\n",
    "for i in range(4):\n",
    "    circuit.ry(Parameter('c_'+str(i)), i)\n",
    "for i in range(2):\n",
    "    for j in range(2,4,1):\n",
    "        circuit.crz(Parameter('s_' + str(i)+str(j)), i, j)\n",
    "circuit.rx(np.pi/4, range(4))\n",
    "print(circuit_drawer(circuit, output=\"latex_source\"))"
   ]
  },
  {
   "cell_type": "code",
   "execution_count": 42,
   "metadata": {},
   "outputs": [],
   "source": [
    "results_ml = \"mqo/runs/experiments/final_runs/static_ml_solver.p\"\n",
    "results_static = \"mqo/runs/experiments/final_runs/static_solver.p\"\n",
    "data_ml = pickle.load(open(results_ml, \"rb\"))\n",
    "data_static = pickle.load(open(results_static, \"rb\"))"
   ]
  },
  {
   "cell_type": "code",
   "execution_count": 18,
   "metadata": {},
   "outputs": [],
   "source": [
    "ml_simulator_filtered_accuracy = data_ml['accuracy_simulator']\n",
    "ml_simulator_parity_accuracy = data_ml['accuracy_parity_simulator']\n",
    "ml_real_hw_filtered_accuracy = data_ml['accuracy_real_hardware']\n",
    "ml_real_hw_parity_accuracy = data_ml['accuracy_parity_real_hardware']\n"
   ]
  },
  {
   "cell_type": "code",
   "execution_count": 20,
   "metadata": {},
   "outputs": [],
   "source": [
    "stc_simulator_accuracy = data_static['accuracy_simulator']\n",
    "stc_real_hw_accuracy = data_static['accuracy_real_hardware']"
   ]
  },
  {
   "cell_type": "code",
   "execution_count": 36,
   "metadata": {},
   "outputs": [
    {
     "data": {
      "image/png": "[encoded data removed]",
      "text/plain": [
       "<Figure size 432x288 with 1 Axes>"
      ]
     },
     "metadata": {
      "needs_background": "light"
     },
     "output_type": "display_data"
    }
   ],
   "source": [
    "boxplot_data = [stc_simulator_accuracy, ml_simulator_filtered_accuracy, ml_simulator_parity_accuracy, stc_real_hw_accuracy, ml_real_hw_filtered_accuracy, ml_real_hw_parity_accuracy]\n",
    "fig, ax = plt.subplots()\n",
    "ax.set_title(\"Comparison of results from test sample runs\")\n",
    "ax.boxplot(boxplot_data, vert=False, labels=['STC_SIM_F', 'ML_SIM_F', 'ML_SIM_P', 'STC_RHW_F', 'ML_RHW_F', 'ML_RHW_P'])\n",
    "ax.set_xlabel(\"Accuracy\")\n",
    "ax.set_ylabel(\"Run\")\n",
    "plt.show()"
   ]
  },
  {
   "cell_type": "code",
   "execution_count": 3,
   "metadata": {},
   "outputs": [],
   "source": [
    "amsgrad_final_training = \"mqo/runs/experiments/optimizer_hyperparameters/amsgrad_final.p\"\n",
    "ml_final_training = pickle.load(open(amsgrad_final_training, \"rb\"))"
   ]
  },
  {
   "cell_type": "code",
   "execution_count": 4,
   "metadata": {},
   "outputs": [],
   "source": [
    "training_scores = ml_final_training[0]['results'][0]['scoreTraining']\n",
    "testing_scores = ml_final_training[0]['results'][0]['scoreTesting']\n",
    "final_weights = np.array(ml_final_training[0]['results'][0]['finalWeights']).flatten()"
   ]
  },
  {
   "cell_type": "code",
   "execution_count": 53,
   "metadata": {},
   "outputs": [
    {
     "data": {
      "text/plain": [
       "0.4533333333333333"
      ]
     },
     "execution_count": 53,
     "metadata": {},
     "output_type": "execute_result"
    }
   ],
   "source": [
    "max(testing_scores)"
   ]
  },
  {
   "cell_type": "code",
   "execution_count": 6,
   "metadata": {},
   "outputs": [
    {
     "data": {
      "image/png": "[encoded data removed]",
      "text/plain": [
       "<Figure size 432x288 with 1 Axes>"
      ]
     },
     "metadata": {
      "needs_background": "light"
     },
     "output_type": "display_data"
    }
   ],
   "source": [
    "boxplot_data = [training_scores, testing_scores]\n",
    "fig, ax = plt.subplots()\n",
    "ax.set_title(\"Comparison of results from AMSGRAD optimization runs\")\n",
    "ax.boxplot(boxplot_data, labels=['Training', 'Testing'])\n",
    "ax.set_ylabel(\"Accuracy\")\n",
    "ax.set_xlabel(\"Set\")\n",
    "plt.show()\n",
    "fig.savefig('../thesis/Appendices/final_amsgrad_training_boxplot.svg')"
   ]
  },
  {
   "cell_type": "code",
   "execution_count": 67,
   "metadata": {},
   "outputs": [],
   "source": [
    "labels = [1,10,25,50,75,100,150,200,350,500,1000,1500,2000,10000]\n",
    "labels = [str(a) for a in labels]\n",
    "distances = [[],[],[],[]]\n",
    "distances[0] = [29.94,45.84,56.5,64.14,68.92,70.3,74.68,76.62,78.4,80.3,82.3,84.02,84.7,86.08]\n",
    "distances[1] = [25.32,27.12,25.34,24.28,21.9,21.18,19.06,17.24,16.16,15.2,13.76,12.86,12.34,11.4]\n",
    "distances[2] = [23.22,16.4,11.72,8.22,6.58,6.06,4.66,5,4.28,3.72,3.52,2.7,2.7,2.42]\n",
    "distances[3] = [21.52,10.64,6.44,3.36,2.6,2.46,1.6,1.14,1.16,0.78,0.42,0.42,0.26,0.1]\n",
    "growth_rate = []\n",
    "for i in range(len(distances[0])):\n",
    "    if i == 0:\n",
    "        growth_rate.append(np.inf)\n",
    "    else:\n",
    "        growth_rate.append(distances[0][i]/distances[0][i-1])\n"
   ]
  },
  {
   "cell_type": "code",
   "execution_count": 85,
   "metadata": {},
   "outputs": [
    {
     "data": {
      "image/png": "[encoded data removed]",
      "text/plain": [
       "<Figure size 432x288 with 2 Axes>"
      ]
     },
     "metadata": {
      "needs_background": "light"
     },
     "output_type": "display_data"
    }
   ],
   "source": [
    "fig, ax = plt.subplots()\n",
    "width = 0.9\n",
    "ax.bar(labels, distances[0], width, label='Distance: ' +str(0))\n",
    "ax.bar(labels, distances[1], width, label='Distance: ' +str(1), bottom=distances[0])\n",
    "ax.bar(labels, distances[2], width, label='Distance: ' +str(2), bottom=np.add(distances[0],distances[1]))\n",
    "ax.bar(labels, distances[3], width, label='Distance: ' +str(3), bottom=np.add(np.add(distances[0],distances[1]),distances[2]))\n",
    "plt.xticks(rotation=45)\n",
    "ax2 = ax.twinx()\n",
    "ax2.plot(growth_rate, label='Growth rate % \\nbest solution', color = 'black', linewidth=3, linestyle='dashed')\n",
    "ax2.legend(bbox_to_anchor=(0.5, 0., 0.5, 0.7))\n",
    "ax.legend(bbox_to_anchor=(0.5, 0., 0.5, 0.5))\n",
    "ax.set_title('Distance to best solution in correlation with amount of shots')\n",
    "ax.set_xlabel('Shots')\n",
    "ax.set_ylabel('Percentile')\n",
    "ax2.set_ylabel('Best result growth rate')\n",
    "plt.show()\n",
    "fig.savefig('../thesis/Appendices/comparison_shots_to_solution.svg')"
   ]
  },
  {
   "cell_type": "code",
   "execution_count": 3,
   "metadata": {},
   "outputs": [
    {
     "name": "stdout",
     "output_type": "stream",
     "text": [
      "['0.830078125', '0.8642578125', '0.85546875', '0.861328125', '0.8544921875', '0.861328125', '0.8388671875', '0.8623046875', '0.8447265625', '0.8408203125', '0.84765625', '0.8740234375', '0.8544921875']\n"
     ]
    },
    {
     "data": {
      "image/png": "[encoded data removed]",
      "text/plain": [
       "<Figure size 432x288 with 1 Axes>"
      ]
     },
     "metadata": {
      "needs_background": "light"
     },
     "output_type": "display_data"
    }
   ],
   "source": [
    "import csv\n",
    "\n",
    "og_path = \"mqo/runs/functionality_analysis/\"\n",
    "max_iter = 13\n",
    "accuracies = []\n",
    "for i in range(1,max_iter+1):\n",
    "    with open(og_path+\"iteration_\"+str(i)+\"_accuracy.csv\", newline='') as csvfile:\n",
    "        reader = csv.reader(csvfile, delimiter=';')\n",
    "        for row in reader:\n",
    "            accuracies.append(row[0])\n",
    "print(accuracies)\n",
    "\n",
    "fig, ax = plt.subplots()\n",
    "ax.set_title(\"Achieved accuracies on static mqo circuit\")\n",
    "ax.boxplot(np.array(accuracies, dtype='float64'))\n",
    "ax.set_ylabel(\"Accuracy\")\n",
    "plt.show()\n",
    "fig.savefig('../thesis/Appendices/static_circuit_accuracies_boxplot.svg')"
   ]
  },
  {
   "cell_type": "code",
   "execution_count": 2,
   "metadata": {},
   "outputs": [],
   "source": [
    "path = 'mqo/runs/experiments/final_runs/'\n",
    "savename = 'all_runs_done_accuracies.p'\n",
    "final_evaluation_data = pickle.load(open(path+savename, \"rb\"))"
   ]
  },
  {
   "cell_type": "code",
   "execution_count": 3,
   "metadata": {},
   "outputs": [],
   "source": [
    "\n",
    "static = {'simulator_acc': final_evaluation_data['static_simulator_filtered_accuracy'],\n",
    "         'simulator_acc_dist': final_evaluation_data['static_simulator_filtered_distances'],\n",
    "         'real_hw_acc': final_evaluation_data['static_real_hw_filtered_accuracy'],\n",
    "         'real_hw_dist': final_evaluation_data['static_real_hw_filtered_distances']}\n",
    "\n",
    "trained = {'simulator_acc_filtered': final_evaluation_data['ml_simulator_filtered_accuracy'],\n",
    "         'simulator_acc_filtered_dist': final_evaluation_data['ml_simulator_filtered_distances'],\n",
    "         'simulator_acc_parity': final_evaluation_data['ml_simulator_parity_accuracy'],\n",
    "         'simulator_acc_parity_dist': final_evaluation_data['ml_simulator_parity_distances'],\n",
    "         'real_hw_acc_filtered': final_evaluation_data['ml_real_hw_filtered_accuracy'],\n",
    "         'real_hw_acc_filtered_dist': final_evaluation_data['ml_real_hw_filtered_distances'],\n",
    "         'real_hw_acc_parity': final_evaluation_data['ml_real_hw_parity_accuracy'],\n",
    "         'real_hw_acc_parity_dist': final_evaluation_data['ml_real_hw_parity_distances']}"
   ]
  },
  {
   "cell_type": "markdown",
   "metadata": {},
   "source": [
    "### Recheck data after doing all runs again"
   ]
  },
  {
   "cell_type": "code",
   "execution_count": 4,
   "metadata": {},
   "outputs": [],
   "source": [
    "path = \"mqo/runs/data/problems_with_solutions.p\"\n",
    "data = pickle.load(open(path, \"rb\"))\n",
    "y_test = data['y_test']\n",
    "y_test_ranking = data['y_test_ranked']"
   ]
  },
  {
   "cell_type": "code",
   "execution_count": 9,
   "metadata": {},
   "outputs": [
    {
     "data": {
      "text/plain": [
       "dict_keys(['ml_simulator_counts', 'ml_real_hw_counts', 'static_simulation_counts', 'static_real_hw_counts'])"
      ]
     },
     "execution_count": 9,
     "metadata": {},
     "output_type": "execute_result"
    }
   ],
   "source": [
    "path_of_counts_final_run = \"mqo/runs/experiments/final_runs/counts_of_runs.p\"\n",
    "all_counts = pickle.load(open(path_of_counts_final_run, \"rb\"))\n",
    "all_counts.keys()"
   ]
  },
  {
   "cell_type": "code",
   "execution_count": 10,
   "metadata": {},
   "outputs": [],
   "source": [
    "ml_counts_simulator = all_counts['ml_simulator_counts']\n",
    "ml_counts_real_hw =  all_counts['ml_real_hw_counts']\n",
    "\n",
    "noml_counts_simulator = all_counts['static_simulation_counts']\n",
    "noml_counts_real_hw = all_counts['static_real_hw_counts']"
   ]
  },
  {
   "cell_type": "markdown",
   "metadata": {},
   "source": [
    "### Accuracy comparison"
   ]
  },
  {
   "cell_type": "code",
   "execution_count": 11,
   "metadata": {},
   "outputs": [],
   "source": [
    "from sklearn.metrics import accuracy_score\n",
    "\n",
    "def filter_counts(counts, keys):\n",
    "    new_counts = {}\n",
    "    for key in keys:\n",
    "        new_counts[key] = counts.get(key, 0)\n",
    "    return new_counts\n",
    "\n",
    "def counts_to_label_array(run, keys):\n",
    "    result = np.zeros(len(keys))\n",
    "    for i, key in enumerate(keys):\n",
    "        result[i] = run.get(key, 0)\n",
    "    return result\n",
    "\n",
    "def score_results(results, solutions):\n",
    "    return accuracy_score(results, solutions)\n",
    "\n",
    "def calculate_parity_accuracy(runs, solution, amount_of_labels):\n",
    "    labels = []\n",
    "    for run in runs:\n",
    "        labels.append([int(max(counts, key=counts.get), 2)%amount_of_labels for counts in run])\n",
    "    accuracy = []\n",
    "    for label in labels:\n",
    "        accuracy.append(accuracy_score(label, y_test))\n",
    "    return accuracy\n",
    "\n",
    "def calculate_filtered_accuracy(runs, solution):\n",
    "    keys = [\"0101\", \"1001\", \"0110\", \"1010\"]\n",
    "    filtered_runs = []\n",
    "    for run in runs:\n",
    "        filtered_runs.append([filter_counts(counts, keys) for counts in run])\n",
    "    accuracy = []\n",
    "    for runs in filtered_runs:\n",
    "        labels = []\n",
    "        for counts in runs:\n",
    "            label_array = list(counts_to_label_array(counts, keys))\n",
    "            max_value = max(label_array)\n",
    "            labels.append(label_array.index(max_value))\n",
    "        accuracy.append(accuracy_score(labels, y_test))\n",
    "    return accuracy"
   ]
  },
  {
   "cell_type": "code",
   "execution_count": 12,
   "metadata": {},
   "outputs": [],
   "source": [
    "noml_counts_real_hw = np.array(noml_counts_real_hw).reshape(13,75)\n",
    "ml_counts_real_hw = np.array(ml_counts_real_hw).reshape(13,75)"
   ]
  },
  {
   "cell_type": "code",
   "execution_count": 13,
   "metadata": {},
   "outputs": [],
   "source": [
    "noml_sim_filtered_acc = calculate_filtered_accuracy(noml_counts_simulator, y_test)\n",
    "noml_sim_parity_acc = calculate_parity_accuracy(noml_counts_simulator, y_test, 4)\n",
    "noml_rhw_filtered_acc = calculate_filtered_accuracy(noml_counts_real_hw, y_test)\n",
    "noml_rhw_parity_acc = calculate_parity_accuracy(noml_counts_real_hw, y_test, 4)\n",
    "ml_sim_filtered_acc = calculate_filtered_accuracy(ml_counts_simulator, y_test)\n",
    "ml_sim_parity_acc = calculate_parity_accuracy(ml_counts_simulator, y_test, 4)\n",
    "ml_rhw_filtered_acc = calculate_filtered_accuracy(ml_counts_real_hw, y_test)\n",
    "ml_rhw_parity_acc = calculate_parity_accuracy(ml_counts_real_hw, y_test, 4)"
   ]
  },
  {
   "cell_type": "code",
   "execution_count": 16,
   "metadata": {},
   "outputs": [
    {
     "data": {
      "image/png": "[encoded data removed]",
      "text/plain": [
       "<Figure size 432x288 with 1 Axes>"
      ]
     },
     "metadata": {
      "needs_background": "light"
     },
     "output_type": "display_data"
    }
   ],
   "source": [
    "boxplot_data = [noml_sim_filtered_acc, ml_sim_filtered_acc, noml_rhw_filtered_acc, ml_rhw_filtered_acc]\n",
    "fig, ax = plt.subplots()\n",
    "ax.set_title(\"Comparison of the NOML and ML circuits using filtered evaluation\")\n",
    "ax.boxplot(boxplot_data, labels=['NOML_SIM', 'ML_SIM', 'NOML_RHW', 'ML_RHW'])\n",
    "ax.set_ylabel(\"Accuracy\")\n",
    "ax.set_xlabel(\"Set\")\n",
    "plt.show()\n",
    "fig.savefig('../thesis/Appendices/comparison_ml_noml_circuit_filtered_acc.svg')"
   ]
  },
  {
   "cell_type": "code",
   "execution_count": 18,
   "metadata": {},
   "outputs": [
    {
     "data": {
      "image/png": "[encoded data removed]",
      "text/plain": [
       "<Figure size 432x288 with 1 Axes>"
      ]
     },
     "metadata": {
      "needs_background": "light"
     },
     "output_type": "display_data"
    }
   ],
   "source": [
    "boxplot_data = [noml_sim_parity_acc, ml_sim_parity_acc, noml_rhw_parity_acc, ml_rhw_parity_acc]\n",
    "fig, ax = plt.subplots()\n",
    "ax.set_title(\"Comparison of the NOML and ML circuits using parity evaluation\")\n",
    "ax.boxplot(boxplot_data, labels=['NOML_SIM', 'ML_SIM', 'NOML_RHW', 'ML_RHW'])\n",
    "ax.set_ylabel(\"Accuracy\")\n",
    "ax.set_xlabel(\"Set\")\n",
    "plt.show()\n",
    "fig.savefig('../thesis/Appendices/comparison_ml_noml_circuit_parity_acc.svg')"
   ]
  },
  {
   "cell_type": "markdown",
   "metadata": {},
   "source": [
    "### Distance comparison"
   ]
  },
  {
   "cell_type": "code",
   "execution_count": 19,
   "metadata": {},
   "outputs": [],
   "source": [
    "def counts_to_label_dict(run, keys):\n",
    "    result = {}\n",
    "    for i, key in enumerate(keys):\n",
    "        result[i] = run.get(key, 0)\n",
    "    return result\n",
    "\n",
    "def calculate_filtered_distance(results, solutions, amount_of_labels):\n",
    "    distances = []\n",
    "    keys = [\"0101\", \"1001\", \"0110\", \"1010\"]\n",
    "    filtered_runs = []\n",
    "    for run in results:\n",
    "        filtered_runs.append([filter_counts(counts, keys) for counts in run])\n",
    "    for run in filtered_runs:\n",
    "        temp_dist = np.zeros(amount_of_labels)\n",
    "        for r,s in zip(run,solutions):\n",
    "            labels = counts_to_label_dict(r, keys)\n",
    "            sorted_labels = list({k: v for k, v in sorted(labels.items(), key=lambda item: item[1], reverse=True)}.keys())\n",
    "            sorted_labels = np.array(sorted_labels)\n",
    "            distance = np.where(s == sorted_labels)[0]\n",
    "            if len(distance) == 0:\n",
    "                continue\n",
    "            else:\n",
    "                temp_dist[distance] += 1\n",
    "        distances.append(temp_dist)\n",
    "    return distances"
   ]
  },
  {
   "cell_type": "code",
   "execution_count": 43,
   "metadata": {},
   "outputs": [],
   "source": [
    "noml_sim_filtered_dist = calculate_filtered_distance(noml_counts_simulator, y_test, 4)\n",
    "noml_real_hw_filtered_dist = calculate_filtered_distance(noml_counts_real_hw, y_test, 4)\n",
    "ml_sim_filtered_dist = calculate_filtered_distance(ml_counts_simulator, y_test, 4)\n",
    "ml_real_hw_filtered_dist = calculate_filtered_distance(ml_counts_real_hw, y_test, 4)"
   ]
  },
  {
   "cell_type": "code",
   "execution_count": 25,
   "metadata": {},
   "outputs": [],
   "source": [
    "total_elements = np.sum(noml_sim_filtered_dist[0])"
   ]
  },
  {
   "cell_type": "code",
   "execution_count": 45,
   "metadata": {},
   "outputs": [],
   "source": [
    "noml_sim_filtered_dist_boxplot = [np.array(noml_sim_filtered_dist_perc)[:,0],\n",
    "                                np.array(noml_sim_filtered_dist_perc)[:,1],\n",
    "                                np.array(noml_sim_filtered_dist_perc)[:,2],\n",
    "                                np.array(noml_sim_filtered_dist_perc)[:,3]]\n",
    "\n",
    "noml_real_hw_filtered_dist_boxplot = [np.array(noml_real_hw_filtered_dist_perc)[:,0],\n",
    "                                np.array(noml_real_hw_filtered_dist_perc)[:,1],\n",
    "                                np.array(noml_real_hw_filtered_dist_perc)[:,2],\n",
    "                                np.array(noml_real_hw_filtered_dist_perc)[:,3]]\n",
    "\n",
    "ml_sim_filtered_dist_boxplot = [np.array(ml_sim_filtered_dist_perc)[:,0],\n",
    "                                np.array(ml_sim_filtered_dist_perc)[:,1],\n",
    "                                np.array(ml_sim_filtered_dist_perc)[:,2],\n",
    "                                np.array(ml_sim_filtered_dist_perc)[:,3]]\n",
    "\n",
    "ml_real_hw_filtered_dist_boxplot = [np.array(ml_real_hw_filtered_dist_perc)[:,0],\n",
    "                                np.array(ml_real_hw_filtered_dist_perc)[:,1],\n",
    "                                np.array(ml_real_hw_filtered_dist_perc)[:,2],\n",
    "                                np.array(ml_real_hw_filtered_dist_perc)[:,3]]"
   ]
  },
  {
   "cell_type": "code",
   "execution_count": 37,
   "metadata": {},
   "outputs": [],
   "source": [
    "noml_sim_filtered_dist_boxplot = np.divide(noml_sim_filtered_dist_boxplot, total_elements/100)\n",
    "noml_real_hw_filtered_dist_boxplot = np.divide(noml_real_hw_filtered_dist_boxplot, total_elements/100)\n",
    "ml_sim_filtered_dist_boxplot = np.divide(ml_sim_filtered_dist_boxplot, total_elements/100)\n",
    "ml_real_hw_filtered_dist_boxplot = np.divide(ml_real_hw_filtered_dist_boxplot, total_elements/100)\n"
   ]
  },
  {
   "cell_type": "code",
   "execution_count": 70,
   "metadata": {},
   "outputs": [
    {
     "ename": "TypeError",
     "evalue": "Field elements must be 2- or 3-tuples, got 'array([73.33333333, 74.66666667, 81.33333333, 81.33333333, 81.33333333,\n       78.66666667, 77.33333333, 77.33333333, 77.33333333, 74.66666667,\n       80.        , 80.        , 78.66666667])'",
     "output_type": "error",
     "traceback": [
      "\u001b[0;31m---------------------------------------------------------------------------\u001b[0m",
      "\u001b[0;31mTypeError\u001b[0m                                 Traceback (most recent call last)",
      "\u001b[1;32m/mnt/c/Users/ricar/Documents/GitHub/Quantum-Machine-Learning/code/circuit_to_latex.ipynb Cell 50'\u001b[0m in \u001b[0;36m<cell line: 1>\u001b[0;34m()\u001b[0m\n\u001b[0;32m----> <a href='vscode-notebook-cell://wsl%2Bubuntu/mnt/c/Users/ricar/Documents/GitHub/Quantum-Machine-Learning/code/circuit_to_latex.ipynb#ch0000054vscode-remote?line=0'>1</a>\u001b[0m noml_dist \u001b[39m=\u001b[39m np\u001b[39m.\u001b[39;49marray(noml_sim_filtered_dist_boxplot, noml_real_hw_filtered_dist_boxplot)\n\u001b[1;32m      <a href='vscode-notebook-cell://wsl%2Bubuntu/mnt/c/Users/ricar/Documents/GitHub/Quantum-Machine-Learning/code/circuit_to_latex.ipynb#ch0000054vscode-remote?line=1'>2</a>\u001b[0m ml_dist \u001b[39m=\u001b[39m np\u001b[39m.\u001b[39marray(ml_sim_filtered_dist_boxplot, ml_real_hw_filtered_dist_boxplot)\n",
      "\u001b[0;31mTypeError\u001b[0m: Field elements must be 2- or 3-tuples, got 'array([73.33333333, 74.66666667, 81.33333333, 81.33333333, 81.33333333,\n       78.66666667, 77.33333333, 77.33333333, 77.33333333, 74.66666667,\n       80.        , 80.        , 78.66666667])'"
     ]
    }
   ],
   "source": [
    "noml_dist = np.array(noml_sim_filtered_dist_boxplot, noml_real_hw_filtered_dist_boxplot)\n",
    "ml_dist = np.array(ml_sim_filtered_dist_boxplot, ml_real_hw_filtered_dist_boxplot)"
   ]
  },
  {
   "cell_type": "code",
   "execution_count": 98,
   "metadata": {},
   "outputs": [
    {
     "data": {
      "image/png": "[encoded data removed]",
      "text/plain": [
       "<Figure size 720x288 with 2 Axes>"
      ]
     },
     "metadata": {
      "needs_background": "light"
     },
     "output_type": "display_data"
    }
   ],
   "source": [
    "fig, axs = plt.subplots(1,2, sharey=True)\n",
    "fig.set_figwidth(10)\n",
    "plt.ylim((0,100))\n",
    "axs[0].boxplot(noml_sim_filtered_dist_boxplot, labels=['Best', '2nd', '3rd', 'Worst'])\n",
    "axs[0].grid()\n",
    "axs[0].set_title(\"NOML Simulator\")\n",
    "axs[1].boxplot(noml_real_hw_filtered_dist_boxplot, labels=['Best', '2nd', '3rd', 'Worst'])\n",
    "axs[1].grid()\n",
    "axs[0].set_ylabel('Achieved percentage')\n",
    "axs[0].set_xlabel('Evaluated solution')\n",
    "axs[1].set_xlabel('Evaluated solution')\n",
    "axs[1].set_title(\"NOML Real HW\")\n",
    "#plt.yscale('symlog')\n",
    "plt.show()\n",
    "fig.savefig('../thesis/Appendices/comparison_noml_sim_rhw_distanec.svg')\n",
    "fig, axs = plt.subplots(1,2, sharey=True)\n",
    "plt.ylim((0,100))\n",
    "axs[0].boxplot(ml_sim_filtered_dist_boxplot, labels=['Best', '2nd', '3rd', 'Worst'])\n",
    "axs[0].grid()\n",
    "axs[0].set_ylabel('Achieved percentage')\n",
    "axs[0].set_xlabel('Evaluated solution')\n",
    "axs[1].set_xlabel('Evaluated solution')\n",
    "axs[0].set_title(\"ML Simulator\")\n",
    "axs[1].boxplot(ml_real_hw_filtered_dist_boxplot, labels=['Best', '2nd', '3rd', 'Worst'])\n",
    "axs[1].grid()\n",
    "axs[1].set_title(\"ML Real HW\")\n",
    "fig.set_figwidth(10)\n",
    "plt.show()\n",
    "fig.savefig('../thesis/Appendices/comparison_ml_sim_rhw_distanec.svg')"
   ]
  }
 ],
 "metadata": {
  "interpreter": {
   "hash": "50d08dd0d611dadcb9089d5d7c1d9b5812cef9b8fe953ac568fb854525141b9b"
  },
  "kernelspec": {
   "display_name": "Python 3.9.7 ('thesis')",
   "language": "python",
   "name": "python3"
  },
  "language_info": {
   "codemirror_mode": {
    "name": "ipython",
    "version": 3
   },
   "file_extension": ".py",
   "mimetype": "text/x-python",
   "name": "python",
   "nbconvert_exporter": "python",
   "pygments_lexer": "ipython3",
   "version": "3.9.7"
  },
  "orig_nbformat": 4
 },
 "nbformat": 4,
 "nbformat_minor": 2
}
